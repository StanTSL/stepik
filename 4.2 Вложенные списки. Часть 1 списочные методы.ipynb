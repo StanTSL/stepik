{
 "cells": [
  {
   "cell_type": "markdown",
   "id": "1692e887",
   "metadata": {},
   "source": [
    "## Тема урока: вложенные списки\n",
    "1. Вложенные списки\n",
    "2. Объявление и индексация\n",
    "3. Функции len(), max(), min()\n",
    "4. Списочные методы\n",
    "\n",
    "Аннотация. Урок посвящен вложенным спискам, то есть спискам, входящим в качестве элементов в другие списки.\n",
    "\n",
    "### Введение\n",
    "Как мы уже знаем, список представляет собой упорядоченную последовательность элементов, пронумерованных от 0. Элементами списка могут быть **любые типы данных** – числа, строки, булевы значения и т.д. Например,"
   ]
  },
  {
   "cell_type": "code",
   "execution_count": 1,
   "id": "ef4d7cc4",
   "metadata": {},
   "outputs": [],
   "source": [
    "numbers = [10, 3]\n",
    "constants = [3.1415, 2.71828, 1.1415]\n",
    "countries = ['Russia', 'Armenia', 'Argentina']\n",
    "flags = [True, False]"
   ]
  },
  {
   "cell_type": "code",
   "execution_count": 2,
   "id": "653f4455",
   "metadata": {},
   "outputs": [
    {
     "data": {
      "text/plain": [
       "1992"
      ]
     },
     "execution_count": 2,
     "metadata": {},
     "output_type": "execute_result"
    }
   ],
   "source": [
    "info = ['Timur', 1992, 72.5]\n",
    "info[1]"
   ]
  },
  {
   "cell_type": "markdown",
   "id": "20b1fcb1",
   "metadata": {},
   "source": [
    "### Вложенные списки\n",
    "Оказывается, элементами списков могут быть другие списки и на практике такая конструкция оказывается очень полезной. Такие списки называются **вложенными списками**.\n",
    "\n",
    "#### Создание вложенного списка\n",
    "Работа с вложенными списками принципиально ничем не отличается от работы со списками, например, чисел или строк. Чтобы создать вложенный список, мы также перечисляем элементы через запятую в квадратных скобках:"
   ]
  },
  {
   "cell_type": "code",
   "execution_count": 3,
   "id": "191627f4",
   "metadata": {},
   "outputs": [],
   "source": [
    "my_list = [[0], [1, 2], [3, 4, 5]]"
   ]
  },
  {
   "cell_type": "markdown",
   "id": "33766ca4",
   "metadata": {},
   "source": [
    "Переменная my_list ссылается на список, состоящий из других списков (с вложенными списками).\n",
    "\n",
    "Поскольку глубина вложенности списка my_list **равна двум**, то такой список обычно называют **двумерным списком**. На практике, как правило, мы работаем с двумерными списками, реже с трехмерными.\n",
    "\n",
    "Рассмотрим программный код:"
   ]
  },
  {
   "cell_type": "code",
   "execution_count": 5,
   "id": "b7738cbd",
   "metadata": {},
   "outputs": [
    {
     "name": "stdout",
     "output_type": "stream",
     "text": [
      "[[0], [1, 2], [3, 4, 5]]\n",
      "[0]\n",
      "[1, 2]\n",
      "[3, 4, 5]\n",
      "3\n"
     ]
    }
   ],
   "source": [
    "print(my_list) #  строка 1 создает список и присваивает его переменной my_list. \n",
    "               #  Список имеет три элемента, и каждый элемент тоже является списком\n",
    "print(my_list[0])\n",
    "print(my_list[1])\n",
    "print(my_list[2])\n",
    "print(len(my_list))"
   ]
  },
  {
   "cell_type": "markdown",
   "id": "343e0c88",
   "metadata": {},
   "source": [
    "#### Индексация\n",
    "При работе с одномерными списками мы использовали индексацию, то есть обращение к конкретному элементу по его индексу. Аналогично можно индексировать и вложенные списки:"
   ]
  },
  {
   "cell_type": "code",
   "execution_count": 6,
   "id": "47fdd2b9",
   "metadata": {},
   "outputs": [
    {
     "name": "stdout",
     "output_type": "stream",
     "text": [
      "Python\n",
      "[10, 20, 30]\n",
      "['Beegeek', 'Stepik']\n"
     ]
    }
   ],
   "source": [
    "my_list = ['Python', [10, 20, 30], ['Beegeek', 'Stepik']]\n",
    "\n",
    "print(my_list[0])\n",
    "print(my_list[1])\n",
    "print(my_list[2])"
   ]
  },
  {
   "cell_type": "markdown",
   "id": "75a0b077",
   "metadata": {},
   "source": [
    "Так как элементы списка my_list – строка и списки, их также можно индексировать.\n",
    "\n",
    "Рассмотрим программный код:"
   ]
  },
  {
   "cell_type": "code",
   "execution_count": 7,
   "id": "f26e1de9",
   "metadata": {},
   "outputs": [
    {
     "name": "stdout",
     "output_type": "stream",
     "text": [
      "t\n",
      "20\n",
      "Stepik\n",
      "k\n"
     ]
    }
   ],
   "source": [
    "print(my_list[0][2])       # индексирование строки 'Python'\n",
    "print(my_list[1][1])       # индексирование списка [10, 20, 30]\n",
    "print(my_list[2][-1])      # индексирование списка ['Beegeek', 'Stepik!']\n",
    "print(my_list[2][-1][-1])  # индексирование строки 'Stepik!'"
   ]
  },
  {
   "cell_type": "markdown",
   "id": "907983fe",
   "metadata": {},
   "source": [
    "Попытка обратиться к элементу списка по несуществующему индексу:\n",
    "\n",
    "     print(my_list[3])          # у списка my_list индексы от 0 до 2\n",
    "\n",
    "**вызовет ошибку**: IndexError: index out of range"
   ]
  },
  {
   "cell_type": "markdown",
   "id": "ea2f60ae",
   "metadata": {},
   "source": [
    "### Функции len(), max(), min()\n",
    "В прошлом курсе мы рассматривали встроенные функции max(), min(), len(), полезные и при работе с вложенными списками (обработке вложенных списков).\n",
    "\n",
    "#### Функция len()\n",
    "Рассмотрим программный код:"
   ]
  },
  {
   "cell_type": "code",
   "execution_count": 8,
   "id": "9f46afd1",
   "metadata": {},
   "outputs": [
    {
     "name": "stdout",
     "output_type": "stream",
     "text": [
      "5\n"
     ]
    }
   ],
   "source": [
    "my_list = [[0], [1, 2], [3, 4, 5], [], [10, 20, 30]]\n",
    "\n",
    "print(len(my_list))"
   ]
  },
  {
   "cell_type": "markdown",
   "id": "9883f495",
   "metadata": {},
   "source": [
    "Обратите внимание, встроенная функция len() возвращает количество элементов (число 5) списка my_list, а не общее количество элементов во всех списках (число 9).\n",
    "\n",
    "Если требуется **посчитать общее количество элементов** во вложенном списке my_list, мы можем использовать цикл for в связке с функцией len():"
   ]
  },
  {
   "cell_type": "code",
   "execution_count": 10,
   "id": "8896b29b",
   "metadata": {},
   "outputs": [
    {
     "name": "stdout",
     "output_type": "stream",
     "text": [
      "9\n"
     ]
    }
   ],
   "source": [
    "total = 0\n",
    "my_list = [[0], [1, 2], [3, 4, 5], [], [10, 20, 30]]  # не считает []\n",
    "\n",
    "for li in my_list:\n",
    "    total += len(li)\n",
    "\n",
    "print(total)"
   ]
  },
  {
   "cell_type": "markdown",
   "id": "b2bf30ca",
   "metadata": {},
   "source": [
    "#### Функции min() и max()\n",
    "Функции min() и max() могут работать и со списками. Если этим функциям передается несколько списков, то целиком возвращается один из переданных списков. При этом сравнение происходит поэлементно: сначала **сравниваются первые элементы списков**. Если они не равны, то функция min() вернет тот список, первый элемент которого меньше, max() – наоборот. Если первые элементы равны, то будут сравниваться вторые и т. д.\n",
    "\n",
    "Рассмотрим программный код:"
   ]
  },
  {
   "cell_type": "code",
   "execution_count": 13,
   "id": "96232244",
   "metadata": {},
   "outputs": [
    {
     "name": "stdout",
     "output_type": "stream",
     "text": [
      "[1, 7, 12, 0, 9, 100]\n",
      "[1, 10]\n"
     ]
    }
   ],
   "source": [
    "list1 = [1, 7, 12, 0, 9, 100]  # т.е.сравнивается его длина\n",
    "list2 = [1, 7, 90] \n",
    "list3 = [1, 10]\n",
    "\n",
    "print(min(list1, list2, list3))\n",
    "print(max(list1, list2, list3))"
   ]
  },
  {
   "cell_type": "markdown",
   "id": "4c232c8b",
   "metadata": {},
   "source": [
    "Функции min() и max() также можно использовать при работе с вложенными списками. Рассмотрим программный код:"
   ]
  },
  {
   "cell_type": "code",
   "execution_count": 14,
   "id": "ff000697",
   "metadata": {},
   "outputs": [
    {
     "name": "stdout",
     "output_type": "stream",
     "text": [
      "[1, 7, 12, 0, 9, 100]\n",
      "[1, 10]\n",
      "['a']\n",
      "['d', 'p', 'q']\n"
     ]
    }
   ],
   "source": [
    "list1 = [[1, 7, 12, 0, 9, 100], [1, 7, 90], [1, 10]]\n",
    "list2 = [['a', 'b'], ['a'], ['d', 'p', 'q']]\n",
    "\n",
    "print(min(list1))\n",
    "print(max(list1))\n",
    "print(min(list2))\n",
    "print(max(list2))"
   ]
  },
  {
   "cell_type": "markdown",
   "id": "d459ff19",
   "metadata": {},
   "source": [
    "**Обратите внимание** – элементы вложенных списков в этой ситуации должны быть **сравнимы**.\n",
    "\n",
    "Таким образом, следующий код:\n",
    "\n",
    "     my_list = [[1, 7, 12, 0, 9, 100], ['a', 'b']]\n",
    "\n",
    "     print(min(my_list))\n",
    "     print(max(my_list))\n",
    "     \n",
    "**приведет к возникновению ошибки**: TypeError: '<' not supported between instances of 'str' and 'int'"
   ]
  },
  {
   "cell_type": "markdown",
   "id": "0f4fea45",
   "metadata": {},
   "source": [
    "### Примечание \n",
    "\n",
    "1. Независимо от вложенности списков, нам нужно помнить по возможности все **списочные методы**:\n",
    "\n",
    "- метод append() добавляет новый элемент в конец списка.\n",
    "- метод extend() расширяет один список другим списком.\n",
    "- метод insert() вставляет значение в список в заданной позиции.\n",
    "\n",
    "- метод index() возвращает индекс первого элемента, значение которого равняется переданному в метод значению.\n",
    "\n",
    "- метод remove() удаляет первый элемент, значение которого равняется переданному в метод значению.\n",
    "\n",
    "- метод pop() удаляет элемент по указанному индексу и возвращает его.\n",
    "\n",
    "- метод count() возвращает количество элементов в списке, значения которых равны переданному в метод значению.\n",
    "\n",
    "- метод reverse() инвертирует порядок следования значений в списке, то есть меняет его на противоположный.\n",
    "\n",
    "- метод copy() создает поверхностную копию списка. \n",
    "\n",
    "- метод clear() удаляет все элементы из списка.\n",
    "\n",
    "- оператор del позволяет удалять элементы списка по определенному индексу.\n",
    "\n",
    "2. **Методы строк**, работающие со списками:\n",
    "\n",
    "- метод split() разбивает строку на слова, используя в качестве разделителя последовательность пробельных символов, символ табуляции (\\t) или символ новой строки (\\n).\n",
    "\n",
    "- метод join() собирает строку из элементов списка, используя в качестве разделителя строку, к которой применяется метод.\n",
    "\n",
    "3. Язык Python не ограничивает нас в уровнях вложенности: элементами списка могут быть списки, их элементами могут быть другие списки, элементами которых в свою очередь могут быть другие списки..."
   ]
  },
  {
   "cell_type": "code",
   "execution_count": 15,
   "id": "71702aeb",
   "metadata": {},
   "outputs": [
    {
     "data": {
      "text/plain": [
       "2"
      ]
     },
     "execution_count": 15,
     "metadata": {},
     "output_type": "execute_result"
    }
   ],
   "source": [
    "list1 = [[0, [9, 2]], [1, [4, 6, 3], [5, 2, 3], 8, 3]]\n",
    "list1[1][2][1]"
   ]
  },
  {
   "cell_type": "code",
   "execution_count": 16,
   "id": "e6960522",
   "metadata": {},
   "outputs": [
    {
     "data": {
      "text/plain": [
       "2"
      ]
     },
     "execution_count": 16,
     "metadata": {},
     "output_type": "execute_result"
    }
   ],
   "source": [
    "list1 = [[[1, 1, 0], [0, 1, 1]], [[0, 1], [1, 1], [1, 0]]]\n",
    "len(list1)"
   ]
  },
  {
   "cell_type": "code",
   "execution_count": 17,
   "id": "ec4d3863",
   "metadata": {},
   "outputs": [
    {
     "name": "stdout",
     "output_type": "stream",
     "text": [
      "[[2, 6, 7, 8], [2, 7, 2], [1, 3, 4, 5], [1, 8, 7, 4]]\n"
     ]
    }
   ],
   "source": [
    "list1 = [[1, 8, 7, 4], [1, 3, 4, 5], [2, 7, 2], [2, 6, 7, 8]]\n",
    "list1.reverse()\n",
    "print(list1)"
   ]
  },
  {
   "cell_type": "code",
   "execution_count": 18,
   "id": "6dc090c7",
   "metadata": {},
   "outputs": [
    {
     "name": "stdout",
     "output_type": "stream",
     "text": [
      "[[1, 8, 7, 4], [2, 7, 2], [2, 6, 7, 8]]\n"
     ]
    }
   ],
   "source": [
    "list1 = [[1, 8, 7, 4], [1, 3, 4, 5, 6], [2, 7, 2], [2, 6, 7, 8]]\n",
    "del list1[1]\n",
    "print(list1)"
   ]
  },
  {
   "cell_type": "code",
   "execution_count": 19,
   "id": "91f1270d",
   "metadata": {},
   "outputs": [
    {
     "name": "stdout",
     "output_type": "stream",
     "text": [
      "[[1, 8, 7, 4], [1, 4, 5, 6], [2, 7, 2], [2, 6, 7, 8]]\n"
     ]
    }
   ],
   "source": [
    "list1 = [[1, 8, 7, 4], [1, 3, 4, 5, 6], [2, 7, 2], [2, 6, 7, 8]]\n",
    "del list1[1][1]\n",
    "print(list1)"
   ]
  },
  {
   "cell_type": "markdown",
   "id": "3670c41f",
   "metadata": {},
   "source": [
    "Дополните приведенный код, используя списочный метод append(), чтобы список list1 имел вид:\n",
    "\n",
    "list1 = [10, 20, [300, 400, [5000, 6000, 7000], 500], 30, 40]"
   ]
  },
  {
   "cell_type": "code",
   "execution_count": 26,
   "id": "1199b7b9",
   "metadata": {},
   "outputs": [
    {
     "name": "stdout",
     "output_type": "stream",
     "text": [
      "[10, 20, [300, 400, [5000, 6000, 7000], 500], 30, 40]\n"
     ]
    }
   ],
   "source": [
    "list1 = [10, 20, [300, 400, [5000, 6000], 500], 30, 40]\n",
    "\n",
    "list1[2][2].append(7000)\n",
    "\n",
    "print(list1)"
   ]
  },
  {
   "cell_type": "markdown",
   "id": "dd983e92",
   "metadata": {},
   "source": [
    "Дополните приведенный код, используя списочный метод extend(), чтобы список list1 имел вид:\n",
    "\n",
    "list1 = ['a', 'b', ['c', ['d', 'e', ['f', 'g', 'h', 'i', 'j'], 'k'], 'l'], 'm', 'n']\n",
    "\n",
    "Подсписок для расширения  sub_list = ['h', 'i', 'j']."
   ]
  },
  {
   "cell_type": "code",
   "execution_count": 27,
   "id": "c2fa9c0f",
   "metadata": {},
   "outputs": [
    {
     "name": "stdout",
     "output_type": "stream",
     "text": [
      "['a', 'b', ['c', ['d', 'e', ['f', 'g', 'h', 'i', 'j'], 'k'], 'l'], 'm', 'n']\n"
     ]
    }
   ],
   "source": [
    "list1 = ['a', 'b', ['c', ['d', 'e', ['f', 'g'], 'k'], 'l'], 'm', 'n']\n",
    "sub_list = ['h', 'i', 'j']\n",
    "\n",
    "list1[2][1][2].extend(sub_list)\n",
    "\n",
    "print(list1)"
   ]
  },
  {
   "cell_type": "markdown",
   "id": "6c280f95",
   "metadata": {},
   "source": [
    "Дополните приведенный код, используя цикл for и встроенную функцию max(), чтобы он выводил один общий максимальный элемент среди всех элементов вложенных списков list1."
   ]
  },
  {
   "cell_type": "code",
   "execution_count": 31,
   "id": "0d0b2da1",
   "metadata": {},
   "outputs": [
    {
     "name": "stdout",
     "output_type": "stream",
     "text": [
      "106\n"
     ]
    }
   ],
   "source": [
    "list1 = [[1, 7, 8], [9, 7, 102], [6, 106, 105], [100, 99, 98, 103], [1, 2, 3]]\n",
    "maximum = -1\n",
    "\n",
    "for i in list1:\n",
    "    if max(i) > maximum:\n",
    "        maximum = max(i)\n",
    "    \n",
    "print(maximum)"
   ]
  },
  {
   "cell_type": "markdown",
   "id": "316d83b9",
   "metadata": {},
   "source": [
    "Дополните приведенный код так, чтобы список list1 имел вид:\n",
    "\n",
    "list1 = [[8, 7, 1], [102, 7, 9], [105, 106, 102], [103, 98, 99, 100], [3, 2, 1]]\n",
    "\n",
    "Используйте списочный метод reverse()."
   ]
  },
  {
   "cell_type": "code",
   "execution_count": 33,
   "id": "d0172654",
   "metadata": {},
   "outputs": [
    {
     "name": "stdout",
     "output_type": "stream",
     "text": [
      "[[8, 7, 1], [102, 7, 9], [105, 106, 102], [103, 98, 99, 100], [3, 2, 1]]\n"
     ]
    }
   ],
   "source": [
    "list1 = [[1, 7, 8], [9, 7, 102], [102, 106, 105], [100, 99, 98, 103], [1, 2, 3]]\n",
    "\n",
    "for i in list1:\n",
    "    i.reverse()\n",
    "\n",
    "print(list1)"
   ]
  },
  {
   "cell_type": "markdown",
   "id": "860a3d08",
   "metadata": {},
   "source": [
    "Дополните приведенный код так, чтобы он выводил единственное число: сумму всех чисел списка list1 разделённую на общее количество всех чисел.\n",
    "\n",
    "Подсказка\n",
    "Используйте встроенные функции sum() и len() для нахождения суммы всех элементов и их количества. "
   ]
  },
  {
   "cell_type": "code",
   "execution_count": 37,
   "id": "ec32cd3a",
   "metadata": {},
   "outputs": [
    {
     "name": "stdout",
     "output_type": "stream",
     "text": [
      "53.3125\n"
     ]
    }
   ],
   "source": [
    "list1 = [[1, 7, 8], [9, 7, 102], [102, 106, 105], [100, 99, 98, 103], [1, 2, 3]]\n",
    "total = 0\n",
    "counter = 0\n",
    "\n",
    "for i in list1:\n",
    "    total += sum(i)\n",
    "    counter += len(i)\n",
    "\n",
    "print(total/counter)"
   ]
  },
  {
   "cell_type": "code",
   "execution_count": null,
   "id": "070b5f67",
   "metadata": {},
   "outputs": [],
   "source": []
  }
 ],
 "metadata": {
  "kernelspec": {
   "display_name": "Python 3 (ipykernel)",
   "language": "python",
   "name": "python3"
  },
  "language_info": {
   "codemirror_mode": {
    "name": "ipython",
    "version": 3
   },
   "file_extension": ".py",
   "mimetype": "text/x-python",
   "name": "python",
   "nbconvert_exporter": "python",
   "pygments_lexer": "ipython3",
   "version": "3.9.7"
  }
 },
 "nbformat": 4,
 "nbformat_minor": 5
}
