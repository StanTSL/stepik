{
 "cells": [
  {
   "cell_type": "markdown",
   "id": "0fae7826",
   "metadata": {},
   "source": [
    "## Тема урока: кортежи\n",
    "1. Перебор кортежей\n",
    "2. Сравнение кортежей\n",
    "3. Сортировка кортежей\n",
    "4. Преобразование кортежа в список и строку\n",
    "5. Упаковка кортежей\n",
    "6. Распаковка кортежей\n",
    "7. Присваивание кортежей\n",
    "\n",
    "Аннотация. Урок посвящен кортежам (тип данных tuple).\n",
    "\n",
    "### Перебор кортежей\n",
    "Перебор элементов кортежа осуществляется точно так же как перебор элементов списка.\n",
    "\n",
    "Для вывода каждого из элементов кортежа  на отдельной строке можно использовать следующий код:\n",
    "\n",
    "**Вариант 1**. Если нужны индексы элементов:"
   ]
  },
  {
   "cell_type": "code",
   "execution_count": 1,
   "id": "fab2db98",
   "metadata": {},
   "outputs": [
    {
     "name": "stdout",
     "output_type": "stream",
     "text": [
      "0\n",
      "1\n",
      "2\n",
      "3\n",
      "4\n",
      "5\n",
      "6\n",
      "7\n",
      "8\n",
      "9\n",
      "10\n"
     ]
    }
   ],
   "source": [
    "numbers = (0, 1, 2, 3, 4, 5, 6, 7, 8, 9, 10)\n",
    "\n",
    "for i in range(len(numbers)):\n",
    "    print(numbers[i])"
   ]
  },
  {
   "cell_type": "markdown",
   "id": "09d83f96",
   "metadata": {},
   "source": [
    "**Вариант 2**. Если индексы не нужны:"
   ]
  },
  {
   "cell_type": "code",
   "execution_count": 2,
   "id": "c9052aa8",
   "metadata": {},
   "outputs": [
    {
     "name": "stdout",
     "output_type": "stream",
     "text": [
      "0\n",
      "1\n",
      "2\n",
      "3\n",
      "4\n",
      "5\n",
      "6\n",
      "7\n",
      "8\n",
      "9\n",
      "10\n"
     ]
    }
   ],
   "source": [
    "numbers = (0, 1, 2, 3, 4, 5, 6, 7, 8, 9, 10)\n",
    "\n",
    "for num in numbers:\n",
    "    print(num)"
   ]
  },
  {
   "cell_type": "markdown",
   "id": "a120dfe6",
   "metadata": {},
   "source": [
    "Можно также использовать операцию **распаковки кортежа**."
   ]
  },
  {
   "cell_type": "code",
   "execution_count": 3,
   "id": "d39d8aa4",
   "metadata": {},
   "outputs": [
    {
     "name": "stdout",
     "output_type": "stream",
     "text": [
      "0 1 2 3 4 5 6 7 8 9 10\n",
      "Python\n",
      "C++\n",
      "Java\n"
     ]
    }
   ],
   "source": [
    "numbers = (0, 1, 2, 3, 4, 5, 6, 7, 8, 9, 10)\n",
    "languages = ('Python', 'C++', 'Java')\n",
    "\n",
    "print(*numbers)\n",
    "print(*languages, sep='\\n')"
   ]
  },
  {
   "cell_type": "markdown",
   "id": "42032c34",
   "metadata": {},
   "source": [
    "### Сравнение кортежей\n",
    "Кортежи можно сравнивать между собой."
   ]
  },
  {
   "cell_type": "code",
   "execution_count": 4,
   "id": "28973d0d",
   "metadata": {},
   "outputs": [
    {
     "name": "stdout",
     "output_type": "stream",
     "text": [
      "True\n",
      "True\n",
      "False\n",
      "True\n",
      "False\n"
     ]
    }
   ],
   "source": [
    "print((1, 8) == (1, 8))\n",
    "print((1, 8) != (1, 10))\n",
    "print((1, 9) < (1, 2))\n",
    "print((2, 5) < (6,))\n",
    "print(('a', 'bc') > ('a', 'de'))"
   ]
  },
  {
   "cell_type": "markdown",
   "id": "3cb7c640",
   "metadata": {},
   "source": [
    "Обратите внимание: операции == и != применимы к **любым кортежам**, независимо от **типов** элементов. А вот операции <, >, <=, >= применимы только в том случае, когда соответствующие элементы кортежей имеют **один тип**.\n",
    "\n",
    "    print((7, 5) < ('java', 'python'))\n",
    "    \n",
    "    выводит: TypeError: '<' not supported between instances of 'int' and 'str'\n",
    "    \n",
    "Сравнение кортежей происходит последовательно **элемент за элементом**, а если элементы равны — просматривается следующий элемент."
   ]
  },
  {
   "cell_type": "markdown",
   "id": "3a52f71c",
   "metadata": {},
   "source": [
    "### Сортировка кортежей, функция sorted()\n",
    "Как мы помним, списки имеют метод sort(), который осуществляет сортировку на месте, то есть меняет порядок исходного списка. Поскольку кортежи по своей природе неизменяемы, то встроенного метода sort() они не содержат, тем не менее с помощью встроенной функции **sorted()** (не путать с **списочным методом sort()**) мы можем сортировать значения в кортежах."
   ]
  },
  {
   "cell_type": "code",
   "execution_count": 5,
   "id": "6d50bb67",
   "metadata": {},
   "outputs": [
    {
     "name": "stdout",
     "output_type": "stream",
     "text": [
      "(34, 1, 8, 67, 5, 9, 0, 23)\n",
      "(0, 1, 5, 8, 9, 23, 34, 67)\n"
     ]
    }
   ],
   "source": [
    "not_sorted_tuple = (34, 1, 8, 67, 5, 9, 0, 23)\n",
    "print(not_sorted_tuple)\n",
    "\n",
    "sorted_tuple = tuple(sorted(not_sorted_tuple))\n",
    "print(sorted_tuple)"
   ]
  },
  {
   "cell_type": "markdown",
   "id": "b472b622",
   "metadata": {},
   "source": [
    "**Обратите внимание**, что функция sorted() **возвращает список**, но с помощью функции tuple() мы приводим результат сортировки к кортежу.\n",
    "\n",
    "Для сортировки кортежа можно воспользоваться явным преобразованием в список и использовать метод sort(): "
   ]
  },
  {
   "cell_type": "code",
   "execution_count": 6,
   "id": "34e4afd9",
   "metadata": {},
   "outputs": [
    {
     "name": "stdout",
     "output_type": "stream",
     "text": [
      "('aa', 'bb', 'cc', 'dd')\n"
     ]
    }
   ],
   "source": [
    "not_sorted_tuple = ('cc', 'aa', 'dd', 'bb')\n",
    "tmp = list(not_sorted_tuple)\n",
    "tmp.sort()\n",
    "\n",
    "sorted_tuple = tuple(tmp)\n",
    "print(sorted_tuple)"
   ]
  },
  {
   "cell_type": "markdown",
   "id": "c126ec81",
   "metadata": {},
   "source": [
    "## Преобразование кортежа в список и строку\n",
    "Часто на практике нам приходится преобразовывать кортежи в списки и в строки. Для этого используются функции и методы str(), list(), tuple(), join().\n",
    "\n",
    "### Преобразование кортежа в список и наоборот\n",
    "Кортеж можно преобразовать в список с помощью функции **list()**."
   ]
  },
  {
   "cell_type": "code",
   "execution_count": 7,
   "id": "e58ad5b7",
   "metadata": {},
   "outputs": [
    {
     "name": "stdout",
     "output_type": "stream",
     "text": [
      "[1, 2, 3, 4, 5]\n"
     ]
    }
   ],
   "source": [
    "tuple1 = (1, 2, 3, 4, 5)\n",
    "list1 = list(tuple1)\n",
    "print(list1)"
   ]
  },
  {
   "cell_type": "markdown",
   "id": "1186ee79",
   "metadata": {},
   "source": [
    "Список можно преобразовать **в кортеж** с помощью функции **tuple()**."
   ]
  },
  {
   "cell_type": "code",
   "execution_count": 8,
   "id": "c08d997f",
   "metadata": {},
   "outputs": [
    {
     "name": "stdout",
     "output_type": "stream",
     "text": [
      "(1, 17.8, 'Python')\n"
     ]
    }
   ],
   "source": [
    "list1 = [1, 17.8, 'Python']\n",
    "tuple1 = tuple(list1)\n",
    "print(tuple1)"
   ]
  },
  {
   "cell_type": "markdown",
   "id": "24442d6b",
   "metadata": {},
   "source": [
    "### Преобразование кортежа в строку и наоборот\n",
    "Кортеж можно преобразовать в строку с помощью строкового метода **join()**."
   ]
  },
  {
   "cell_type": "code",
   "execution_count": 9,
   "id": "d8977c91",
   "metadata": {},
   "outputs": [
    {
     "name": "stdout",
     "output_type": "stream",
     "text": [
      "DoReMiFaSolLaSi\n",
      "Do.Re.Mi.Fa.Sol.La.Si\n"
     ]
    }
   ],
   "source": [
    "notes = ('Do', 'Re', 'Mi', 'Fa', 'Sol', 'La', 'Si')\n",
    "string1 = ''.join(notes)\n",
    "string2 = '.'.join(notes)\n",
    "\n",
    "print(string1)\n",
    "print(string2)"
   ]
  },
  {
   "cell_type": "markdown",
   "id": "3fac3dea",
   "metadata": {},
   "source": [
    "**Обратите внимание**, что для применения строкового метода join() кортеж **должен содержать именно строковые элементы**. Если элементы кортежа отличны от строк, то требуется предварительно **их преобразовать**.\n",
    "\n",
    "**Строку** можно преобразовать в кортеж с помощью функции tuple()."
   ]
  },
  {
   "cell_type": "code",
   "execution_count": 10,
   "id": "2566c9ab",
   "metadata": {},
   "outputs": [
    {
     "name": "stdout",
     "output_type": "stream",
     "text": [
      "('a', 'b', 'c', 'd', 'e', 'f', 'g', 'h', 'i', 'j', 'k', 'l')\n"
     ]
    }
   ],
   "source": [
    "letters = 'abcdefghijkl'\n",
    "tpl = tuple(letters)\n",
    "print(tpl)"
   ]
  },
  {
   "cell_type": "markdown",
   "id": "466c8c16",
   "metadata": {},
   "source": [
    "**Обратите внимание**, что следующий код:\n",
    "\n",
    "    number = 12345\n",
    "    tpl = tuple(number)\n",
    "    print(tpl)\n",
    "\n",
    "    приведет к ошибке: TypeError: 'int' object is not iterable\n",
    "    \n",
    "поскольку тип данных int не является **итерируемым объектом**. Для преобразования числа в кортеж, сначала нужно число преобразовать **в строку**, а уже потом использовать функцию tuple()."
   ]
  },
  {
   "cell_type": "markdown",
   "id": "e982fab2",
   "metadata": {},
   "source": [
    "### Задачи"
   ]
  },
  {
   "cell_type": "markdown",
   "id": "e2ef3163",
   "metadata": {},
   "source": [
    "Что будет выведено на экран в результате работы следующей программы?\n",
    "\n",
    "Подсказка\n",
    "Вспоминаем сортировку пузырьком 😃"
   ]
  },
  {
   "cell_type": "code",
   "execution_count": 11,
   "id": "44b7ff21",
   "metadata": {},
   "outputs": [
    {
     "name": "stdout",
     "output_type": "stream",
     "text": [
      "('Есенин', 13)\n",
      "('Маяковский', 28)\n"
     ]
    }
   ],
   "source": [
    "poets = [\n",
    "    ('Есенин', 13),\n",
    "    ('Тургенев', 14),\n",
    "    ('Маяковский', 28),\n",
    "    ('Лермонтов', 20),\n",
    "    ('Фет', 15)]\n",
    "\n",
    "for i in range(len(poets)):\n",
    "    for j in range(i+1, len(poets)):\n",
    "        if poets[i][1] > poets[j][1]:\n",
    "            poets[i], poets[j] = poets[j], poets[i]\n",
    "\n",
    "print(poets[0])\n",
    "print(poets[-1])"
   ]
  },
  {
   "cell_type": "markdown",
   "id": "e4991bd7",
   "metadata": {},
   "source": [
    "Кортежи сравниваются поэлементно."
   ]
  },
  {
   "cell_type": "code",
   "execution_count": 12,
   "id": "14c8301e",
   "metadata": {},
   "outputs": [
    {
     "name": "stdout",
     "output_type": "stream",
     "text": [
      "('Есенин', 13)\n",
      "('Фет', 15)\n"
     ]
    }
   ],
   "source": [
    "poets = [\n",
    "    ('Тургенев', 14),\n",
    "    ('Есенин', 13),\n",
    "    ('Маяковский', 28),\n",
    "    ('Фет', 15),\n",
    "    ('Лермонтов', 20)]\n",
    "\n",
    "for i in range(len(poets)):\n",
    "    for j in range(i+1, len(poets)):\n",
    "        if poets[i] > poets[j]:\n",
    "            poets[i], poets[j] = poets[j], poets[i]\n",
    "\n",
    "print(poets[0])\n",
    "print(poets[-1])"
   ]
  },
  {
   "cell_type": "markdown",
   "id": "3eb29179",
   "metadata": {},
   "source": [
    "Дополните приведенный код так, чтобы он вывел произведение элементов кортежа numbers."
   ]
  },
  {
   "cell_type": "code",
   "execution_count": 15,
   "id": "82581455",
   "metadata": {},
   "outputs": [
    {
     "data": {
      "text/plain": [
       "129638530920927229333292160000"
      ]
     },
     "execution_count": 15,
     "metadata": {},
     "output_type": "execute_result"
    }
   ],
   "source": [
    "numbers = (2, 3, 5, 7, -11, 13, 17, 19, 23, 29, 31, -6, 41, 43, 47, 53, 59, 61, -96, 71, 1000, -1)\n",
    "mult = 1\n",
    "for i in numbers:\n",
    "    mult *= i\n",
    "mult"
   ]
  },
  {
   "cell_type": "markdown",
   "id": "c92bd75f",
   "metadata": {},
   "source": [
    "Дополните приведенный код так, чтобы он преобразовал строку в кортеж символов строки и вывел результат."
   ]
  },
  {
   "cell_type": "code",
   "execution_count": 19,
   "id": "4a749ebb",
   "metadata": {},
   "outputs": [
    {
     "name": "stdout",
     "output_type": "stream",
     "text": [
      "('P', 'y', 't', 'h', 'o', 'n', ' ', 'д', 'л', 'я', ' ', 'п', 'р', 'о', 'д', 'в', 'и', 'н', 'у', 'т', 'ы', 'х', '!')\n",
      "('P', 'y', 't', 'h', 'o', 'n', ' ', 'д', 'л', 'я', ' ', 'п', 'р', 'о', 'д', 'в', 'и', 'н', 'у', 'т', 'ы', 'х', '!')\n"
     ]
    }
   ],
   "source": [
    "data = 'Python для продвинутых!'\n",
    "\n",
    "print(tuple(data))\n",
    "print((*data,))"
   ]
  },
  {
   "cell_type": "markdown",
   "id": "86b0c4d1",
   "metadata": {},
   "source": [
    "Программист Тимур написал программу для работы с биографическими данными русских поэтов. Данные содержатся в кортежах вида (фамилия, год рождения, город рождения). В процессе работы программы в некотором кортеже poet_data обнаружилась ошибка: ('Пушкин', 1799, 'Санкт-Петербург'), неверно указано место рождения, ведь Александр Пушкин родился в Москве.\n",
    "\n",
    "Дополните приведенный код так, чтобы в переменной poet_data находился правильный кортеж (с исправленным значением), а затем выведите его содержимое."
   ]
  },
  {
   "cell_type": "code",
   "execution_count": 26,
   "id": "d70ab0ab",
   "metadata": {},
   "outputs": [
    {
     "name": "stdout",
     "output_type": "stream",
     "text": [
      "('Пушкин', 1799, 'Москва')\n"
     ]
    }
   ],
   "source": [
    "poet_data = ('Пушкин', 1799, 'Санкт-Петербург')\n",
    "list1 = list(poet_data)\n",
    "list1[2] = 'Москва'\n",
    "poet_data = tuple(list1)\n",
    "print(poet_data)"
   ]
  },
  {
   "cell_type": "markdown",
   "id": "629188c5",
   "metadata": {},
   "source": [
    "Дополните приведенный код так, чтобы он вывел список, содержащий средние арифметические значения чисел каждого вложенного кортежа в заданном кортеже кортежей numbers."
   ]
  },
  {
   "cell_type": "code",
   "execution_count": 27,
   "id": "13a6ffb7",
   "metadata": {},
   "outputs": [
    {
     "data": {
      "text/plain": [
       "[10.5, 44.0, 58.0, 2.5, 50.0]"
      ]
     },
     "execution_count": 27,
     "metadata": {},
     "output_type": "execute_result"
    }
   ],
   "source": [
    "numbers = ((10, 10, 10, 12), (30, 45, 56, 45), (81, 80, 39, 32), (1, 2, 3, 4), (90, 10))\n",
    "numbers_avg = [sum(i)/len(i) for i in numbers]\n",
    "numbers_avg"
   ]
  },
  {
   "cell_type": "markdown",
   "id": "f50b08f4",
   "metadata": {},
   "source": [
    "### Вершина параболы\n",
    "Уравнение параболы имеет вид $y =ax^2 + bx + c$, где a $\\neq 0$. Напишите программу, которая по введенным значениям a, b, c определяет и выводит вершину параболы.\n",
    "\n",
    "На вход программе подаются три целых числа, каждое на отдельной строке.\n",
    "\n",
    "Программа должна вывести координаты вершины параболы.\n",
    "\n",
    "Примечание. Координаты вершины параболы $y=ax^2+bx+cy=a$ имеют вид $\\left(-\\dfrac{b}{2a}; \\dfrac{4ac-b^2}{4a}\\right)$"
   ]
  },
  {
   "cell_type": "code",
   "execution_count": 28,
   "id": "d4c2c4cc",
   "metadata": {},
   "outputs": [
    {
     "name": "stdout",
     "output_type": "stream",
     "text": [
      "(1.5, 5.5)\n"
     ]
    }
   ],
   "source": [
    "a, b, c = -2, 6, 1\n",
    "coordinates = (-b/(2*a), (4*a*c - b**2)/(4*a))\n",
    "print(coordinates)"
   ]
  },
  {
   "cell_type": "markdown",
   "id": "bb29093f",
   "metadata": {},
   "source": [
    "### Конкурсный отбор\n",
    "Напишите программу, которая выводит список хорошистов и отличников в классе.\n",
    "\n",
    "На вход программе подается натуральное число n, далее следует n строк с фамилией школьника и его оценкой на каждой из них.\n",
    "\n",
    "Программа должна вывести сначала все введённые строки с фамилиями и оценками учеников в том же порядке. Затем следует пустая строка, а затем выводятся строки с фамилиями и оценками хорошистов и отличников (в том же порядке).\n",
    "\n",
    "Примечание 1. Оценка ученика – это натуральное число от 1 до 5.\n",
    "\n",
    "Примечание 2. Гарантируется, что в классе есть хотя бы один хорошист – обладатель оценки 4, или отличник – получивший 5."
   ]
  },
  {
   "cell_type": "code",
   "execution_count": 32,
   "id": "819cb420",
   "metadata": {},
   "outputs": [
    {
     "name": "stdout",
     "output_type": "stream",
     "text": [
      "Гуев 3\n",
      "Чаниев 5\n",
      "Барсуков 2\n",
      "Гуев 3\n",
      "Чаниев 5\n",
      "Барсуков 2\n",
      "\n"
     ]
    }
   ],
   "source": [
    "n = 3\n",
    "s = [input().split() for i in range(n)]\n",
    "for row in s:\n",
    "    print(*row)\n",
    "print()"
   ]
  },
  {
   "cell_type": "code",
   "execution_count": 34,
   "id": "01d8ad26",
   "metadata": {},
   "outputs": [
    {
     "name": "stdout",
     "output_type": "stream",
     "text": [
      "Чаниев 5\n"
     ]
    }
   ],
   "source": [
    "for row in s:\n",
    "    if int(row[1]) > 3:\n",
    "        print(*row)"
   ]
  },
  {
   "cell_type": "markdown",
   "id": "528def45",
   "metadata": {},
   "source": [
    "##### еще решение"
   ]
  },
  {
   "cell_type": "code",
   "execution_count": 35,
   "id": "3c20f384",
   "metadata": {},
   "outputs": [
    {
     "name": "stdout",
     "output_type": "stream",
     "text": [
      "5\n",
      "Круглов 4\n",
      "Кузнецов 5\n",
      "Федин 4\n",
      "Тарасов 2\n",
      "Словецкий 3\n",
      "Круглов 4\n",
      "Кузнецов 5\n",
      "Федин 4\n",
      "Тарасов 2\n",
      "Словецкий 3\n",
      "\n",
      "Круглов 4\n",
      "Кузнецов 5\n",
      "Федин 4\n"
     ]
    }
   ],
   "source": [
    "students = [tuple(input().split()) for _ in range(int(input()))]\n",
    "\n",
    "for student in students:\n",
    "    print(*student)\n",
    "    \n",
    "print()\n",
    "\n",
    "for name, grade in students:\n",
    "    if int(grade) > 3:\n",
    "        print(name, grade)"
   ]
  },
  {
   "cell_type": "markdown",
   "id": "fba9d109",
   "metadata": {},
   "source": [
    "### Упаковка кортежей\n",
    "**Упаковкой кортежа** называют присваивание его какой-либо переменной."
   ]
  },
  {
   "cell_type": "code",
   "execution_count": 36,
   "id": "e19ed77b",
   "metadata": {},
   "outputs": [
    {
     "name": "stdout",
     "output_type": "stream",
     "text": [
      "<class 'tuple'>\n",
      "<class 'tuple'>\n",
      "<class 'tuple'>\n"
     ]
    }
   ],
   "source": [
    "tuple1 = (1, 2, 3)\n",
    "tuple2 = ('b',)\n",
    "tuple3 = ('red', 'green', 'blue', 'cyan')\n",
    "\n",
    "print(type(tuple1))\n",
    "print(type(tuple2))\n",
    "print(type(tuple3))"
   ]
  },
  {
   "attachments": {
    "image.png": {
     "image/png": "[encoded data removed]"
    }
   },
   "cell_type": "markdown",
   "id": "dfef8f35",
   "metadata": {},
   "source": [
    "![image.png](attachment:image.png)\n",
    "\n",
    "Обратите внимание на то, что упаковка выполняется всегда, когда справа от знака равенства стоит **больше одного** значения.\n",
    "\n",
    "Приведенный ниже код автоматически запакует 1, 2, 3 и 'b', в кортежи (1, 2, 3) и ('b', ) и присвоит их значения переменным tuple1 и tuple2:"
   ]
  },
  {
   "cell_type": "code",
   "execution_count": 37,
   "id": "29f3c50c",
   "metadata": {},
   "outputs": [
    {
     "name": "stdout",
     "output_type": "stream",
     "text": [
      "<class 'tuple'>\n",
      "<class 'tuple'>\n"
     ]
    }
   ],
   "source": [
    "tuple1 = 1, 2, 3\n",
    "tuple2 = 'b',\n",
    "\n",
    "print(type(tuple1))\n",
    "print(type(tuple2))"
   ]
  },
  {
   "cell_type": "markdown",
   "id": "c5b1ddbe",
   "metadata": {},
   "source": [
    "### Распаковка кортежей\n",
    "Обратная операция, смысл которой в том, чтобы присвоить значения элементов кортежа отдельным переменным называется **распаковкой кортежа**."
   ]
  },
  {
   "cell_type": "code",
   "execution_count": 38,
   "id": "2652a415",
   "metadata": {},
   "outputs": [
    {
     "name": "stdout",
     "output_type": "stream",
     "text": [
      "red\n",
      "green\n",
      "blue\n",
      "cyan\n"
     ]
    }
   ],
   "source": [
    "colors = ('red', 'green', 'blue', 'cyan')\n",
    "\n",
    "(a, b, c, d) = colors\n",
    "\n",
    "print(a)\n",
    "print(b)\n",
    "print(c)\n",
    "print(d)"
   ]
  },
  {
   "attachments": {
    "image.png": {
     "image/png": "[encoded data removed]"
    }
   },
   "cell_type": "markdown",
   "id": "72355cd5",
   "metadata": {},
   "source": [
    "В приведенном примере кортеж colors распаковывается в переменные a, b, c, d.\n",
    "![image.png](attachment:image.png)\n",
    "Мы можем опустить скобки слева от знака равенства:"
   ]
  },
  {
   "cell_type": "code",
   "execution_count": 39,
   "id": "bb778313",
   "metadata": {},
   "outputs": [],
   "source": [
    "colors = ('red', 'green', 'blue', 'cyan')\n",
    "a, b, c, d = colors"
   ]
  },
  {
   "cell_type": "markdown",
   "id": "4af96812",
   "metadata": {},
   "source": [
    "##### Количество переменных должно совпадать с числом элементов в кортеже.\n",
    "\n",
    "Приведенный ниже код:\n",
    "\n",
    "    colors = ('red', 'green', 'blue', 'cyan')\n",
    "    a, b = colors\n",
    "    \n",
    "    приводит к ошибке: ValueError: too many values to unpack\n",
    "    \n",
    "Аналогично, приведенный ниже код: \n",
    "\n",
    "    colors = ('red', 'green', 'blue')\n",
    "    a, b, c, d = colors\n",
    "\n",
    "    приводит к ошибке: ValueError: not enough values to unpack (expected 4, got 3)\n",
    "    \n",
    "Однако, если необходимо получить лишь какие-то отдельные значения, то в качестве **\"ненужных\"** переменных позволено использовать **символ нижнего подчеркивания _**."
   ]
  },
  {
   "cell_type": "code",
   "execution_count": 40,
   "id": "1e69b225",
   "metadata": {},
   "outputs": [
    {
     "name": "stdout",
     "output_type": "stream",
     "text": [
      "red\n",
      "green\n"
     ]
    }
   ],
   "source": [
    "colors = ('red', 'green', 'blue')\n",
    "a, b, _ = colors\n",
    "\n",
    "print(a)\n",
    "print(b)"
   ]
  },
  {
   "cell_type": "markdown",
   "id": "c81564ab",
   "metadata": {},
   "source": [
    "Распаковка кортежей очень удобна на практике. По сути мы использовали ее, когда меняли местами значения двух переменных без использования временных переменных."
   ]
  },
  {
   "cell_type": "code",
   "execution_count": 41,
   "id": "55b670f7",
   "metadata": {},
   "outputs": [
    {
     "name": "stdout",
     "output_type": "stream",
     "text": [
      "17 7\n"
     ]
    }
   ],
   "source": [
    "a = 7\n",
    "b = 17\n",
    "a, b = b, a\n",
    "\n",
    "print(a, b)"
   ]
  },
  {
   "cell_type": "markdown",
   "id": "e7a27f54",
   "metadata": {},
   "source": [
    "Сначала вычисляются все значения справа, и лишь затем они кладутся в левую часть оператора присваивания. Поэтому можно менять местами значения переменных a и b, написав: a, b = b, a."
   ]
  },
  {
   "cell_type": "code",
   "execution_count": 43,
   "id": "8be42aa9",
   "metadata": {},
   "outputs": [
    {
     "name": "stdout",
     "output_type": "stream",
     "text": [
      "1 2 3\n"
     ]
    }
   ],
   "source": [
    "a, b, c = 3, 2, 1\n",
    "b, a, c = c, a, b\n",
    "print(b, c, a)"
   ]
  },
  {
   "cell_type": "markdown",
   "id": "85fc5aeb",
   "metadata": {},
   "source": [
    "### * при распаковке кортежей\n",
    "Как мы знаем, если при распаковке кортежа число элементов слева и справа не совпадает, то возникает ошибка времени исполнения. Есть способ собрать сразу **несколько значений в одну переменную**. Это делается при помощи звездочки перед именем"
   ]
  },
  {
   "cell_type": "code",
   "execution_count": 44,
   "id": "d4f36a57",
   "metadata": {},
   "outputs": [],
   "source": [
    "a, b, *tail = 1, 2, 3, 4, 5, 6"
   ]
  },
  {
   "cell_type": "markdown",
   "id": "138bd990",
   "metadata": {},
   "source": [
    "В этом случае в переменной a будет записана единица, в переменной b — двойка, а в переменной tail — список, состоящий из всех аргументов, которые не попали в предыдущие переменные. В данном случае tail будет равен [3, 4, 5, 6].\n",
    "\n",
    "Учтите, что tail **всегда будет списком**, даже когда в него попадает лишь один элемент или даже ноль."
   ]
  },
  {
   "cell_type": "code",
   "execution_count": 46,
   "id": "5febd42d",
   "metadata": {},
   "outputs": [
    {
     "name": "stdout",
     "output_type": "stream",
     "text": [
      "[3, 4, 5]\n"
     ]
    }
   ],
   "source": [
    "a, b, *tail = 1, 2, 3, 4, 5\n",
    "\n",
    "print(tail)"
   ]
  },
  {
   "cell_type": "code",
   "execution_count": 47,
   "id": "345498ee",
   "metadata": {},
   "outputs": [
    {
     "name": "stdout",
     "output_type": "stream",
     "text": [
      "[]\n"
     ]
    }
   ],
   "source": [
    "a, b, *tail = 1, 2\n",
    "\n",
    "print(tail)"
   ]
  },
  {
   "cell_type": "markdown",
   "id": "36e96c90",
   "metadata": {},
   "source": [
    "##### Звездочка может быть только у одного аргумента, но необязательно у последнего."
   ]
  },
  {
   "cell_type": "code",
   "execution_count": 48,
   "id": "f19bbb63",
   "metadata": {},
   "outputs": [
    {
     "name": "stdout",
     "output_type": "stream",
     "text": [
      "['Стефани', 'Джоанн', 'Анджелина']\n",
      "Джерманотта\n"
     ]
    }
   ],
   "source": [
    "*names, surname = ('Стефани', 'Джоанн', 'Анджелина', 'Джерманотта')\n",
    "\n",
    "print(names)\n",
    "print(surname)"
   ]
  },
  {
   "cell_type": "markdown",
   "id": "660d20a9",
   "metadata": {},
   "source": [
    "Аргумент со звездочкой может стоять и **посередине**."
   ]
  },
  {
   "cell_type": "code",
   "execution_count": 50,
   "id": "a45eb068",
   "metadata": {},
   "outputs": [
    {
     "name": "stdout",
     "output_type": "stream",
     "text": [
      "Freddie\n",
      "['Bohemian Rhapsody', 'Killer Queen', 'Love of my life']\n",
      "Mercury\n"
     ]
    }
   ],
   "source": [
    "singer = ('Freddie', 'Bohemian Rhapsody', 'Killer Queen', 'Love of my life', 'Mercury')\n",
    "\n",
    "name, *songs, surname = singer\n",
    "\n",
    "print(name)\n",
    "print(songs)\n",
    "print(surname)"
   ]
  },
  {
   "cell_type": "markdown",
   "id": "5eebe4f0",
   "metadata": {},
   "source": [
    "### Примечания\n",
    "1. Если вы хотите распаковать единственное значение в кортеже, после имени переменной должна идти **запятая**."
   ]
  },
  {
   "cell_type": "code",
   "execution_count": 51,
   "id": "f88b7127",
   "metadata": {},
   "outputs": [
    {
     "name": "stdout",
     "output_type": "stream",
     "text": [
      "(1,)\n",
      "1\n"
     ]
    }
   ],
   "source": [
    "a = 1,      # не распаковка, а просто присвоение\n",
    "b, = 1,     # распаковка\n",
    "\n",
    "print(a)\n",
    "print(b)"
   ]
  },
  {
   "cell_type": "markdown",
   "id": "76ded497",
   "metadata": {},
   "source": [
    "2. Распаковывать можно не только кортеж, правая сторона может быть **любой последовательностью** (кортеж, строка или список)."
   ]
  },
  {
   "cell_type": "code",
   "execution_count": 52,
   "id": "391aa019",
   "metadata": {},
   "outputs": [
    {
     "name": "stdout",
     "output_type": "stream",
     "text": [
      "timur\n",
      "beegeek.org\n",
      "m\n",
      "a\n",
      "t\n",
      "h\n"
     ]
    }
   ],
   "source": [
    "info = ['timur', 'beegeek.org']\n",
    "user, domain = info    # распаковка списка\n",
    "\n",
    "print(user)\n",
    "print(domain)\n",
    "\n",
    "a, b, c, d = 'math'    # распаковка строки\n",
    "\n",
    "print(a)\n",
    "print(b)\n",
    "print(c)\n",
    "print(d)"
   ]
  },
  {
   "cell_type": "markdown",
   "id": "2b0cdc88",
   "metadata": {},
   "source": [
    "3. Помимо метода split() строковый тип данных содержит метод partition(). \n",
    "\n",
    "**Метод partition()** принимает на вход один аргумент sep, разделяет строку **при первом** появлении sep и **возвращает кортеж**, состоящий из трех элементов: часть перед разделителем, сам разделитель и часть после разделителя. Если разделитель не найден, то кортеж содержит саму строку, за которой следуют **две пустые строки**."
   ]
  },
  {
   "cell_type": "code",
   "execution_count": 54,
   "id": "7de624b8",
   "metadata": {},
   "outputs": [
    {
     "name": "stdout",
     "output_type": "stream",
     "text": [
      "('abc', '-', 'de')\n",
      "('abc-de', '', '')\n",
      "('abc', '-', 'de-fgh')\n"
     ]
    }
   ],
   "source": [
    "s1 = 'abc-de'.partition('-')\n",
    "s2 = 'abc-de'.partition('.')\n",
    "s3 = 'abc-de-fgh'.partition('-')\n",
    "\n",
    "print(s1)\n",
    "print(s2)\n",
    "print(s3)"
   ]
  },
  {
   "cell_type": "markdown",
   "id": "3ad033f1",
   "metadata": {},
   "source": [
    "4. С использованием кортежей многие алгоритмы приобретают достаточно краткую форму. Например, вычисление чисел Фибоначчи может выглядеть следующим образом:"
   ]
  },
  {
   "cell_type": "code",
   "execution_count": 55,
   "id": "ff9d5b7f",
   "metadata": {},
   "outputs": [
    {
     "name": "stdout",
     "output_type": "stream",
     "text": [
      "1\n",
      "1\n",
      "2\n"
     ]
    }
   ],
   "source": [
    "n = 3\n",
    "f1, f2 = 1, 1\n",
    "for i in range(n):\n",
    "    print(f1)\n",
    "    f1, f2 = f2, f1 + f2"
   ]
  },
  {
   "cell_type": "markdown",
   "id": "380619c0",
   "metadata": {},
   "source": [
    "5. Замечательная серия статей о коллекциях (list, tuple, str, set, dict) в Python.\n",
    "https://habr.com/ru/post/319164/"
   ]
  },
  {
   "cell_type": "markdown",
   "id": "29c5f641",
   "metadata": {},
   "source": [
    " Что выведет приведенный ниже код?"
   ]
  },
  {
   "cell_type": "code",
   "execution_count": 57,
   "id": "e22c9b65",
   "metadata": {},
   "outputs": [
    {
     "name": "stdout",
     "output_type": "stream",
     "text": [
      "60 40 30\n"
     ]
    }
   ],
   "source": [
    "a, b, c = 10, 20, 30\n",
    "c, b, a = a + b, b*2, a + b + c\n",
    "\n",
    "print(a, b, c)"
   ]
  },
  {
   "cell_type": "code",
   "execution_count": 58,
   "id": "469407c2",
   "metadata": {},
   "outputs": [
    {
     "name": "stdout",
     "output_type": "stream",
     "text": [
      "линал 98\n"
     ]
    }
   ],
   "source": [
    "points = [('матан', 100), ('линал', 98), ('ангем', 90)]\n",
    "\n",
    "subject, value = points[1]\n",
    "\n",
    "print(subject, value)"
   ]
  },
  {
   "cell_type": "code",
   "execution_count": 59,
   "id": "12bb6496",
   "metadata": {},
   "outputs": [
    {
     "name": "stdout",
     "output_type": "stream",
     "text": [
      "['Fa', 'Sol', 'La', 'Si']\n"
     ]
    }
   ],
   "source": [
    "notes = ('Do', 'Re', 'Mi', 'Fa', 'Sol', 'La', 'Si')\n",
    "\n",
    "do, re, mi, *tail = notes\n",
    "\n",
    "print(tail)"
   ]
  },
  {
   "cell_type": "code",
   "execution_count": 60,
   "id": "2432a9fe",
   "metadata": {},
   "outputs": [
    {
     "name": "stdout",
     "output_type": "stream",
     "text": [
      "['Mi', 'Fa', 'Sol', 'La']\n"
     ]
    }
   ],
   "source": [
    "notes = ('Do', 'Re', 'Mi', 'Fa', 'Sol', 'La', 'Si')\n",
    "\n",
    "do, re, *tail, si = notes\n",
    "\n",
    "print(tail)"
   ]
  },
  {
   "cell_type": "markdown",
   "id": "d4573b5b",
   "metadata": {},
   "source": [
    "### Последовательность Трибоначчи\n",
    "Напишите программу, которая считывает натуральное число n и выводит первые n чисел последовательности Трибоначчи.\n",
    "\n",
    "На вход программе подается одно число n,  (n≤100) – количество членов последовательности.\n",
    "\n",
    "Программа должна вывести члены последовательности Трибоначчи, отделенные символом пробела.\n",
    "\n",
    "Примечание. Последовательность Трибоначчи – последовательность натуральных чисел, где каждое последующее число является суммой трех предыдущих:\n",
    "$1, \\, 1,  \\, 1, \\,  3, \\,  5, \\,  9, \\,  17, \\,  31, \\,  57, \\,  105 \\ldots$"
   ]
  },
  {
   "cell_type": "code",
   "execution_count": 67,
   "id": "0f51451f",
   "metadata": {},
   "outputs": [
    {
     "name": "stdout",
     "output_type": "stream",
     "text": [
      "1 1 1 3 5 9 17 31 57 105 "
     ]
    }
   ],
   "source": [
    "n = 10\n",
    "f1, f2, f3 = 1, 1, 1\n",
    "for i in range(n):\n",
    "    print(f1, end = ' ')\n",
    "    f1, f2, f3 = f2, f3, f1 + f2 + f3"
   ]
  },
  {
   "cell_type": "markdown",
   "id": "4bee21f7",
   "metadata": {},
   "source": [
    "#### Что будет выведено на экран в результате работы следующей программы?"
   ]
  },
  {
   "cell_type": "code",
   "execution_count": 71,
   "id": "69aa1a4c",
   "metadata": {},
   "outputs": [
    {
     "ename": "TypeError",
     "evalue": "'>' not supported between instances of 'str' and 'int'",
     "output_type": "error",
     "traceback": [
      "\u001b[1;31m---------------------------------------------------------------------------\u001b[0m",
      "\u001b[1;31mTypeError\u001b[0m                                 Traceback (most recent call last)",
      "\u001b[1;32mC:\\Users\\91AF~1\\AppData\\Local\\Temp/ipykernel_3096/1729079209.py\u001b[0m in \u001b[0;36m<module>\u001b[1;34m\u001b[0m\n\u001b[0;32m      1\u001b[0m \u001b[0mtpl\u001b[0m \u001b[1;33m=\u001b[0m \u001b[1;33m(\u001b[0m\u001b[1;36m1777\u001b[0m\u001b[1;33m,\u001b[0m \u001b[1;34m'a'\u001b[0m\u001b[1;33m)\u001b[0m\u001b[1;33m\u001b[0m\u001b[1;33m\u001b[0m\u001b[0m\n\u001b[1;32m----> 2\u001b[1;33m \u001b[0mprint\u001b[0m\u001b[1;33m(\u001b[0m\u001b[0mmax\u001b[0m\u001b[1;33m(\u001b[0m\u001b[0mtpl\u001b[0m\u001b[1;33m)\u001b[0m\u001b[1;33m)\u001b[0m\u001b[1;33m\u001b[0m\u001b[1;33m\u001b[0m\u001b[0m\n\u001b[0m",
      "\u001b[1;31mTypeError\u001b[0m: '>' not supported between instances of 'str' and 'int'"
     ]
    }
   ],
   "source": [
    "tpl = (1777, 'a')\n",
    "print(max(tpl))"
   ]
  },
  {
   "cell_type": "markdown",
   "id": "1c2a283d",
   "metadata": {},
   "source": [
    "кортеж – это упорядоченный набор элементов\n",
    "\n",
    "кортеж нельзя изменять после создания"
   ]
  },
  {
   "cell_type": "code",
   "execution_count": 72,
   "id": "35d81dfc",
   "metadata": {},
   "outputs": [
    {
     "ename": "TypeError",
     "evalue": "'tuple' object does not support item assignment",
     "output_type": "error",
     "traceback": [
      "\u001b[1;31m---------------------------------------------------------------------------\u001b[0m",
      "\u001b[1;31mTypeError\u001b[0m                                 Traceback (most recent call last)",
      "\u001b[1;32mC:\\Users\\91AF~1\\AppData\\Local\\Temp/ipykernel_3096/2099687251.py\u001b[0m in \u001b[0;36m<module>\u001b[1;34m\u001b[0m\n\u001b[0;32m      1\u001b[0m \u001b[0mtpl\u001b[0m \u001b[1;33m=\u001b[0m \u001b[1;33m(\u001b[0m\u001b[1;36m100\u001b[0m\u001b[1;33m,\u001b[0m \u001b[1;36m200\u001b[0m\u001b[1;33m,\u001b[0m \u001b[1;36m300\u001b[0m\u001b[1;33m,\u001b[0m \u001b[1;36m400\u001b[0m\u001b[1;33m,\u001b[0m \u001b[1;36m500\u001b[0m\u001b[1;33m)\u001b[0m\u001b[1;33m\u001b[0m\u001b[1;33m\u001b[0m\u001b[0m\n\u001b[1;32m----> 2\u001b[1;33m \u001b[0mtpl\u001b[0m\u001b[1;33m[\u001b[0m\u001b[1;36m1\u001b[0m\u001b[1;33m]\u001b[0m \u001b[1;33m=\u001b[0m \u001b[1;36m700\u001b[0m\u001b[1;33m\u001b[0m\u001b[1;33m\u001b[0m\u001b[0m\n\u001b[0m\u001b[0;32m      3\u001b[0m \u001b[0mprint\u001b[0m\u001b[1;33m(\u001b[0m\u001b[0mtpl\u001b[0m\u001b[1;33m)\u001b[0m\u001b[1;33m\u001b[0m\u001b[1;33m\u001b[0m\u001b[0m\n",
      "\u001b[1;31mTypeError\u001b[0m: 'tuple' object does not support item assignment"
     ]
    }
   ],
   "source": [
    "tpl = (100, 200, 300, 400, 500)\n",
    "tpl[1] = 700\n",
    "print(tpl)"
   ]
  },
  {
   "cell_type": "code",
   "execution_count": 73,
   "id": "5251a515",
   "metadata": {},
   "outputs": [
    {
     "ename": "AttributeError",
     "evalue": "'tuple' object has no attribute 'pop'",
     "output_type": "error",
     "traceback": [
      "\u001b[1;31m---------------------------------------------------------------------------\u001b[0m",
      "\u001b[1;31mAttributeError\u001b[0m                            Traceback (most recent call last)",
      "\u001b[1;32mC:\\Users\\91AF~1\\AppData\\Local\\Temp/ipykernel_3096/3731817640.py\u001b[0m in \u001b[0;36m<module>\u001b[1;34m\u001b[0m\n\u001b[0;32m      1\u001b[0m \u001b[0mtpl\u001b[0m \u001b[1;33m=\u001b[0m \u001b[1;33m(\u001b[0m\u001b[1;36m100\u001b[0m\u001b[1;33m,\u001b[0m \u001b[1;36m200\u001b[0m\u001b[1;33m,\u001b[0m \u001b[1;36m300\u001b[0m\u001b[1;33m,\u001b[0m \u001b[1;36m400\u001b[0m\u001b[1;33m,\u001b[0m \u001b[1;36m500\u001b[0m\u001b[1;33m)\u001b[0m\u001b[1;33m\u001b[0m\u001b[1;33m\u001b[0m\u001b[0m\n\u001b[1;32m----> 2\u001b[1;33m \u001b[0mtpl\u001b[0m\u001b[1;33m.\u001b[0m\u001b[0mpop\u001b[0m\u001b[1;33m(\u001b[0m\u001b[1;36m2\u001b[0m\u001b[1;33m)\u001b[0m\u001b[1;33m\u001b[0m\u001b[1;33m\u001b[0m\u001b[0m\n\u001b[0m\u001b[0;32m      3\u001b[0m \u001b[0mprint\u001b[0m\u001b[1;33m(\u001b[0m\u001b[0mtpl\u001b[0m\u001b[1;33m)\u001b[0m\u001b[1;33m\u001b[0m\u001b[1;33m\u001b[0m\u001b[0m\n",
      "\u001b[1;31mAttributeError\u001b[0m: 'tuple' object has no attribute 'pop'"
     ]
    }
   ],
   "source": [
    "tpl = (100, 200, 300, 400, 500)\n",
    "tpl.pop(2)\n",
    "print(tpl)"
   ]
  },
  {
   "cell_type": "code",
   "execution_count": 74,
   "id": "fc2a823a",
   "metadata": {},
   "outputs": [
    {
     "data": {
      "text/plain": [
       "'loves'"
      ]
     },
     "execution_count": 74,
     "metadata": {},
     "output_type": "execute_result"
    }
   ],
   "source": [
    "a, b, c = 'Beegeek loves Stepik'.split()\n",
    "b"
   ]
  },
  {
   "cell_type": "code",
   "execution_count": 75,
   "id": "ce54d782",
   "metadata": {},
   "outputs": [
    {
     "data": {
      "text/plain": [
       "[2, 3, 4, 5, 6]"
      ]
     },
     "execution_count": 75,
     "metadata": {},
     "output_type": "execute_result"
    }
   ],
   "source": [
    "a, b, *c = range(7)\n",
    "c"
   ]
  },
  {
   "cell_type": "code",
   "execution_count": 76,
   "id": "41e1c2c4",
   "metadata": {},
   "outputs": [
    {
     "data": {
      "text/plain": [
       "[]"
      ]
     },
     "execution_count": 76,
     "metadata": {},
     "output_type": "execute_result"
    }
   ],
   "source": [
    "a, *b, c = 'No bees', 'no honey'\n",
    "b"
   ]
  },
  {
   "cell_type": "code",
   "execution_count": null,
   "id": "d00a80c5",
   "metadata": {},
   "outputs": [],
   "source": []
  }
 ],
 "metadata": {
  "kernelspec": {
   "display_name": "Python 3 (ipykernel)",
   "language": "python",
   "name": "python3"
  },
  "language_info": {
   "codemirror_mode": {
    "name": "ipython",
    "version": 3
   },
   "file_extension": ".py",
   "mimetype": "text/x-python",
   "name": "python",
   "nbconvert_exporter": "python",
   "pygments_lexer": "ipython3",
   "version": "3.9.7"
  }
 },
 "nbformat": 4,
 "nbformat_minor": 5
}
