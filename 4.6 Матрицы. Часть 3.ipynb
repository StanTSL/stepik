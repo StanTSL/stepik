{
 "cells": [
  {
   "cell_type": "markdown",
   "id": "e0392ebe",
   "metadata": {},
   "source": [
    "### Шахматная доска\n",
    "На вход программе подаются два натуральных числа n и m. Напишите программу для создания матрицы размером n×m, заполнив её символами . и * в шахматном порядке. В левом верхнем углу должна стоять точка. Выведите полученную матрицу на экран, разделяя элементы пробелами."
   ]
  },
  {
   "cell_type": "code",
   "execution_count": 3,
   "id": "a05e281e",
   "metadata": {},
   "outputs": [
    {
     "data": {
      "text/plain": [
       "[['.', '.', '.', '.'], ['.', '.', '.', '.'], ['.', '.', '.', '.']]"
      ]
     },
     "execution_count": 3,
     "metadata": {},
     "output_type": "execute_result"
    }
   ],
   "source": [
    "n, m = 3, 4    # n, m = [int(i) for i in input().split()]\n",
    "\n",
    "matrix = [['.'] * m for _ in range(n)]\n",
    "matrix"
   ]
  },
  {
   "cell_type": "code",
   "execution_count": 14,
   "id": "e951817f",
   "metadata": {},
   "outputs": [
    {
     "name": "stdout",
     "output_type": "stream",
     "text": [
      ". * . *\n",
      "* . * .\n",
      ". * . *\n"
     ]
    }
   ],
   "source": [
    "for i in range(n):\n",
    "    for j in range(m):\n",
    "        if (i+j)%2 != 0:\n",
    "            matrix[i][j] = '*'\n",
    "        \n",
    "for row in matrix:\n",
    "    print(*row)"
   ]
  },
  {
   "cell_type": "markdown",
   "id": "30e71c12",
   "metadata": {},
   "source": [
    "### Побочная диагональ\n",
    "На вход программе подается натуральное число n. Напишите программу, которая создает матрицу размером n×n и заполняет её по следующему правилу:\n",
    "\n",
    "- числа на побочной диагонали равны 1;\n",
    "- числа, стоящие выше этой диагонали, равны 0;\n",
    "- числа, стоящие ниже этой диагонали, равны 2.\n",
    "\n",
    "Полученную матрицу выведите на экран. Числа в строке разделяйте одним пробелом.\n",
    "\n",
    "Программа должна вывести матрицу в соответствии с условием задачи.\n",
    "\n",
    "Примечание. Побочная диагональ — это диагональ, идущая из правого верхнего в левый нижний угол матрицы."
   ]
  },
  {
   "cell_type": "code",
   "execution_count": 16,
   "id": "2b9f871c",
   "metadata": {},
   "outputs": [
    {
     "data": {
      "text/plain": [
       "[[0, 0, 0, 0, 0, 0, 0, 0, 0, 0],\n",
       " [0, 0, 0, 0, 0, 0, 0, 0, 0, 0],\n",
       " [0, 0, 0, 0, 0, 0, 0, 0, 0, 0],\n",
       " [0, 0, 0, 0, 0, 0, 0, 0, 0, 0],\n",
       " [0, 0, 0, 0, 0, 0, 0, 0, 0, 0],\n",
       " [0, 0, 0, 0, 0, 0, 0, 0, 0, 0],\n",
       " [0, 0, 0, 0, 0, 0, 0, 0, 0, 0],\n",
       " [0, 0, 0, 0, 0, 0, 0, 0, 0, 0],\n",
       " [0, 0, 0, 0, 0, 0, 0, 0, 0, 0],\n",
       " [0, 0, 0, 0, 0, 0, 0, 0, 0, 0]]"
      ]
     },
     "execution_count": 16,
     "metadata": {},
     "output_type": "execute_result"
    }
   ],
   "source": [
    "n = 10    \n",
    "\n",
    "matrix = [[0] * n for _ in range(n)]\n",
    "matrix"
   ]
  },
  {
   "cell_type": "code",
   "execution_count": 17,
   "id": "e1b22e3f",
   "metadata": {},
   "outputs": [
    {
     "data": {
      "text/plain": [
       "[[0, 0, 0, 0, 0, 0, 0, 0, 0, 1],\n",
       " [0, 0, 0, 0, 0, 0, 0, 0, 1, 0],\n",
       " [0, 0, 0, 0, 0, 0, 0, 1, 0, 0],\n",
       " [0, 0, 0, 0, 0, 0, 1, 0, 0, 0],\n",
       " [0, 0, 0, 0, 0, 1, 0, 0, 0, 0],\n",
       " [0, 0, 0, 0, 1, 0, 0, 0, 0, 0],\n",
       " [0, 0, 0, 1, 0, 0, 0, 0, 0, 0],\n",
       " [0, 0, 1, 0, 0, 0, 0, 0, 0, 0],\n",
       " [0, 1, 0, 0, 0, 0, 0, 0, 0, 0],\n",
       " [1, 0, 0, 0, 0, 0, 0, 0, 0, 0]]"
      ]
     },
     "execution_count": 17,
     "metadata": {},
     "output_type": "execute_result"
    }
   ],
   "source": [
    "for i in range(n):                     # заполняем главную диагональ единицами, а побочную двойками\n",
    "    matrix[i][n-i-1] = 1\n",
    "matrix"
   ]
  },
  {
   "cell_type": "code",
   "execution_count": 18,
   "id": "16807041",
   "metadata": {},
   "outputs": [
    {
     "name": "stdout",
     "output_type": "stream",
     "text": [
      "0 0 0 0 0 0 0 0 0 1\n",
      "0 0 0 0 0 0 0 0 1 2\n",
      "0 0 0 0 0 0 0 1 2 2\n",
      "0 0 0 0 0 0 1 2 2 2\n",
      "0 0 0 0 0 1 2 2 2 2\n",
      "0 0 0 0 1 2 2 2 2 2\n",
      "0 0 0 1 2 2 2 2 2 2\n",
      "0 0 1 2 2 2 2 2 2 2\n",
      "0 1 2 2 2 2 2 2 2 2\n",
      "1 2 2 2 2 2 2 2 2 2\n"
     ]
    }
   ],
   "source": [
    "for i in range(n):\n",
    "    for j in range(n):\n",
    "        if i <= j and i > n-1-j:\n",
    "            matrix[i][j] = 2\n",
    "        if i >= j and i > n-1-j:\n",
    "            matrix[i][j] = 2\n",
    "for row in matrix:\n",
    "    print(*row)"
   ]
  },
  {
   "cell_type": "markdown",
   "id": "141fee42",
   "metadata": {},
   "source": [
    "**еще вариант**"
   ]
  },
  {
   "cell_type": "code",
   "execution_count": 19,
   "id": "2219371d",
   "metadata": {},
   "outputs": [],
   "source": [
    "q = [[(i >= n - j - 1) + (i > n - j - 1) for j in range(n)] for i in range(n)]"
   ]
  },
  {
   "cell_type": "code",
   "execution_count": 20,
   "id": "509e1f62",
   "metadata": {},
   "outputs": [
    {
     "name": "stdout",
     "output_type": "stream",
     "text": [
      "0 0 0 0 0 0 0 0 0 1\n",
      "0 0 0 0 0 0 0 0 1 2\n",
      "0 0 0 0 0 0 0 1 2 2\n",
      "0 0 0 0 0 0 1 2 2 2\n",
      "0 0 0 0 0 1 2 2 2 2\n",
      "0 0 0 0 1 2 2 2 2 2\n",
      "0 0 0 1 2 2 2 2 2 2\n",
      "0 0 1 2 2 2 2 2 2 2\n",
      "0 1 2 2 2 2 2 2 2 2\n",
      "1 2 2 2 2 2 2 2 2 2\n"
     ]
    }
   ],
   "source": [
    "for q in matrix:\n",
    "    print(*q)"
   ]
  },
  {
   "cell_type": "markdown",
   "id": "a479db24",
   "metadata": {},
   "source": [
    "### Заполнение 1\n",
    "На вход программе подаются два натуральных числа n и m— количество строк и столбцов в матрице. Напишите программу, которая создает матрицу размером n×m и заполняет её числами от 1 до n⋅m в соответствии с образцом.\n",
    "\n",
    "Программа должна вывести матрицу в соответствии с образцом.\n",
    "\n",
    "Примечание. Для вывода элементов матрицы как в примерах, отводите ровно 3 символа на каждый элемент. Для этого используйте строковый метод ljust(). Можно обойтись и без ljust(), система примет и такое решение 😇"
   ]
  },
  {
   "cell_type": "code",
   "execution_count": 51,
   "id": "163c74b3",
   "metadata": {},
   "outputs": [],
   "source": [
    "n, m = [int(n) for n in '3 4'.split()]"
   ]
  },
  {
   "cell_type": "code",
   "execution_count": 52,
   "id": "558264aa",
   "metadata": {},
   "outputs": [
    {
     "data": {
      "text/plain": [
       "[[0, 0, 0, 0], [0, 0, 0, 0], [0, 0, 0, 0]]"
      ]
     },
     "execution_count": 52,
     "metadata": {},
     "output_type": "execute_result"
    }
   ],
   "source": [
    "matrix = [[0]*m for _ in range(n)]\n",
    "matrix"
   ]
  },
  {
   "cell_type": "code",
   "execution_count": 53,
   "id": "814a9aca",
   "metadata": {},
   "outputs": [
    {
     "name": "stdout",
     "output_type": "stream",
     "text": [
      "1   2   3   4   \n",
      "5   6   7   8   \n",
      "9   10  11  12  \n"
     ]
    }
   ],
   "source": [
    "for i in range(n):\n",
    "    for j in range(m):\n",
    "        matrix[i][j] = i * m + j + 1\n",
    "        \n",
    "        print(str(matrix[i][j]).ljust(3), end=' ')\n",
    "    print()"
   ]
  },
  {
   "cell_type": "markdown",
   "id": "50c21da7",
   "metadata": {},
   "source": [
    "### Заполнение 2\n",
    "На вход программе подаются два натуральных числа n и m— количество строк и столбцов в матрице. Напишите программу, которая создает матрицу размером n×m заполнив её в соответствии с образцом.\n",
    "\n",
    "Программа должна вывести указанную матрицу в соответствии с образцом.\n",
    "\n",
    "Примечание. Для вывода элементов матрицы как в примерах, отводите ровно 3 символа на каждый элемент. Для этого используйте строковый метод ljust(). Можно обойтись и без ljust(), система примет и такое решение 😇"
   ]
  },
  {
   "cell_type": "code",
   "execution_count": 57,
   "id": "7415612c",
   "metadata": {},
   "outputs": [
    {
     "name": "stdout",
     "output_type": "stream",
     "text": [
      "1   4   7   10  13  16  19  \n",
      "2   5   8   11  14  17  20  \n",
      "3   6   9   12  15  18  21  \n"
     ]
    }
   ],
   "source": [
    "n, m = [int(k) for k in '3 7'.split()]  \n",
    "matrix = [[0]*m for _ in range(n)]\n",
    "for i in range(n):\n",
    "    for j in range(m):\n",
    "        matrix[i][j] = i + j*n + 1\n",
    "        \n",
    "        print(str(matrix[i][j]).ljust(3), end=' ')\n",
    "    print()"
   ]
  },
  {
   "cell_type": "code",
   "execution_count": 58,
   "id": "4c009fcd",
   "metadata": {},
   "outputs": [
    {
     "name": "stdout",
     "output_type": "stream",
     "text": [
      "3 7\n",
      "1 4 7 10 13 16 19\n",
      "2 5 8 11 14 17 20\n",
      "3 6 9 12 15 18 21\n"
     ]
    }
   ],
   "source": [
    "row, col = input().split()\n",
    "\n",
    "lst = [[0 for x in range(int(col))] for _ in range(int(row))]\n",
    "counter = 1\n",
    "\n",
    "for i in range(int(col)):\n",
    "    for j in range(int(row)):\n",
    "        lst[j][i] = counter\n",
    "        counter += 1\n",
    "for r in lst:\n",
    "    print(*r)\n"
   ]
  },
  {
   "cell_type": "markdown",
   "id": "000657a0",
   "metadata": {},
   "source": [
    "### Заполнение 3\n",
    "На вход программе подается натуральное число n— количество строк и столбцов в матрице. Напишите программу, которая создает матрицу размером n×n заполнив её в соответствии с образцом.\n",
    "\n",
    "Программа должна вывести указанную матрицу в соответствии с образцом: разместить единицы на главной и побочной диагоналях, остальные позиции матрицы заполнить нулями.\n",
    "\n",
    "Примечание. Для вывода элементов матрицы как в примерах, отводите ровно 3 символа на каждый элемент. Для этого используйте строковый метод ljust(). Можно обойтись и без ljust(), система примет и такое решение 😇"
   ]
  },
  {
   "cell_type": "code",
   "execution_count": 64,
   "id": "769399f7",
   "metadata": {},
   "outputs": [
    {
     "name": "stdout",
     "output_type": "stream",
     "text": [
      "1   0   0   0   1   \n",
      "0   1   0   1   0   \n",
      "0   0   1   0   0   \n",
      "0   1   0   1   0   \n",
      "1   0   0   0   1   \n"
     ]
    }
   ],
   "source": [
    "n = 5\n",
    "matrix = [[0] * n for _ in range(n)]\n",
    "for i in range(n):\n",
    "    for j in range(n):\n",
    "        matrix[i][i] = 1\n",
    "        matrix[i][n-i-1] = 1\n",
    "        print(str(matrix[i][j]).ljust(3), end=' ')\n",
    "    print()"
   ]
  },
  {
   "cell_type": "markdown",
   "id": "a6568fca",
   "metadata": {},
   "source": [
    "**еще вариант**"
   ]
  },
  {
   "cell_type": "code",
   "execution_count": 65,
   "id": "7facebe0",
   "metadata": {},
   "outputs": [
    {
     "name": "stdout",
     "output_type": "stream",
     "text": [
      "1 0 0 0 1\n",
      "0 1 0 1 0\n",
      "0 0 1 0 0\n",
      "0 1 0 1 0\n",
      "1 0 0 0 1\n"
     ]
    }
   ],
   "source": [
    "res = [[1 if i == j or i == n - j - 1 else 0 for j in range(n)] for i in range(n)]\n",
    "\n",
    "for x in res:\n",
    "    print(*x)"
   ]
  },
  {
   "cell_type": "markdown",
   "id": "ebb56bba",
   "metadata": {},
   "source": [
    "### Заполнение 4\n",
    "На вход программе подается натуральное число n — количество строк и столбцов в матрице. Напишите программу, которая создает матрицу размером n×n заполнив её в соответствии с образцом.\n",
    "\n",
    "Программа должна вывести указанную матрицу в соответствии с образцом.\n",
    "\n",
    "Примечание. Для вывода элементов матрицы как в примерах, отводите ровно 3 символа на каждый элемент. Для этого используйте строковый метод ljust(). Можно обойтись и без ljust(), система примет и такое решение 😇"
   ]
  },
  {
   "cell_type": "code",
   "execution_count": 68,
   "id": "608b7e66",
   "metadata": {},
   "outputs": [
    {
     "name": "stdout",
     "output_type": "stream",
     "text": [
      "1   1   1   1   1   \n",
      "0   1   1   1   0   \n",
      "0   0   1   0   0   \n",
      "0   1   1   1   0   \n",
      "1   1   1   1   1   \n"
     ]
    }
   ],
   "source": [
    "n = 5\n",
    "matrix = [[0] * n for _ in range(n)]\n",
    "for i in range(n):\n",
    "    for j in range(n):\n",
    "        matrix[i][i] = 1\n",
    "        matrix[i][n-i-1] = 1\n",
    "        if i > j and i > n-1-j:\n",
    "            matrix[i][j] = 1\n",
    "        if i < j and i < n-1-j:\n",
    "            matrix[i][j] = 1\n",
    "        print(str(matrix[i][j]).ljust(3), end=' ')\n",
    "    print()"
   ]
  },
  {
   "cell_type": "markdown",
   "id": "db4a2aa4",
   "metadata": {},
   "source": [
    "**еще вариант**"
   ]
  },
  {
   "cell_type": "code",
   "execution_count": 70,
   "id": "75e27b90",
   "metadata": {},
   "outputs": [
    {
     "name": "stdout",
     "output_type": "stream",
     "text": [
      "1   1   1   1   \n",
      "0   1   1   0   \n",
      "0   1   1   0   \n",
      "1   1   1   1   \n"
     ]
    }
   ],
   "source": [
    "n = 4\n",
    "matrix = [[0] * n for _ in range(n)]\n",
    "for i in range(n):\n",
    "    for j in range(n):\n",
    "        if (i <= j and i + j + 1 <= n) or (i >= j and i + j + 1 >= n):\n",
    "            matrix[i][j] = 1\n",
    "        print(str(matrix[i][j]).ljust(3), end=' ')\n",
    "    print()"
   ]
  },
  {
   "cell_type": "markdown",
   "id": "3b9d2dbf",
   "metadata": {},
   "source": [
    "### Заполнение 5 🌶️\n",
    "На вход программе подаются два натуральных числа n и m — количество строк и столбцов в матрице. Напишите программу, которая создает матрицу размером n×m заполнив её в соответствии с образцом.\n",
    "\n",
    "Программа должна вывести указанную матрицу в соответствии с образцом.\n",
    "\n",
    "Примечание. Для вывода элементов матрицы как в примерах, отводите ровно 3 символа на каждый элемент. Для этого используйте строковый метод ljust(). Можно обойтись и без ljust(), система примет и такое решение 😇"
   ]
  },
  {
   "cell_type": "code",
   "execution_count": 75,
   "id": "66840802",
   "metadata": {},
   "outputs": [
    {
     "name": "stdout",
     "output_type": "stream",
     "text": [
      "1   2   3   4   5   \n",
      "2   3   4   5   1   \n",
      "3   4   5   1   2   \n",
      "4   5   1   2   3   \n",
      "5   1   2   3   4   \n"
     ]
    }
   ],
   "source": [
    "n, m = [int(k) for k in '5 5'.split()]  \n",
    "matrix = [[0]*m for _ in range(n)]\n",
    "for i in range(n):\n",
    "    for j in range(m):\n",
    "        matrix[i][j] = (i  + j) % m + 1\n",
    "        \n",
    "        print(str(matrix[i][j]).ljust(3), end=' ')\n",
    "    print()"
   ]
  },
  {
   "cell_type": "markdown",
   "id": "a3a19f2a",
   "metadata": {},
   "source": [
    "### Заполнение змейкой\n",
    "На вход программе подаются два натуральных числа n и m — количество строк и столбцов в матрице. Напишите программу, которая создает матрицу размером n×m заполнив её \"змейкой\" в соответствии с образцом.\n",
    "\n",
    "Программа должна вывести указанную матрицу в соответствии с образцом.\n",
    "\n",
    "Примечание. Для вывода элементов матрицы как в примерах, отводите ровно 33 символа на каждый элемент. Для этого используйте строковый метод ljust(). Можно обойтись и без ljust(), система примет и такое решение 😇"
   ]
  },
  {
   "cell_type": "code",
   "execution_count": 108,
   "id": "347c91b6",
   "metadata": {},
   "outputs": [
    {
     "name": "stdout",
     "output_type": "stream",
     "text": [
      "1   2   3   4   5   \n",
      "10  9   8   7   6   \n",
      "11  12  13  14  15  \n",
      "20  19  18  17  16  \n",
      "21  22  23  24  25  \n"
     ]
    }
   ],
   "source": [
    "n, m = [int(k) for k in '5 5'.split()]   # n, m = map(int, input().split())\n",
    "matrix = [[0]*m for _ in range(n)]\n",
    "for i in range(n):\n",
    "    for j in range(m):\n",
    "        matrix[i][j] = i * m + j + 1\n",
    "    if i%2!=0:\n",
    "        matrix[i].reverse()\n",
    "for i in range(n):\n",
    "    for j in range(m):\n",
    "        print(str(matrix[i][j]).ljust(3), end=' ')\n",
    "    print()"
   ]
  },
  {
   "cell_type": "markdown",
   "id": "1cd8a43a",
   "metadata": {},
   "source": [
    "### Заполнение диагоналями 🌶️\n",
    "На вход программе подаются два натуральных числа n и m — количество строк и столбцов в матрице. Напишите программу, которая создает матрицу размером n×m заполнив её \"диагоналями\" в соответствии с образцом.\n",
    "\n",
    "Программа должна вывести указанную матрицу в соответствии с образцом.\n",
    "\n",
    "Примечание. Для вывода элементов матрицы как в примерах, отводите ровно 3 символа на каждый элемент. Для этого используйте строковый метод ljust(). Можно обойтись и без ljust(), система примет и такое решение 😇\n",
    "  "
   ]
  },
  {
   "cell_type": "code",
   "execution_count": 113,
   "id": "8972959d",
   "metadata": {},
   "outputs": [
    {
     "name": "stdout",
     "output_type": "stream",
     "text": [
      "1   2   4   7   10  \n",
      "3   5   8   11  13  \n",
      "6   9   12  14  15  \n"
     ]
    }
   ],
   "source": [
    "n, m = map(int, '3 5'.split())\n",
    "matrix = [[0]*m for _ in range(n)]\n",
    "nm = 0\n",
    "for q in range(n*m):\n",
    "    for i in range(n):\n",
    "        for j in range(m):\n",
    "            if i+j == q:\n",
    "                nm += 1\n",
    "                matrix[i][j] = nm\n",
    "for i in range(n):\n",
    "    for j in range(m):\n",
    "        print(str(matrix[i][j]).ljust(3), end=' ')\n",
    "    print()"
   ]
  },
  {
   "cell_type": "markdown",
   "id": "cf9826e0",
   "metadata": {},
   "source": [
    "### Заполнение спиралью 😈😈\n",
    "На вход программе подаются два натуральных числа n и m — количество строк и столбцов в матрице. Напишите программу, которая создает матрицу размером n×m заполнив её \"спиралью\" в соответствии с образцом.\n",
    "\n",
    "Программа должна вывести матрицу в соответствии образцом.\n",
    "\n",
    "Примечание. Для вывода элементов матрицы как в примерах, отводите ровно 3 символа на каждый элемент. Для этого используйте строковый метод ljust(). Можно обойтись и без ljust(), система примет и такое решение 😇"
   ]
  },
  {
   "cell_type": "code",
   "execution_count": 115,
   "id": "8846be09",
   "metadata": {},
   "outputs": [
    {
     "name": "stdout",
     "output_type": "stream",
     "text": [
      "1   2   3   4   5   \n",
      "14  15  16  17  6   \n",
      "13  20  19  18  7   \n",
      "12  11  10  9   8   \n"
     ]
    }
   ],
   "source": [
    "n, m = map(int, '4 5'.split())\n",
    "\n",
    "a = [[0] * m for _ in range(n)]\n",
    "\n",
    "i, j, d = 0, 0, 0\n",
    "moves = ((0, 1,), (1, 0,), (0, -1,), (-1, 0,),)\n",
    "for k in range(1, n * m + 1):\n",
    "    a[i][j] = k\n",
    "    for l in range(4):\n",
    "        newD = (d + l) % 4\n",
    "        di, dj = moves[newD]\n",
    "        newI, newJ = i + di, j + dj\n",
    "        if 0 <= newI < n and 0 <= newJ < m and a[newI][newJ] == 0:\n",
    "            i, j, d = newI, newJ, newD\n",
    "            break\n",
    "for i in range(n):\n",
    "    for j in range(m):\n",
    "        print(str(a[i][j]).ljust(3), end=' ')\n",
    "    print()"
   ]
  },
  {
   "cell_type": "code",
   "execution_count": 116,
   "id": "753abd3c",
   "metadata": {},
   "outputs": [
    {
     "name": "stdout",
     "output_type": "stream",
     "text": [
      "1   2   3   4   5   \n",
      "14  15  16  17  6   \n",
      "13  20  19  18  7   \n",
      "12  11  10  9   8   \n"
     ]
    }
   ],
   "source": [
    "n, m = map(int, '4 5'.split())\n",
    "arr = [[0]*m for i in range(n)]\n",
    "\n",
    "x, y, dx, dy = 0, 0, 0, 1\n",
    "for i in range(n*m):\n",
    "    arr[x][y] = i + 1\n",
    "    if arr[(x + dx) % n][(y + dy) % m]!=0:\n",
    "        dx, dy = dy, -dx\n",
    "    x, y = x + dx, y + dy\n",
    "\n",
    "for i in range(n):\n",
    "    for j in range(m):\n",
    "        print(str(a[i][j]).ljust(3), end=' ')\n",
    "    print()"
   ]
  },
  {
   "cell_type": "code",
   "execution_count": null,
   "id": "c10330b9",
   "metadata": {},
   "outputs": [],
   "source": []
  }
 ],
 "metadata": {
  "kernelspec": {
   "display_name": "Python 3 (ipykernel)",
   "language": "python",
   "name": "python3"
  },
  "language_info": {
   "codemirror_mode": {
    "name": "ipython",
    "version": 3
   },
   "file_extension": ".py",
   "mimetype": "text/x-python",
   "name": "python",
   "nbconvert_exporter": "python",
   "pygments_lexer": "ipython3",
   "version": "3.10.0"
  }
 },
 "nbformat": 4,
 "nbformat_minor": 5
}
