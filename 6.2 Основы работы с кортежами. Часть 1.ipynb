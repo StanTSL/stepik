{
 "cells": [
  {
   "cell_type": "markdown",
   "id": "1d1036bf",
   "metadata": {},
   "source": [
    "## Тема урока: кортежи\n",
    "1. Функция tuple()\n",
    "2. Особенности кортежей\n",
    "3. Методы кортежей\n",
    "4. Вложенные кортежи"
   ]
  },
  {
   "cell_type": "markdown",
   "id": "7324edde",
   "metadata": {},
   "source": [
    "### Функция tuple()\n",
    "Встроенная функция list() может применяться для преобразования **кортежа в список**."
   ]
  },
  {
   "cell_type": "code",
   "execution_count": 1,
   "id": "7b61401b",
   "metadata": {},
   "outputs": [
    {
     "name": "stdout",
     "output_type": "stream",
     "text": [
      "[1, 2, 3, 4, 5]\n"
     ]
    }
   ],
   "source": [
    "number_tuple = (1, 2, 3, 4, 5)\n",
    "number_list = list(number_tuple)\n",
    "print(number_list)"
   ]
  },
  {
   "cell_type": "markdown",
   "id": "8050c574",
   "metadata": {},
   "source": [
    "Встроенная функция tuple() может применяться для преобразования **списка в кортеж**."
   ]
  },
  {
   "cell_type": "code",
   "execution_count": 2,
   "id": "a602e418",
   "metadata": {},
   "outputs": [
    {
     "name": "stdout",
     "output_type": "stream",
     "text": [
      "('один', 'два', 'три')\n"
     ]
    }
   ],
   "source": [
    "str_list = ['один', 'два', 'три']\n",
    "str_tuple = tuple(str_list)\n",
    "print(str_tuple)"
   ]
  },
  {
   "cell_type": "markdown",
   "id": "43558cc0",
   "metadata": {},
   "source": [
    "Аналогичным образом мы можем создать кортеж **на основании строки**."
   ]
  },
  {
   "cell_type": "code",
   "execution_count": 3,
   "id": "af7c1800",
   "metadata": {},
   "outputs": [
    {
     "name": "stdout",
     "output_type": "stream",
     "text": [
      "('h', 'e', 'l', 'l', 'o', ' ', 'p', 'y', 't', 'h', 'o', 'n')\n"
     ]
    }
   ],
   "source": [
    "text = 'hello python'\n",
    "str_tuple = tuple(text)\n",
    "print(str_tuple)"
   ]
  },
  {
   "cell_type": "markdown",
   "id": "e5c66dc5",
   "metadata": {},
   "source": [
    "Обратите внимание, что символ пробел содержится в кортеже str_tuple.\n",
    "\n",
    "Преобразование строки в список позволяет получить **список символов строки**. Это может быть полезно, например, когда надо изменить один символ строки:"
   ]
  },
  {
   "cell_type": "code",
   "execution_count": 4,
   "id": "cc36f259",
   "metadata": {},
   "outputs": [
    {
     "name": "stdout",
     "output_type": "stream",
     "text": [
      "симпотичный\n",
      "симпатичный\n"
     ]
    }
   ],
   "source": [
    "s = 'симпотичный'\n",
    "print(s)\n",
    "a = list(s)\n",
    "a[4] = 'а'\n",
    "s = ''.join(a)\n",
    "print(s)"
   ]
  },
  {
   "cell_type": "markdown",
   "id": "806f4046",
   "metadata": {},
   "source": [
    "С этой же целью может потребоваться преобразование кортежа в список:"
   ]
  },
  {
   "cell_type": "code",
   "execution_count": 5,
   "id": "fbeef78b",
   "metadata": {},
   "outputs": [
    {
     "name": "stdout",
     "output_type": "stream",
     "text": [
      "('Лев Толстой', 1827)\n",
      "('Лев Толстой', 1828)\n"
     ]
    }
   ],
   "source": [
    "writer = ('Лев Толстой', 1827)\n",
    "print(writer)\n",
    "a = list(writer)\n",
    "a[1] = 1828\n",
    "writer = tuple(a)\n",
    "print(writer)"
   ]
  },
  {
   "cell_type": "markdown",
   "id": "9b35e0d0",
   "metadata": {},
   "source": [
    "### Особенности кортежей\n",
    "Кортежи поддерживают те же операции, что и списки, за исключением изменяющих содержимое.\n",
    "\n",
    "Кортежи поддерживают:\n",
    "\n",
    "- доступ к элементу по индексу (только для получения значений элементов);\n",
    "- методы, в частности index(), count();\n",
    "- встроенные функции, в частности len(), sum(), min() и max();\n",
    "- срезы;\n",
    "- оператор принадлежности in;\n",
    "- операторы конкатенации (+) и повторения (*).\n",
    "\n",
    "### Функция len()\n",
    "**Длиной кортежа** называется **количество** его элементов. Для того, чтобы посчитать длину кортежа мы используем встроенную функцию len()."
   ]
  },
  {
   "cell_type": "code",
   "execution_count": 6,
   "id": "45dd560c",
   "metadata": {},
   "outputs": [
    {
     "name": "stdout",
     "output_type": "stream",
     "text": [
      "5\n",
      "4\n",
      "3\n"
     ]
    }
   ],
   "source": [
    "numbers = (2, 4, 6, 8, 10)\n",
    "languages = ('Python', 'C#', 'C++', 'Java')\n",
    "\n",
    "print(len(numbers))      # выводим длину кортежа numbers\n",
    "print(len(languages))    # выводим длину кортежа languages\n",
    "\n",
    "print(len(('apple', 'banana', 'cherry')))   # выводим длину кортежа, состоящего из 3 элементов"
   ]
  },
  {
   "cell_type": "markdown",
   "id": "3a3b7294",
   "metadata": {},
   "source": [
    "### Оператор принадлежности in\n",
    "Оператор in позволяет проверить, содержит ли кортеж некоторый элемент."
   ]
  },
  {
   "cell_type": "code",
   "execution_count": 7,
   "id": "fb0e7e1c",
   "metadata": {},
   "outputs": [
    {
     "name": "stdout",
     "output_type": "stream",
     "text": [
      "Кортеж numbers содержит число 2\n"
     ]
    }
   ],
   "source": [
    "numbers = (2, 4, 6, 8, 10)\n",
    "\n",
    "if 2 in numbers:\n",
    "    print('Кортеж numbers содержит число 2')\n",
    "else:\n",
    "    print('Кортеж numbers не содержит число 2')"
   ]
  },
  {
   "cell_type": "markdown",
   "id": "98bb03f2",
   "metadata": {},
   "source": [
    "Такой код проверяет, содержит ли кортеж numbers число 2 и выводит соответствующий текст\n",
    "\n",
    "Мы можем использовать оператор in вместе с логическим оператором **not**. Например"
   ]
  },
  {
   "cell_type": "code",
   "execution_count": 8,
   "id": "4ff77c1c",
   "metadata": {},
   "outputs": [
    {
     "name": "stdout",
     "output_type": "stream",
     "text": [
      "Кортеж numbers не содержит нулей\n"
     ]
    }
   ],
   "source": [
    "numbers = (2, 4, 6, 8, 10)\n",
    "\n",
    "if 0 not in numbers:\n",
    "    print('Кортеж numbers не содержит нулей')"
   ]
  },
  {
   "cell_type": "markdown",
   "id": "e60fb112",
   "metadata": {},
   "source": [
    "### Индексация\n",
    "При работе со списками (строками) мы использовали индексацию, то есть обращение к конкретному элементу списка (строки) по его индексу. Аналогично можно индексировать и элементы кортежей.\n",
    "\n",
    "Для индексации кортежей в Python используются **квадратные** скобки [], в которых указывается индекс (номер) нужного элемента в кортеже:\n",
    "\n",
    "Пусть numbers = (2, 4, 6, 8, 10).\n",
    "\n",
    "Таблица ниже, показывает как работает индексация:\n",
    "\n",
    "    Выражение___Результат____Пояснение\n",
    "    numbers[0]__2____________первый элемент кортежа\n",
    "    numbers[1]__4____________второй элемент кортежа\n",
    "    numbers[2]__6____________третий элемент кортежа\n",
    "    numbers[3]__8____________четвертый элемент кортежа\n",
    "    numbers[4]__10___________пятый элемент кортежа\n",
    "    \n",
    " Так же, как и в списках, для нумерации с конца разрешены отрицательные индексы.\n",
    " \n",
    "    Выражение\tРезультат\tПояснение\n",
    "    numbers[-1]\t10\tпятый элемент кортежа\n",
    "    numbers[-2]\t8\tчетвертый элемент кортежа\n",
    "    numbers[-3]\t6\tтретий элемент кортежа\n",
    "    numbers[-4]\t4\tвторой элемент кортежа\n",
    "    numbers[-5]\t2\tпервый элемент кортежа\n",
    "    \n",
    "Как и в списках, попытка обратиться к элементу кортежа по несуществующему индексу:\n",
    "\n",
    "    print(numbers[17])\n",
    "    вызовет ошибку:\n",
    "\n",
    "    IndexError: tuple index out of range"
   ]
  },
  {
   "cell_type": "markdown",
   "id": "2a9acba0",
   "metadata": {},
   "source": [
    "### Срезы\n",
    "Рассмотрим кортеж numbers = (2, 4, 6, 8, 10).\n",
    "\n",
    "С помощью среза мы можем получить несколько элементов кортежа, создав диапазон индексов разделенных двоеточием numbers[x:y]."
   ]
  },
  {
   "cell_type": "code",
   "execution_count": 9,
   "id": "cd09bcb5",
   "metadata": {},
   "outputs": [
    {
     "name": "stdout",
     "output_type": "stream",
     "text": [
      "(4, 6)\n",
      "(6, 8, 10)\n"
     ]
    }
   ],
   "source": [
    "numbers = (2, 4, 6, 8, 10)\n",
    "print(numbers[1:3])\n",
    "print(numbers[2:5])"
   ]
  },
  {
   "cell_type": "markdown",
   "id": "649a57a0",
   "metadata": {},
   "source": [
    "При построении среза numbers[x:y] первое число – это то место, где начинается срез **(включительно)**, а второе – это место, где заканчивается срез **(невключительно)**.\n",
    "\n",
    "При использовании срезов с кортежами мы также можем опускать второй параметр в срезе numbers[x:] (но поставить двоеточие), тогда срез берется до конца кортежа. Аналогично если опустить первый параметр numbers[:y], то можно взять срез от начала кортежа.\n",
    "\n",
    "Срез numbers[:] возвращает **копию** исходного кортежа.\n",
    "\n",
    "Как и в списках, можно использовать отрицательные индексы в срезах кортежей."
   ]
  },
  {
   "cell_type": "markdown",
   "id": "70d058e7",
   "metadata": {},
   "source": [
    "### Операция конкатенации + и умножения на число *\n",
    "Операторы + и * применяют для кортежей как и для списков."
   ]
  },
  {
   "cell_type": "code",
   "execution_count": 10,
   "id": "1b3cc86f",
   "metadata": {},
   "outputs": [
    {
     "name": "stdout",
     "output_type": "stream",
     "text": [
      "(1, 2, 3, 4, 5, 6, 7, 8)\n",
      "(7, 8, 7, 8, 7, 8)\n",
      "(0, 0, 0, 0, 0, 0, 0, 0, 0, 0)\n"
     ]
    }
   ],
   "source": [
    "print((1, 2, 3, 4) + (5, 6, 7, 8))\n",
    "print((7, 8) * 3)\n",
    "print((0,) * 10)"
   ]
  },
  {
   "cell_type": "markdown",
   "id": "32d258ab",
   "metadata": {},
   "source": [
    "Для генерации кортежей, состоящих строго из повторяющихся элементов, **умножение на число** — самый короткий и правильный путь.\n",
    "\n",
    "Расширенные операторы += и *= также можно использовать при работе с кортежами."
   ]
  },
  {
   "cell_type": "code",
   "execution_count": 11,
   "id": "1eed8908",
   "metadata": {},
   "outputs": [
    {
     "name": "stdout",
     "output_type": "stream",
     "text": [
      "(1, 2, 3, 4, 7, 8)\n",
      "(7, 8, 7, 8, 7, 8, 7, 8, 7, 8)\n"
     ]
    }
   ],
   "source": [
    "a = (1, 2, 3, 4)\n",
    "b = (7, 8)\n",
    "a += b   # добавляем к кортежу a кортеж b\n",
    "b *= 5   # повторяем кортеж b 5 раз \n",
    "\n",
    "print(a)\n",
    "print(b)"
   ]
  },
  {
   "cell_type": "markdown",
   "id": "14beaea3",
   "metadata": {},
   "source": [
    "### Встроенные функции sum(), min(), max()\n",
    "Встроенная функция sum() принимает в качестве параметра кортеж чисел и вычисляет сумму его элементов."
   ]
  },
  {
   "cell_type": "code",
   "execution_count": 12,
   "id": "ea52ad45",
   "metadata": {},
   "outputs": [
    {
     "name": "stdout",
     "output_type": "stream",
     "text": [
      "Сумма всех элементов кортежа = 55\n"
     ]
    }
   ],
   "source": [
    "numbers = (1, 2, 3, 4, 5, 6, 7, 8, 9, 10)\n",
    "print('Сумма всех элементов кортежа =', sum(numbers))"
   ]
  },
  {
   "cell_type": "markdown",
   "id": "4cd03e6a",
   "metadata": {},
   "source": [
    "Встроенные функции min() и max() принимают в качестве параметра кортеж и находят минимальный и максимальный элементы соответственно."
   ]
  },
  {
   "cell_type": "code",
   "execution_count": 13,
   "id": "03727a54",
   "metadata": {},
   "outputs": [
    {
     "name": "stdout",
     "output_type": "stream",
     "text": [
      "Минимальный элемент кортежа = -7\n",
      "Максимальный элемент кортежа = 3333\n"
     ]
    }
   ],
   "source": [
    "numbers = (3, 4, 10, 3333, 12, -7, -5, 4)\n",
    "print('Минимальный элемент кортежа =', min(numbers))\n",
    "print('Максимальный элемент кортежа =', max(numbers))"
   ]
  },
  {
   "cell_type": "markdown",
   "id": "faa6e2f0",
   "metadata": {},
   "source": [
    "Функции min() и max() можно применять только к кортежам **с одним типом данных**. Если кортеж содержит разные типы данных, скажем целое число (int) и строку (str), то во время выполнения программы **произойдет ошибка**."
   ]
  },
  {
   "cell_type": "markdown",
   "id": "fe4de94f",
   "metadata": {},
   "source": [
    "### Метод index()\n",
    "Метод index() возвращает индекс первого элемента, значение которого равняется переданному в метод значению. Таким образом, в метод передается один параметр:\n",
    "    \n",
    "    value: значение, индекс которого требуется найти.\n",
    "    \n",
    "Если элемент в кортеже **не найден**, то во время выполнения происходит **ошибка**."
   ]
  },
  {
   "cell_type": "code",
   "execution_count": 14,
   "id": "c59245f0",
   "metadata": {},
   "outputs": [
    {
     "name": "stdout",
     "output_type": "stream",
     "text": [
      "2\n"
     ]
    }
   ],
   "source": [
    "names = ('Gvido', 'Roman' , 'Timur')\n",
    "position = names.index('Timur')\n",
    "print(position)"
   ]
  },
  {
   "cell_type": "markdown",
   "id": "ca1fe394",
   "metadata": {},
   "source": [
    "Следующий программный код:\n",
    "\n",
    "    names = ('Gvido', 'Roman' , 'Timur')\n",
    "    position = names.index('Anders')\n",
    "    print(position)\n",
    "    \n",
    "    приводит к ошибке: ValueError: tuple.index(x): x not in tuple\n",
    "    \n",
    "Чтобы избежать таких ошибок, можно использовать метод index() вместе с **оператором принадлежности in**:"
   ]
  },
  {
   "cell_type": "code",
   "execution_count": 15,
   "id": "6285691a",
   "metadata": {},
   "outputs": [
    {
     "name": "stdout",
     "output_type": "stream",
     "text": [
      "Такого значения нет в кортеже\n"
     ]
    }
   ],
   "source": [
    "names = ('Gvido', 'Roman' , 'Timur')\n",
    "if 'Anders' in names:\n",
    "    position = names.index('Anders')\n",
    "    print(position)\n",
    "else:\n",
    "    print('Такого значения нет в кортеже')"
   ]
  },
  {
   "cell_type": "markdown",
   "id": "b5f68262",
   "metadata": {},
   "source": [
    "### Метод count()\n",
    "Метод count() возвращает количество элементов в кортеже, значения которых равны переданному в метод значению. \n",
    "\n",
    "Таким образом, в метод передается один параметр:\n",
    "\n",
    "- value: значение, количество элементов, равных которому,  нужно посчитать.\n",
    "\n",
    "Если значение в кортеже **не найдено**, то метод **возвращает 0**."
   ]
  },
  {
   "cell_type": "code",
   "execution_count": 16,
   "id": "615634f3",
   "metadata": {},
   "outputs": [
    {
     "name": "stdout",
     "output_type": "stream",
     "text": [
      "3\n",
      "1\n",
      "0\n"
     ]
    }
   ],
   "source": [
    "names = ('Timur', 'Gvido', 'Roman', 'Timur', 'Anders', 'Timur')\n",
    "cnt1 = names.count('Timur')\n",
    "cnt2 = names.count('Gvido')\n",
    "cnt3 = names.count('Josef')\n",
    "\n",
    "print(cnt1)\n",
    "print(cnt2)\n",
    "print(cnt3)"
   ]
  },
  {
   "cell_type": "markdown",
   "id": "b6e5f937",
   "metadata": {},
   "source": [
    "Кортежи **не поддерживают** такие методы, как\n",
    "- append(), remove(), pop(), insert(), reverse(), sort(), \n",
    "\n",
    "так как они **изменяют** содержимое."
   ]
  },
  {
   "cell_type": "markdown",
   "id": "5762c8b2",
   "metadata": {},
   "source": [
    "### Вложенные кортежи\n",
    "Подобно спискам, мы можем создавать вложенные кортежи."
   ]
  },
  {
   "cell_type": "code",
   "execution_count": 17,
   "id": "4456e863",
   "metadata": {},
   "outputs": [
    {
     "name": "stdout",
     "output_type": "stream",
     "text": [
      "blue\n",
      "9\n"
     ]
    }
   ],
   "source": [
    "colors = ('red', ('green', 'blue'), 'yellow')\n",
    "numbers = (1, 2, (4, (6, 7, 8, 9)), 10, 11)\n",
    "print(colors[1][1])\n",
    "print(numbers[2][1][3])"
   ]
  },
  {
   "cell_type": "markdown",
   "id": "3a984199",
   "metadata": {},
   "source": [
    "### Задачи"
   ]
  },
  {
   "cell_type": "markdown",
   "id": "fa8396f4",
   "metadata": {},
   "source": [
    "Дополните приведенный код, используя индексацию кортежа, чтобы переменная last, содержала последний элемент кортежа countries."
   ]
  },
  {
   "cell_type": "code",
   "execution_count": 19,
   "id": "c2ce18cf",
   "metadata": {},
   "outputs": [
    {
     "name": "stdout",
     "output_type": "stream",
     "text": [
      "Italy\n"
     ]
    }
   ],
   "source": [
    "countries = ('Russia', 'Argentina', 'Spain', 'Slovakia', 'Canada', 'Slovenia', 'Italy')\n",
    "last = countries[-1]\n",
    "print(last)"
   ]
  },
  {
   "cell_type": "markdown",
   "id": "2a2bca33",
   "metadata": {},
   "source": [
    "Дополните приведенный код, используя срезы, так чтобы он вывел первые 6 элементов кортежа primes.\n",
    "\n",
    "Примечание. Результатом вывода должна быть строка (2, 3, 5, 7, 11, 13)."
   ]
  },
  {
   "cell_type": "code",
   "execution_count": 20,
   "id": "1ae3eb6e",
   "metadata": {},
   "outputs": [
    {
     "name": "stdout",
     "output_type": "stream",
     "text": [
      "(2, 3, 5, 7, 11, 13)\n"
     ]
    }
   ],
   "source": [
    "primes = (2, 3, 5, 7, 11, 13, 17, 19, 23, 29, 31, 37, 41, 43, 47, 53, 59, 61, 67, 71) \n",
    "print(primes[:6])"
   ]
  },
  {
   "cell_type": "markdown",
   "id": "f3add564",
   "metadata": {},
   "source": [
    "Дополните приведенный код, используя срезы, так чтобы он вывел элементы кортежа countries, кроме первых двух.\n",
    "\n",
    "Примечание. Результатом вывода должна быть строка ('Slovakia', 'Canada', 'Slovenia', 'Italy', 'Spain', 'Ukraine', 'Chile', 'Cameroon')."
   ]
  },
  {
   "cell_type": "code",
   "execution_count": 21,
   "id": "dc105654",
   "metadata": {},
   "outputs": [
    {
     "name": "stdout",
     "output_type": "stream",
     "text": [
      "('Slovakia', 'Canada', 'Slovenia', 'Italy', 'Spain', 'Ukraine', 'Chile', 'Cameroon')\n"
     ]
    }
   ],
   "source": [
    "countries = ('Russia', 'Argentina', 'Slovakia', 'Canada', 'Slovenia', 'Italy', 'Spain', 'Ukraine', 'Chile', 'Cameroon')\n",
    "print(countries[2:])"
   ]
  },
  {
   "cell_type": "markdown",
   "id": "29011766",
   "metadata": {},
   "source": [
    "Дополните приведенный код, используя срезы, чтобы он вывел все элементы кортежа countries, кроме последних трех."
   ]
  },
  {
   "cell_type": "code",
   "execution_count": 22,
   "id": "8b3906a4",
   "metadata": {},
   "outputs": [
    {
     "name": "stdout",
     "output_type": "stream",
     "text": [
      "('Russia', 'Argentina', 'Slovakia', 'Canada', 'Slovenia', 'Italy', 'Spain')\n"
     ]
    }
   ],
   "source": [
    "countries = ('Russia', 'Argentina', 'Slovakia', 'Canada', 'Slovenia', 'Italy', 'Spain', 'Ukraine', 'Chile', 'Cameroon')\n",
    "print(countries[:-3])"
   ]
  },
  {
   "cell_type": "markdown",
   "id": "0c9bf39a",
   "metadata": {},
   "source": [
    "Дополните приведенный код, используя срезы, чтобы он вывел все элементы кортежа countries, кроме двух последних и трех первых."
   ]
  },
  {
   "cell_type": "code",
   "execution_count": 23,
   "id": "58c97d37",
   "metadata": {},
   "outputs": [
    {
     "name": "stdout",
     "output_type": "stream",
     "text": [
      "('Canada', 'Slovenia', 'Italy', 'Spain', 'Ukraine')\n"
     ]
    }
   ],
   "source": [
    "countries = ('Russia', 'Argentina', 'Slovakia', 'Canada', 'Slovenia', 'Italy', 'Spain', 'Ukraine', 'Chile', 'Cameroon')\n",
    "print(countries[3:-2])"
   ]
  },
  {
   "cell_type": "markdown",
   "id": "b7f6e4fe",
   "metadata": {},
   "source": [
    "Дополните приведенный код так, чтобы переменная number содержала количество элементов кортежа countries."
   ]
  },
  {
   "cell_type": "code",
   "execution_count": 24,
   "id": "5c9d008d",
   "metadata": {},
   "outputs": [
    {
     "name": "stdout",
     "output_type": "stream",
     "text": [
      "7\n"
     ]
    }
   ],
   "source": [
    "countries = ('Romania', 'Poland', 'Estonia', 'Bulgaria', 'Slovakia', 'Slovenia', 'Hungary')\n",
    "number = len(countries)\n",
    "print(number)"
   ]
  },
  {
   "cell_type": "markdown",
   "id": "aa8571f9",
   "metadata": {},
   "source": [
    "Дополните приведенный код так, чтобы он вывел сумму минимального и максимального элементов кортежа numbers."
   ]
  },
  {
   "cell_type": "code",
   "execution_count": 25,
   "id": "ec251cc7",
   "metadata": {},
   "outputs": [
    {
     "name": "stdout",
     "output_type": "stream",
     "text": [
      "13.6618\n"
     ]
    }
   ],
   "source": [
    "numbers = (12.5, 3.1415, 2.718, 9.8, 1.414, 1.1618, 1.324)\n",
    "summ = min(numbers) + max(numbers)\n",
    "print(summ)"
   ]
  },
  {
   "cell_type": "markdown",
   "id": "bad06041",
   "metadata": {},
   "source": [
    "Дополните приведенный код так, чтобы переменная index содержала индекс элемента «Slovenia» в кортеже countries."
   ]
  },
  {
   "cell_type": "code",
   "execution_count": 26,
   "id": "8cc66102",
   "metadata": {},
   "outputs": [
    {
     "name": "stdout",
     "output_type": "stream",
     "text": [
      "5\n"
     ]
    }
   ],
   "source": [
    "countries = ('Russia', 'Argentina', 'Spain', 'Slovakia', 'Canada', 'Slovenia', 'Italy')\n",
    "index = countries.index('Slovenia')\n",
    "print(index)"
   ]
  },
  {
   "cell_type": "markdown",
   "id": "decc9df7",
   "metadata": {},
   "source": [
    "Дополните приведенный код так, чтобы переменная number, содержала количество вхождений «Spain» в кортеж countries."
   ]
  },
  {
   "cell_type": "code",
   "execution_count": 27,
   "id": "674c7774",
   "metadata": {},
   "outputs": [
    {
     "name": "stdout",
     "output_type": "stream",
     "text": [
      "3\n"
     ]
    }
   ],
   "source": [
    "countries = ('Russia', 'Argentina', 'Spain', 'Slovakia', 'Canada', 'Slovenia', 'Italy', 'Spain', 'Ukraine', 'Chile', 'Spain', 'Cameroon')\n",
    "number = countries.count('Spain')\n",
    "print(number)"
   ]
  },
  {
   "cell_type": "markdown",
   "id": "d2539814",
   "metadata": {},
   "source": [
    "Дополните приведенный код, используя операторы конкатенации (+) и умножения кортежа на число (*), чтобы он вывел кортеж:\n",
    "\n",
    " (1, 2, 3, 1, 2, 3, 6, 6, 6, 6, 6, 6, 6, 6, 6, 7, 8, 9, 10, 11, 12, 13)."
   ]
  },
  {
   "cell_type": "code",
   "execution_count": 28,
   "id": "2752a509",
   "metadata": {},
   "outputs": [
    {
     "name": "stdout",
     "output_type": "stream",
     "text": [
      "(1, 2, 3, 1, 2, 3, 6, 6, 6, 6, 6, 6, 6, 6, 6, 7, 8, 9, 10, 11, 12, 13)\n"
     ]
    }
   ],
   "source": [
    "numbers1 = (1, 2, 3)\n",
    "numbers2 = (6,)\n",
    "numbers3 = (7, 8, 9, 10, 11, 12, 13)\n",
    "\n",
    "print(numbers1*2 + numbers2*9 + numbers3)"
   ]
  },
  {
   "cell_type": "markdown",
   "id": "7fe44494",
   "metadata": {},
   "source": [
    "В переменную city_name вводится название города (например, Москва), а в переменную city_year – год его основания (например, 1147). Заполните пропущенную строку таким образом, чтобы в переменной city оказался кортеж из значений этих двух переменных (сначала название города, затем год основания)."
   ]
  },
  {
   "cell_type": "code",
   "execution_count": 29,
   "id": "50d9b0d2",
   "metadata": {},
   "outputs": [
    {
     "name": "stdout",
     "output_type": "stream",
     "text": [
      "Москва\n",
      "1147\n",
      "('Москва', 1147)\n"
     ]
    }
   ],
   "source": [
    "city_name = input()\n",
    "city_year = int(input())\n",
    "city = (city_name, city_year)\n",
    "print(city)"
   ]
  },
  {
   "cell_type": "markdown",
   "id": "5a0a75a5",
   "metadata": {},
   "source": [
    "Дополните приведенный код, так чтобы получить список, содержащий только непустые кортежи исходного списка tuples, не меняя порядка их следования."
   ]
  },
  {
   "cell_type": "code",
   "execution_count": 36,
   "id": "f8f7c152",
   "metadata": {},
   "outputs": [
    {
     "name": "stdout",
     "output_type": "stream",
     "text": [
      "[('',), ('a', 'b'), ('a', 'b', 'c'), (1,), ('d',), ('', '')]\n"
     ]
    }
   ],
   "source": [
    "tuples = [(), (), ('',), ('a', 'b'), (), ('a', 'b', 'c'), (1,), (), (), ('d',), ('', ''), ()]\n",
    "non_empty_tuples = [i for i in tuples if i]  # if len(i)>0\n",
    "                   # = list(filter(None, tuples))\n",
    "\n",
    "print(non_empty_tuples)"
   ]
  },
  {
   "cell_type": "markdown",
   "id": "804da0a3",
   "metadata": {},
   "source": [
    "Дополните приведенный код так, чтобы переменная new_tuples, содержала список кортежей на основе списка tuples с последним элементом каждого кортежа, замененным на численное значение 100."
   ]
  },
  {
   "cell_type": "code",
   "execution_count": 57,
   "id": "433b02d2",
   "metadata": {},
   "outputs": [
    {
     "name": "stdout",
     "output_type": "stream",
     "text": [
      "[(10, 20, 100), (40, 50, 100), (70, 80, 100), (10, 100), (1, 2, 3, 100), (5, 6, 10, 2, 1, 100)]\n"
     ]
    }
   ],
   "source": [
    "tuples = [(10, 20, 40), (40, 50, 60), (70, 80, 90), (10, 90), (1, 2, 3, 4), (5, 6, 10, 2, 1, 77)]\n",
    "\n",
    "new_tuples = [i[:-1] + (100,) for i in tuples]\n",
    "print(new_tuples)"
   ]
  },
  {
   "cell_type": "code",
   "execution_count": 52,
   "id": "876edc5d",
   "metadata": {},
   "outputs": [
    {
     "data": {
      "text/plain": [
       "(10, 20)"
      ]
     },
     "execution_count": 52,
     "metadata": {},
     "output_type": "execute_result"
    }
   ],
   "source": [
    "tuples[0][:-1]"
   ]
  },
  {
   "cell_type": "code",
   "execution_count": null,
   "id": "7c3a5ed7",
   "metadata": {},
   "outputs": [],
   "source": []
  }
 ],
 "metadata": {
  "kernelspec": {
   "display_name": "Python 3 (ipykernel)",
   "language": "python",
   "name": "python3"
  },
  "language_info": {
   "codemirror_mode": {
    "name": "ipython",
    "version": 3
   },
   "file_extension": ".py",
   "mimetype": "text/x-python",
   "name": "python",
   "nbconvert_exporter": "python",
   "pygments_lexer": "ipython3",
   "version": "3.9.7"
  }
 },
 "nbformat": 4,
 "nbformat_minor": 5
}
