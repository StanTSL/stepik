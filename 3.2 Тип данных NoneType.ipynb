{
 "cells": [
  {
   "attachments": {
    "image.png": {
     "image/png": "[encoded data removed]"
    }
   },
   "cell_type": "markdown",
   "id": "417a1a4b",
   "metadata": {},
   "source": [
    "## Тема урока: тип данных NoneType\n",
    "1. Тип данных NoneType\n",
    "2. Литерал None\n",
    "3. Сравнение None с другими типами данных\n",
    "\n",
    "Аннотация. Урок посвящен типу данных NoneType.\n",
    "\n",
    "### Пустое значение\n",
    "Во многих языках программирования (Java, C++, C#, JavaScript и т.д.) существует ключевое слово **null**, которое можно присвоить переменным. Концепция ключевого слова null заключается в том, что оно дает переменной нейтральное или \"нулевое\" поведение.\n",
    "\n",
    "В языке Python, слово null заменено на **None**, поскольку слово null звучит не очень дружелюбно, а None относится именно к требуемой функциональности – это ничего, и не имеет поведения.\n",
    "\n",
    "### Литерал None\n",
    "Литерал None в Python позволяет представить null переменную, то есть переменную, которая не содержит какого-либо значения. По сути None – это специальная константа, означающая пустоту. Если более точно, то None – это объект специального типа данных **NoneType**.\n",
    "\n",
    "![image.png](attachment:image.png)"
   ]
  },
  {
   "cell_type": "code",
   "execution_count": 1,
   "id": "a51641a2",
   "metadata": {},
   "outputs": [
    {
     "name": "stdout",
     "output_type": "stream",
     "text": [
      "<class 'NoneType'>\n"
     ]
    }
   ],
   "source": [
    "var = None\n",
    "print(type(var))"
   ]
  },
  {
   "cell_type": "markdown",
   "id": "235aa0ed",
   "metadata": {},
   "source": [
    "Мы можем присвоить значение None любой переменной, однако мы не можем самостоятельно создать другой NoneType объект.\n",
    "\n",
    "Все переменные, которым присвоено значение None ссылаются на один и тот же объект типа NoneType. Создание собственных экземпляров типа NoneType недопустимо. Объекты, существующие в единственном экземпляре, называются **синглтонами**.\n",
    "\n",
    "### Проверка на None\n",
    "Для того, чтобы проверить значение переменной на None, мы используем либо оператор **is**, либо оператор проверки на равенство ==.\n",
    "\n",
    "Следующий программный код:"
   ]
  },
  {
   "cell_type": "code",
   "execution_count": 2,
   "id": "4a0c19df",
   "metadata": {},
   "outputs": [
    {
     "name": "stdout",
     "output_type": "stream",
     "text": [
      "None\n"
     ]
    }
   ],
   "source": [
    "var = None\n",
    "if var is None:   # используем оператор is\n",
    "    print('None')\n",
    "else:\n",
    "    print('Not None')"
   ]
  },
  {
   "cell_type": "code",
   "execution_count": 3,
   "id": "b4b90c0c",
   "metadata": {},
   "outputs": [
    {
     "name": "stdout",
     "output_type": "stream",
     "text": [
      "None\n"
     ]
    }
   ],
   "source": [
    "var = None\n",
    "if var == None:   # используем оператор ==\n",
    "    print('None')\n",
    "else:\n",
    "    print('Not None')"
   ]
  },
  {
   "cell_type": "markdown",
   "id": "75dbeda6",
   "metadata": {},
   "source": [
    "Для сравнения переменной с None **всегда используйте оператор is**. Для встроенных типов поведение is и == абсолютно одинаково, однако с пользовательскими типами могут возникнуть проблемы, так как в Python есть возможность переопределения операторов сравнения в пользовательских типах.\n",
    "\n",
    "### Сравнение None с другими типами данных\n",
    "Сравнение None с любым объектом, отличным от None дает значение False.\n",
    "\n",
    "Следующий программный код:"
   ]
  },
  {
   "cell_type": "code",
   "execution_count": 4,
   "id": "86fdbb56",
   "metadata": {},
   "outputs": [
    {
     "name": "stdout",
     "output_type": "stream",
     "text": [
      "True\n"
     ]
    }
   ],
   "source": [
    "print(None == None)"
   ]
  },
  {
   "cell_type": "code",
   "execution_count": 5,
   "id": "fa9693bd",
   "metadata": {},
   "outputs": [
    {
     "name": "stdout",
     "output_type": "stream",
     "text": [
      "False\n",
      "False\n",
      "False\n",
      "False\n",
      "False\n"
     ]
    }
   ],
   "source": [
    "print(None == 17)\n",
    "print(None == 3.14)\n",
    "print(None == True)\n",
    "print(None == [1, 2, 3])\n",
    "print(None == 'Beegeek')"
   ]
  },
  {
   "cell_type": "markdown",
   "id": "cb30e6dc",
   "metadata": {},
   "source": [
    "##### Важно понимать, что следующий программный код:"
   ]
  },
  {
   "cell_type": "code",
   "execution_count": 6,
   "id": "335a06c5",
   "metadata": {},
   "outputs": [
    {
     "name": "stdout",
     "output_type": "stream",
     "text": [
      "False\n",
      "False\n",
      "False\n"
     ]
    }
   ],
   "source": [
    "print(None == 0)\n",
    "print(None == False)\n",
    "print(None == '')"
   ]
  },
  {
   "cell_type": "markdown",
   "id": "4d91dbf1",
   "metadata": {},
   "source": [
    "Значение None **не отождествляется** с значениями 0, False, ''.\n",
    "\n",
    "Сравнивать None с другими типами данных можно только **на равенство**.\n",
    "\n",
    "Следующий программный код:\n",
    "\n",
    "    print(None > 0)\n",
    "    print(None <= False)\n",
    "\n",
    "**приводит к ошибке**: TypeError: '>' not supported between instances of 'NoneType' and 'int' ('bool')"
   ]
  },
  {
   "cell_type": "markdown",
   "id": "9b70aab4",
   "metadata": {},
   "source": [
    "### Примечания\n",
    "1. Обратите внимание, что **функции, не возвращающие значений**, на самом деле в Python возвращают значение **None**."
   ]
  },
  {
   "cell_type": "code",
   "execution_count": 7,
   "id": "d0fa2331",
   "metadata": {},
   "outputs": [],
   "source": [
    "def print_message() :\n",
    "    print('Я - Тимур,')\n",
    "    print('король матана. ')"
   ]
  },
  {
   "cell_type": "markdown",
   "id": "5b470ba6",
   "metadata": {},
   "source": [
    "Мы можем вызвать функцию print_message() так: "
   ]
  },
  {
   "cell_type": "code",
   "execution_count": 8,
   "id": "07d2a9cf",
   "metadata": {},
   "outputs": [
    {
     "name": "stdout",
     "output_type": "stream",
     "text": [
      "Я - Тимур,\n",
      "король матана. \n"
     ]
    }
   ],
   "source": [
    "print_message()"
   ]
  },
  {
   "cell_type": "markdown",
   "id": "79e7c8a0",
   "metadata": {},
   "source": [
    "или так:"
   ]
  },
  {
   "cell_type": "code",
   "execution_count": 9,
   "id": "6a1df6d9",
   "metadata": {},
   "outputs": [
    {
     "name": "stdout",
     "output_type": "stream",
     "text": [
      "Я - Тимур,\n",
      "король матана. \n"
     ]
    }
   ],
   "source": [
    "res = print_message()  # В переменной res хранится значение None."
   ]
  },
  {
   "cell_type": "markdown",
   "id": "e58e8e6e",
   "metadata": {},
   "source": [
    " 2. Концепция null значений появилась при создании языка ALGOL W великим Чарльзом Хоаром, который позднее назвал собственную идею ошибкой на миллиард долларов. \n",
    " \n",
    " Чарльз Хоар автор одного из самых быстрых алгоритмов сортировки, основанной на сравнениях: быстрая сортировка (QuickSort)."
   ]
  },
  {
   "cell_type": "code",
   "execution_count": 10,
   "id": "4cdb17a0",
   "metadata": {},
   "outputs": [
    {
     "name": "stdout",
     "output_type": "stream",
     "text": [
      "True\n"
     ]
    }
   ],
   "source": [
    "print(None == None)"
   ]
  },
  {
   "cell_type": "code",
   "execution_count": 11,
   "id": "af55b085",
   "metadata": {},
   "outputs": [
    {
     "name": "stdout",
     "output_type": "stream",
     "text": [
      "False\n"
     ]
    }
   ],
   "source": [
    "empty = ''\n",
    "print(None == empty)"
   ]
  },
  {
   "cell_type": "code",
   "execution_count": null,
   "id": "12af64c0",
   "metadata": {},
   "outputs": [],
   "source": []
  }
 ],
 "metadata": {
  "kernelspec": {
   "display_name": "Python 3 (ipykernel)",
   "language": "python",
   "name": "python3"
  },
  "language_info": {
   "codemirror_mode": {
    "name": "ipython",
    "version": 3
   },
   "file_extension": ".py",
   "mimetype": "text/x-python",
   "name": "python",
   "nbconvert_exporter": "python",
   "pygments_lexer": "ipython3",
   "version": "3.9.7"
  }
 },
 "nbformat": 4,
 "nbformat_minor": 5
}
