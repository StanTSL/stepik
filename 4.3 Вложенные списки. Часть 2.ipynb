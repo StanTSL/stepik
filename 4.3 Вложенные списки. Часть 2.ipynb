{
 "cells": [
  {
   "cell_type": "markdown",
   "id": "ebc9efb9",
   "metadata": {},
   "source": [
    "## Тема урока: вложенные списки\n",
    "1. Создание вложенных списков\n",
    "2. Считывание вложенных списков\n",
    "3. Перебор элементов вложенных списков\n",
    "4. Обработка вложенных списков\n",
    "5. Вывод вложенных списков\n",
    "\n",
    "### Создание вложенных списков\n",
    "Для создания вложенного списка можно использовать **литеральную** форму записи – перечисление элементов через запятую в квадратных скобках:"
   ]
  },
  {
   "cell_type": "code",
   "execution_count": 1,
   "id": "a8758a1f",
   "metadata": {},
   "outputs": [],
   "source": [
    "my_list = [[0], [1, 2], [3, 4, 5]]"
   ]
  },
  {
   "cell_type": "markdown",
   "id": "67c020fb",
   "metadata": {},
   "source": [
    "Иногда нужно создать вложенный список, заполненный по определенному правилу – шаблону. Например, список длиной n, содержащий списки длиной m, каждый из которых заполнен нулями.\n",
    "\n",
    "Рассмотрим несколько способов решения задачи.\n",
    "\n",
    "**Способ 1**. Создадим пустой список, потом n раз добавим в него новый элемент – список длины m, составленный из нулей:"
   ]
  },
  {
   "cell_type": "code",
   "execution_count": 2,
   "id": "e8c53c03",
   "metadata": {},
   "outputs": [
    {
     "name": "stdout",
     "output_type": "stream",
     "text": [
      "[[0, 0, 0, 0, 0], [0, 0, 0, 0, 0], [0, 0, 0, 0, 0]]\n"
     ]
    }
   ],
   "source": [
    "n, m = 3, 5    # считываем значения n и m\n",
    "my_list = []\n",
    "\n",
    "for _ in range(n):\n",
    "    my_list.append([0] * m)\n",
    "\n",
    "print(my_list)"
   ]
  },
  {
   "cell_type": "markdown",
   "id": "f6a43223",
   "metadata": {},
   "source": [
    "**Способ 2**. Сначала создадим список из n элементов (для начала просто из n нулей). Затем сделаем каждый элемент списка ссылкой на другой список из m элементов, заполненный нулями:"
   ]
  },
  {
   "cell_type": "code",
   "execution_count": 3,
   "id": "644812a4",
   "metadata": {},
   "outputs": [
    {
     "name": "stdout",
     "output_type": "stream",
     "text": [
      "[[0, 0, 0, 0, 0], [0, 0, 0, 0, 0], [0, 0, 0, 0, 0]]\n"
     ]
    }
   ],
   "source": [
    "n, m = 3, 5    # считываем значения n и m\n",
    "my_list = [0] * n\n",
    "\n",
    "for i in range(n):\n",
    "    my_list[i] = [0] * m\n",
    "\n",
    "print(my_list)"
   ]
  },
  {
   "cell_type": "markdown",
   "id": "348dc36b",
   "metadata": {},
   "source": [
    "**Способ 3**. Можно использовать генератор списка: создадим список из n элементов, каждый из которых будет списком, состоящих из m нулей:"
   ]
  },
  {
   "cell_type": "code",
   "execution_count": 4,
   "id": "b587645d",
   "metadata": {},
   "outputs": [
    {
     "name": "stdout",
     "output_type": "stream",
     "text": [
      "[[0, 0, 0, 0, 0], [0, 0, 0, 0, 0], [0, 0, 0, 0, 0]]\n"
     ]
    }
   ],
   "source": [
    "n, m = 3, 5    # считываем значения n и m\n",
    "\n",
    "my_list = [[0] * m for _ in range(n)]\n",
    "\n",
    "print(my_list)"
   ]
  },
  {
   "cell_type": "markdown",
   "id": "f0ca2844",
   "metadata": {},
   "source": [
    "В этом случае каждый элемент создается независимо от остальных (заново конструируется вложенный список [0] * m для заполнения очередного элемента списка).\n",
    "\n",
    "**Обратите внимание**, что очевидное решение, использующее операцию умножения списка на число (операция повторения) оказывается неверным:"
   ]
  },
  {
   "cell_type": "code",
   "execution_count": 7,
   "id": "43758050",
   "metadata": {},
   "outputs": [
    {
     "name": "stdout",
     "output_type": "stream",
     "text": [
      "[[0, 0, 0], [0, 0, 0], [0, 0, 0], [0, 0, 0], [0, 0, 0]]\n"
     ]
    }
   ],
   "source": [
    "n, m = 5, 3    # считываем значения n и m\n",
    "\n",
    "my_list = [[0] * m ] * n\n",
    "\n",
    "print(my_list)"
   ]
  },
  {
   "cell_type": "markdown",
   "id": "02bd0066",
   "metadata": {},
   "source": [
    "В этом легко убедиться, если присвоить элементу my_list[0][0] любое значение, например, 17, а затем вывести список на печать:"
   ]
  },
  {
   "cell_type": "code",
   "execution_count": 8,
   "id": "f1925d58",
   "metadata": {},
   "outputs": [
    {
     "name": "stdout",
     "output_type": "stream",
     "text": [
      "[[17, 0, 0], [17, 0, 0], [17, 0, 0], [17, 0, 0], [17, 0, 0]]\n"
     ]
    }
   ],
   "source": [
    "my_list[0][0] = 17\n",
    "\n",
    "print(my_list)"
   ]
  },
  {
   "cell_type": "markdown",
   "id": "8361c661",
   "metadata": {},
   "source": [
    "То есть, изменив значение элемента списка my_list[0][0] мы также изменили значения элементов my_list[1][0], my_list[2][0], my_list[3][0], my_list[4][0].\n",
    "\n",
    "**Причина в самой природе списков (тип  list)**. В Python **списки – ссылочный тип данных**. Конструкция [0] * m возвращает ccылку на список из m нулей. Повторение этого элемента создает список из n ссылок на один и тот же список.\n",
    "\n",
    "Вложенный список нельзя создать при помощи операции повторения (умножения списка на число). Для корректного создания вложенного списка мы используем способы 1 - 3, отдавая предпочтение способу 3."
   ]
  },
  {
   "cell_type": "markdown",
   "id": "4ad2a5ed",
   "metadata": {},
   "source": [
    "### Считывание вложенных списков\n",
    "Если элементы списка вводятся через клавиатуру (каждая строка на отдельной строке, всего n строк, числа в строке разделяются пробелами), для ввода списка можно использовать следующий код:"
   ]
  },
  {
   "cell_type": "code",
   "execution_count": 10,
   "id": "7ad43257",
   "metadata": {},
   "outputs": [
    {
     "name": "stdout",
     "output_type": "stream",
     "text": [
      "2 4\n",
      "6 7 8 9\n",
      "1 3\n",
      "5 6 5 4 3 1\n"
     ]
    }
   ],
   "source": [
    "n = 4                                          # количество строк (элементов)\n",
    "my_list = []\n",
    "\n",
    "for _ in range(n):\n",
    "    elem = [int(i) for i in input().split()]   # создаем список из элементов строки\n",
    "    my_list.append(elem)"
   ]
  },
  {
   "cell_type": "markdown",
   "id": "c0df862a",
   "metadata": {},
   "source": [
    "В этом примере мы используем списочный метод append(), передавая ему в качестве аргумента другой список. Так у нас получается список списков.\n",
    "\n",
    "то в переменной my_list будет храниться список:"
   ]
  },
  {
   "cell_type": "code",
   "execution_count": 11,
   "id": "c3755489",
   "metadata": {},
   "outputs": [
    {
     "data": {
      "text/plain": [
       "[[2, 4], [6, 7, 8, 9], [1, 3], [5, 6, 5, 4, 3, 1]]"
      ]
     },
     "execution_count": 11,
     "metadata": {},
     "output_type": "execute_result"
    }
   ],
   "source": [
    "my_list"
   ]
  },
  {
   "cell_type": "markdown",
   "id": "9a61081d",
   "metadata": {},
   "source": [
    "Не забывайте, что метод split() возвращает список строк, а не чисел. Поэтому мы предварительно сконвертировали строку в число, с помощью вызова функции int().\n",
    "\n",
    "Также, следует помнить **отличие работы списочных методов append() и extend().**\n",
    "\n",
    "Следующий код:"
   ]
  },
  {
   "cell_type": "code",
   "execution_count": 12,
   "id": "209d7c57",
   "metadata": {},
   "outputs": [
    {
     "name": "stdout",
     "output_type": "stream",
     "text": [
      "2 4\n",
      "6 7 8 9\n",
      "1 3\n",
      "5 6 5 4 3 1\n"
     ]
    },
    {
     "data": {
      "text/plain": [
       "[2, 4, 6, 7, 8, 9, 1, 3, 5, 6, 5, 4, 3, 1]"
      ]
     },
     "execution_count": 12,
     "metadata": {},
     "output_type": "execute_result"
    }
   ],
   "source": [
    "n = 4\n",
    "my_list = []\n",
    "\n",
    "for _ in range(n):\n",
    "    elem = [int(i) for i in input().split()]\n",
    "    my_list.extend(elem)\n",
    "my_list"
   ]
  },
  {
   "cell_type": "markdown",
   "id": "b1a00b0a",
   "metadata": {},
   "source": [
    "**создает одномерный (!) список, а не вложенный.**"
   ]
  },
  {
   "cell_type": "markdown",
   "id": "560bbfa3",
   "metadata": {},
   "source": [
    "### Перебор и вывод элементов вложенного списка\n",
    "Как мы уже знаем для доступа к элементу списка указывают индекс этого элемента в квадратных скобках. В случае двумерных вложенных списков надо указать два индекса (каждый в отдельных квадратных скобках), в случае трехмерного списка — три индекса и т. д.\n",
    "\n",
    "Рассмотрим программный код:"
   ]
  },
  {
   "cell_type": "code",
   "execution_count": 13,
   "id": "945fe365",
   "metadata": {},
   "outputs": [
    {
     "name": "stdout",
     "output_type": "stream",
     "text": [
      "1\n",
      "6\n",
      "8\n"
     ]
    }
   ],
   "source": [
    "my_list = [[1, 2, 3], [4, 5, 6], [7, 8, 9]]\n",
    "\n",
    "print(my_list[0][0])\n",
    "print(my_list[1][2])\n",
    "print(my_list[2][1])"
   ]
  },
  {
   "cell_type": "markdown",
   "id": "265e9099",
   "metadata": {},
   "source": [
    "Когда нужно перебрать все элементы вложенного списка (например, чтобы вывести их на экран), обычно используются **вложенные циклы**."
   ]
  },
  {
   "cell_type": "code",
   "execution_count": 16,
   "id": "e59bf42c",
   "metadata": {},
   "outputs": [
    {
     "name": "stdout",
     "output_type": "stream",
     "text": [
      "1 2 3 \n",
      "4 5 6 \n",
      "7 8 9 \n"
     ]
    }
   ],
   "source": [
    "my_list = [[1, 2, 3], [4, 5, 6], [7, 8, 9]]\n",
    "\n",
    "for i in range(len(my_list)):\n",
    "    for j in range(len(my_list[i])):\n",
    "        print(my_list[i][j], end=' ')   # используем необязательный параметр end\n",
    "    print()                             # перенос на новую строку"
   ]
  },
  {
   "cell_type": "markdown",
   "id": "21e4f9c6",
   "metadata": {},
   "source": [
    "Вызов функции **print()** с пустыми параметрами нужен для того, чтобы переносить вывод на новую строку, после того как будет распечатан очередной элемент (список) вложенного списка.\n",
    "\n",
    "В предыдущем примере мы **перебирали индексы** элементов, а можно сразу перебирать сами элементы вложенного списка:"
   ]
  },
  {
   "cell_type": "code",
   "execution_count": 19,
   "id": "a4c6af58",
   "metadata": {},
   "outputs": [
    {
     "name": "stdout",
     "output_type": "stream",
     "text": [
      "1 2 3 \n",
      "4 5 6 \n",
      "7 8 9 \n"
     ]
    }
   ],
   "source": [
    "my_list = [[1, 2, 3], [4, 5, 6], [7, 8, 9]]\n",
    "\n",
    "for row in my_list:\n",
    "    for elem in row:\n",
    "        print(elem, end=' ')\n",
    "    print()"
   ]
  },
  {
   "cell_type": "markdown",
   "id": "2ef4649a",
   "metadata": {},
   "source": [
    "Перебор элементов вложенного списка по индексам дает нам больше гибкости для вывода данных. Например, **поменяв порядок переменных** i и j мы получаем иной тип вывода:"
   ]
  },
  {
   "cell_type": "code",
   "execution_count": 20,
   "id": "dcf25147",
   "metadata": {},
   "outputs": [
    {
     "name": "stdout",
     "output_type": "stream",
     "text": [
      "1 4 7 \n",
      "2 5 8 \n",
      "3 6 9 \n"
     ]
    }
   ],
   "source": [
    "my_list = [[1, 2, 3], [4, 5, 6], [7, 8, 9]]\n",
    "\n",
    "for i in range(len(my_list)):\n",
    "    for j in range(len(my_list[i])):\n",
    "        print(my_list[j][i], end=' ')    # выводим my_list[j][i] вместо my_list[i][j]\n",
    "    print()"
   ]
  },
  {
   "cell_type": "markdown",
   "id": "ce2cbd1e",
   "metadata": {},
   "source": [
    "### Обработка вложенных списков\n",
    "Для обработки элементов вложенного списка, так же как и для вывода его элементов на экран, как правило используются **вложенные циклы**.\n",
    "\n",
    "Используем вложенный цикл для подсчета суммы всех чисел в списке:"
   ]
  },
  {
   "cell_type": "code",
   "execution_count": 21,
   "id": "c3038ac0",
   "metadata": {},
   "outputs": [
    {
     "name": "stdout",
     "output_type": "stream",
     "text": [
      "46\n"
     ]
    }
   ],
   "source": [
    "my_list = [[1, 9, 8, 7, 4], [7, 3, 4], [2, 1]]\n",
    "\n",
    "total = 0\n",
    "for i in range(len(my_list)):\n",
    "    for j in range(len(my_list[i])):\n",
    "        total += my_list[i][j]\n",
    "print(total)"
   ]
  },
  {
   "cell_type": "markdown",
   "id": "e9a650a4",
   "metadata": {},
   "source": [
    "Или то же самое с циклом не по индексу, а **по значениям**:"
   ]
  },
  {
   "cell_type": "code",
   "execution_count": 22,
   "id": "53471728",
   "metadata": {},
   "outputs": [
    {
     "name": "stdout",
     "output_type": "stream",
     "text": [
      "46\n"
     ]
    }
   ],
   "source": [
    "my_list = [[1, 9, 8, 7, 4], [7, 3, 4], [2, 1]]\n",
    "\n",
    "total = 0\n",
    "for row in my_list:\n",
    "    for elem in row:\n",
    "        total += elem\n",
    "print(total)"
   ]
  },
  {
   "cell_type": "markdown",
   "id": "93f786c9",
   "metadata": {},
   "source": [
    "Таким образом можно обработать элементы вложенного списка практически в любом языке программирования. В Python, однако можно упростить код, если **использовать встроенную функцию sum()**, которая принимает список чисел и возвращает его сумму. Подсчет суммы с помощью функции sum() выглядит так:"
   ]
  },
  {
   "cell_type": "code",
   "execution_count": 24,
   "id": "3b3f4957",
   "metadata": {},
   "outputs": [
    {
     "name": "stdout",
     "output_type": "stream",
     "text": [
      "46\n"
     ]
    }
   ],
   "source": [
    "my_list = [[1, 9, 8, 7, 4], [7, 3, 4], [2, 1]]\n",
    "\n",
    "total = 0\n",
    "for row in my_list:      # в один цикл\n",
    "    total += sum(row)\n",
    "print(total)"
   ]
  },
  {
   "cell_type": "markdown",
   "id": "63af5e7e",
   "metadata": {},
   "source": [
    "Названия переменных **row (строка) и elem (элемент)** удобно использовать при переборе вложенного списка по значениям. Названия переменных **i и j** используются при переборе вложенного списка по индексам."
   ]
  },
  {
   "cell_type": "markdown",
   "id": "afc24f52",
   "metadata": {},
   "source": [
    "## ЗАДАЧИ"
   ]
  },
  {
   "cell_type": "markdown",
   "id": "b360ca2a",
   "metadata": {},
   "source": [
    "##### Что покажет приведенный ниже фрагмент кода?"
   ]
  },
  {
   "cell_type": "code",
   "execution_count": 25,
   "id": "09eb948b",
   "metadata": {},
   "outputs": [
    {
     "name": "stdout",
     "output_type": "stream",
     "text": [
      "[[1, 2, 3, 7], [4, 5]]\n"
     ]
    }
   ],
   "source": [
    "list1 = [[1, 2, 3], [4, 5]]\n",
    "list2 = list1\n",
    "\n",
    "list1[0].append(7)\n",
    "\n",
    "print(list2)"
   ]
  },
  {
   "cell_type": "code",
   "execution_count": 27,
   "id": "ab82ff85",
   "metadata": {},
   "outputs": [
    {
     "data": {
      "text/plain": [
       "[[1, 5, 1], [1, 5, 1], [1, 5, 1]]"
      ]
     },
     "execution_count": 27,
     "metadata": {},
     "output_type": "execute_result"
    }
   ],
   "source": [
    "list1 = [[1] * 3] * 3\n",
    "list1[0][1] = 5\n",
    "list1"
   ]
  },
  {
   "cell_type": "markdown",
   "id": "a4ad6208",
   "metadata": {},
   "source": [
    "Какой тип данных будет у переменной row?\n",
    "\n",
    "ответ: list"
   ]
  },
  {
   "cell_type": "code",
   "execution_count": 29,
   "id": "e408a512",
   "metadata": {},
   "outputs": [
    {
     "name": "stdout",
     "output_type": "stream",
     "text": [
      "21\n"
     ]
    }
   ],
   "source": [
    "my_list = [[1], [2, 3], [4, 5, 6]]\n",
    "total = 0\n",
    "\n",
    "for row in my_list:\n",
    "    total += sum(row)\n",
    "\n",
    "print(total)"
   ]
  },
  {
   "cell_type": "code",
   "execution_count": 35,
   "id": "e517739e",
   "metadata": {},
   "outputs": [
    {
     "name": "stdout",
     "output_type": "stream",
     "text": [
      "107\n"
     ]
    }
   ],
   "source": [
    "my_list = [[12, 221, 3], [41, 5, 633], [71, 8, 99]]\n",
    "\n",
    "maximum = my_list[0][0]\n",
    "minimum = my_list[0][0]\n",
    "\n",
    "for row in my_list:\n",
    "    maximum = max(row)\n",
    "    minimum = min(row)\n",
    "\n",
    "print(maximum + minimum)\n",
    "\n",
    "#  Итоговый print() не относиться к циклу for (находиться вне тела цикла), \n",
    "#  а посему будет выведена сумма максимума и минимума в последнем элементе списка."
   ]
  },
  {
   "cell_type": "markdown",
   "id": "f32319db",
   "metadata": {},
   "source": [
    "##### Вот как считается maximum и minimum в спиcке"
   ]
  },
  {
   "cell_type": "code",
   "execution_count": 36,
   "id": "64ec7f7d",
   "metadata": {},
   "outputs": [
    {
     "name": "stdout",
     "output_type": "stream",
     "text": [
      "636\n"
     ]
    }
   ],
   "source": [
    "my_list = [[12, 221, 3], [41, 5, 633], [71, 8, 99]]\n",
    "\n",
    "maximum = my_list[0][0]\n",
    "minimum = my_list[0][0]\n",
    "\n",
    "for row in my_list:\n",
    "    if max(row) > maximum:\n",
    "        maximum = max(row)\n",
    "    if min(row) < minimum:\n",
    "        minimum = min(row)\n",
    "\n",
    "print(maximum + minimum)"
   ]
  },
  {
   "cell_type": "markdown",
   "id": "58fd6f75",
   "metadata": {},
   "source": [
    "### Список по образцу 1\n",
    "На вход программе подается число n. Напишите программу, которая создает и выводит построчно список, состоящий из n списков [[1, 2, ..., n], [1, 2, ..., n], ..., [1, 2, ..., n]].\n",
    "\n",
    "Формат входных данных\n",
    "На вход программе подается натуральное число n.\n",
    "\n",
    "Формат выходных данных\n",
    "Программа должна вывести построчно указанный список."
   ]
  },
  {
   "cell_type": "code",
   "execution_count": 56,
   "id": "c9b88630",
   "metadata": {},
   "outputs": [
    {
     "name": "stdout",
     "output_type": "stream",
     "text": [
      "[1, 2, 3]\n",
      "[1, 2, 3]\n",
      "[1, 2, 3]\n"
     ]
    }
   ],
   "source": [
    "n = 3\n",
    "\n",
    "my_list = []\n",
    "\n",
    "for i in range(n):\n",
    "    my_list.append([j for j in range(1, n+1)])\n",
    "\n",
    "print(*my_list, sep = '\\n')"
   ]
  },
  {
   "cell_type": "code",
   "execution_count": 1,
   "id": "729c661e",
   "metadata": {},
   "outputs": [
    {
     "name": "stdout",
     "output_type": "stream",
     "text": [
      "[1, 2, 3]\n",
      "[1, 2, 3]\n",
      "[1, 2, 3]\n"
     ]
    }
   ],
   "source": [
    "n = 3\n",
    "result = []\n",
    "\n",
    "for _ in range(n):\n",
    "    result.append(list(range(1, n + 1)))\n",
    "\n",
    "print(*result, sep='\\n')"
   ]
  },
  {
   "cell_type": "markdown",
   "id": "9389dcf1",
   "metadata": {},
   "source": [
    "### Список по образцу 2\n",
    "На вход программе подается число n. Напишите программу, которая создает и выводит построчно вложенный список, состоящий из n списков [[1], [1, 2], [1, 2, 3], ..., [1, 2, ..., n]]."
   ]
  },
  {
   "cell_type": "code",
   "execution_count": 32,
   "id": "1391b083",
   "metadata": {},
   "outputs": [
    {
     "name": "stdout",
     "output_type": "stream",
     "text": [
      "[1]\n",
      "[1, 2]\n",
      "[1, 2, 3]\n",
      "[1, 2, 3, 4]\n"
     ]
    }
   ],
   "source": [
    "n = 4\n",
    "result = []\n",
    "for i in range(1, n + 1):\n",
    "    result.append(list(range(1, i + 1)))\n",
    "\n",
    "print(*result, sep='\\n')"
   ]
  },
  {
   "attachments": {
    "image.png": {
     "image/png": "[encoded data removed]"
    }
   },
   "cell_type": "markdown",
   "id": "bdbdef85",
   "metadata": {},
   "source": [
    "### Треугольник Паскаля 1 🌶️\n",
    "Треугольник Паскаля — бесконечная таблица биномиальных коэффициентов, имеющая треугольную форму. В этом треугольнике на вершине и по бокам стоят единицы. Каждое число равно сумме двух расположенных над ним чисел.\n",
    "\n",
    "![image.png](attachment:image.png)\n",
    "\n",
    "На вход программе подается число n(n≥0). Напишите программу, которая возвращает указанную строку треугольника Паскаля в виде списка (нумерация строк начинается с нуля).\n",
    "\n",
    "Программа должна вывести указанную строку треугольника Паскаля в виде списка.\n",
    "\n",
    "Примечание 1. Решение удобно оформить в виде функции pascal(), которая принимает номер строки и возвращает соответствующую строку треугольника Паскаля."
   ]
  },
  {
   "cell_type": "code",
   "execution_count": 38,
   "id": "fc278d63",
   "metadata": {},
   "outputs": [
    {
     "name": "stdout",
     "output_type": "stream",
     "text": [
      "[1]\n",
      "[1, 1]\n",
      "[1, 2, 1]\n",
      "[1, 3, 3, 1]\n",
      "[1, 4, 6, 4, 1]\n",
      "[1, 5, 10, 10, 5, 1]\n",
      "[1, 6, 15, 20, 15, 6, 1]\n",
      "[1, 7, 21, 35, 35, 21, 7, 1]\n",
      "[1, 8, 28, 56, 70, 56, 28, 8, 1]\n",
      "[1, 9, 36, 84, 126, 126, 84, 36, 9, 1]\n"
     ]
    }
   ],
   "source": [
    "def pascal(rows):\n",
    "    row = [1]\n",
    "    for i in range(rows):\n",
    "        print(row)\n",
    "        row = [sum(x) for x in zip([0]+row, row+[0])]\n",
    "        \n",
    "pascal(10)"
   ]
  },
  {
   "cell_type": "code",
   "execution_count": 50,
   "id": "a721740a",
   "metadata": {},
   "outputs": [
    {
     "name": "stdout",
     "output_type": "stream",
     "text": [
      "[1, 7, 21, 35, 35, 21, 7, 1]\n"
     ]
    }
   ],
   "source": [
    "def pascal(row):\n",
    "    row = [1] + row\n",
    "    for i in range(1, len(row)-1):\n",
    "        row[i] += row[i+1]\n",
    "    return row\n",
    "\n",
    "row = [1]\n",
    "\n",
    "for i in range(7):     #  range(int(input()))\n",
    "    row = pascal(row)\n",
    "print(row)"
   ]
  },
  {
   "cell_type": "code",
   "execution_count": 52,
   "id": "9f31e0c9",
   "metadata": {},
   "outputs": [
    {
     "name": "stdout",
     "output_type": "stream",
     "text": [
      "[1, 7, 21, 35, 35, 21, 7, 1]\n"
     ]
    }
   ],
   "source": [
    "a = [1]\n",
    "for i in range(7):      #  range(int(input()))\n",
    "    a = [x + y for x, y in zip([*a, 0], [0, *a])]\n",
    "print(a)"
   ]
  },
  {
   "cell_type": "markdown",
   "id": "41e6c6ae",
   "metadata": {},
   "source": [
    "### Треугольник Паскаля 2\n",
    "На вход программе подается натуральное число n (n≥1). Напишите программу, которая выводит первые n строк треугольника Паскаля."
   ]
  },
  {
   "cell_type": "code",
   "execution_count": 82,
   "id": "9a303de2",
   "metadata": {},
   "outputs": [
    {
     "name": "stdout",
     "output_type": "stream",
     "text": [
      "1\n",
      "1 1\n",
      "1 2 1\n",
      "1 3 3 1\n",
      "1 4 6 4 1\n",
      "1 5 10 10 5 1\n",
      "1 6 15 20 15 6 1\n"
     ]
    }
   ],
   "source": [
    "a = [1]\n",
    "for i in range(7): #  range(int(input()))\n",
    "    print(*a)\n",
    "    a = [x + y for x, y in zip([*a, 0], [0, *a])]"
   ]
  },
  {
   "cell_type": "markdown",
   "id": "dc98625f",
   "metadata": {},
   "source": [
    "### Упаковка дубликатов 🌶️\n",
    "На вход программе подается строка текста, содержащая символы. Напишите программу, которая упаковывает последовательности одинаковых символов заданной строки в подсписки."
   ]
  },
  {
   "cell_type": "code",
   "execution_count": 94,
   "id": "077d8e48",
   "metadata": {},
   "outputs": [
    {
     "data": {
      "text/plain": [
       "['g',\n",
       " 'i',\n",
       " 'v',\n",
       " 'e',\n",
       " 't',\n",
       " 'h',\n",
       " 'h',\n",
       " 'i',\n",
       " 'i',\n",
       " 's',\n",
       " 'm',\n",
       " 'a',\n",
       " 'a',\n",
       " 'a',\n",
       " 'n',\n",
       " 'a',\n",
       " 'g',\n",
       " 'u',\n",
       " 'u',\n",
       " 'n']"
      ]
     },
     "execution_count": 94,
     "metadata": {},
     "output_type": "execute_result"
    }
   ],
   "source": [
    "s = 'g i v e t h h i i s m a a a n a g u u n'.split()\n",
    "s"
   ]
  },
  {
   "cell_type": "code",
   "execution_count": 110,
   "id": "1a7a61e4",
   "metadata": {},
   "outputs": [
    {
     "data": {
      "text/plain": [
       "[['g'],\n",
       " ['i'],\n",
       " ['v'],\n",
       " ['e'],\n",
       " ['t'],\n",
       " ['h', 'h'],\n",
       " ['i', 'i'],\n",
       " ['s'],\n",
       " ['m'],\n",
       " ['a', 'a', 'a'],\n",
       " ['n'],\n",
       " ['a'],\n",
       " ['g'],\n",
       " ['u', 'u'],\n",
       " ['n']]"
      ]
     },
     "execution_count": 110,
     "metadata": {},
     "output_type": "execute_result"
    }
   ],
   "source": [
    "lst = [[s[0]]]\n",
    "for i in range(1, len(s)):\n",
    "    if s[i]!=s[i-1]:\n",
    "        lst.append([s[i]])\n",
    "    else:\n",
    "        lst[-1].append(s[i])\n",
    "            \n",
    "lst"
   ]
  },
  {
   "cell_type": "code",
   "execution_count": 111,
   "id": "c557bb43",
   "metadata": {},
   "outputs": [
    {
     "name": "stdout",
     "output_type": "stream",
     "text": [
      "[['g'], ['i'], ['v'], ['e'], ['t'], ['h', 'h'], ['i', 'i'], ['s'], ['m'], ['a', 'a', 'a'], ['n'], ['a'], ['g'], ['u', 'u'], ['n']]\n"
     ]
    }
   ],
   "source": [
    "res = []\n",
    "\n",
    "for el in s:\n",
    "    if res and el in res[-1]:\n",
    "        res[-1].append(el)\n",
    "    else:\n",
    "        res.append([el])\n",
    "\n",
    "print(res)"
   ]
  },
  {
   "cell_type": "markdown",
   "id": "7ccfe906",
   "metadata": {},
   "source": [
    "### Разбиение на чанки 🌶️\n",
    "На вход программе подаются две строки, на одной символы, на другой число n. Из первой строки формируется список.\n",
    "\n",
    "Реализуйте функцию chunked(), которая принимает на вход список и число, задающее размер чанка (куска), а возвращает список из чанков указанной длины.\n",
    "\n",
    "Примечание. Не забудьте вызвать функцию chunked(), чтобы вывести результат "
   ]
  },
  {
   "cell_type": "code",
   "execution_count": 14,
   "id": "63f920a1",
   "metadata": {},
   "outputs": [],
   "source": [
    "str = 'a b c d e f'.split()\n",
    "n = 3"
   ]
  },
  {
   "cell_type": "code",
   "execution_count": 33,
   "id": "599b7712",
   "metadata": {},
   "outputs": [
    {
     "name": "stdout",
     "output_type": "stream",
     "text": [
      "[['a', 'b', 'c'], ['d', 'e', 'f']]\n"
     ]
    }
   ],
   "source": [
    "def chunked(str, n):\n",
    "    res = []\n",
    "    for i in range(0, len(str), n):   \n",
    "        res.append(str[i: i+n])\n",
    "    return res\n",
    "\n",
    "\n",
    "print(chunked(str, n))"
   ]
  },
  {
   "cell_type": "markdown",
   "id": "d4cb808d",
   "metadata": {},
   "source": [
    "### Подсписки списка 🌶️🌶️\n",
    "Подсписок — часть другого списка. Подсписок может содержать один элемент, несколько, и даже ни одного. Например, [1], [2], [3] и [4] — подсписки списка [1, 2, 3, 4]. Список [2, 3] — подсписок списка [1, 2, 3, 4], но список [2, 4] не подсписок списка [1, 2, 3, 4], так как элементы 2 и 4 во втором списке не смежные. Пустой список — подсписок любого списка. Сам список — подсписок самого себя, то есть список [1, 2, 3, 4] подсписок списка [1, 2, 3, 4].\n",
    "\n",
    "На вход программе подается строка текста, содержащая символы, отделенные символом пробела. Из данной строки формируется список. Напишите программу, которая выводит список, содержащий все возможные подсписки списка, включая пустой список в соответствии с примерами.\n",
    "\n",
    "Примечание. Порядок списков одинаковой длины должен соответствовать порядку их вхождения в основной список."
   ]
  },
  {
   "cell_type": "code",
   "execution_count": 2,
   "id": "8fa2ccfa",
   "metadata": {},
   "outputs": [
    {
     "name": "stdout",
     "output_type": "stream",
     "text": [
      "[[], ['a'], ['b'], ['a', 'b']]\n"
     ]
    }
   ],
   "source": [
    "str = 'a b'.split()\n",
    "fin = []\n",
    "tot = []\n",
    "for i in range(len(str)):\n",
    "    for j in range(len(str)):\n",
    "        fin = str[j:i + j + 1]\n",
    "        if len(fin) == i + 1:\n",
    "            tot.append(fin)\n",
    "print([[]] + tot[::1])   "
   ]
  },
  {
   "cell_type": "code",
   "execution_count": 3,
   "id": "0fc54e68",
   "metadata": {},
   "outputs": [
    {
     "name": "stdout",
     "output_type": "stream",
     "text": [
      "[[], ['a'], ['b'], ['v'], ['a', 'b'], ['b', 'v'], ['a', 'b', 'v']]\n"
     ]
    }
   ],
   "source": [
    "input_data = 'a b v'.split()\n",
    "output_data = [[]]\n",
    "for i in range(len(input_data)):\n",
    "    for j in range(len(input_data) - i):\n",
    "        output_data.append(input_data[j: j + i + 1])\n",
    "print(output_data)"
   ]
  },
  {
   "cell_type": "code",
   "execution_count": null,
   "id": "e281d895",
   "metadata": {},
   "outputs": [],
   "source": []
  }
 ],
 "metadata": {
  "kernelspec": {
   "display_name": "Python 3 (ipykernel)",
   "language": "python",
   "name": "python3"
  },
  "language_info": {
   "codemirror_mode": {
    "name": "ipython",
    "version": 3
   },
   "file_extension": ".py",
   "mimetype": "text/x-python",
   "name": "python",
   "nbconvert_exporter": "python",
   "pygments_lexer": "ipython3",
   "version": "3.9.7"
  }
 },
 "nbformat": 4,
 "nbformat_minor": 5
}
