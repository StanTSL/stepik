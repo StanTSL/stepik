{
 "cells": [
  {
   "cell_type": "markdown",
   "id": "fa9298fe",
   "metadata": {},
   "source": [
    "### Таблица умножения\n",
    "На вход программе подаются два натуральных числа n и m — количество строк и столбцов в матрице. Создайте матрицу mult размером n×m и заполните её таблицей умножения по формуле mult[i][j] = i * j.\n",
    "\n",
    "На вход программе на разных строках подаются два числа n и m — количество строк и столбцов в матрице.\n",
    "\n",
    "Формат выходных данных\n",
    "Программа должна вывести таблицу умножения отводя на вывод каждого числа ровно 3 символа (для этого используйте строковый метод ljust())."
   ]
  },
  {
   "cell_type": "code",
   "execution_count": 12,
   "id": "ff9fd23a",
   "metadata": {},
   "outputs": [
    {
     "name": "stdout",
     "output_type": "stream",
     "text": [
      "0   0   0   0   0   0   \n",
      "0   1   2   3   4   5   \n",
      "0   2   4   6   8   10  \n",
      "0   3   6   9   12  15  \n"
     ]
    }
   ],
   "source": [
    "n, m = 4, 6    # считываем значения n и m\n",
    "\n",
    "mult = [[0] * m for _ in range(n)]\n",
    "for i in range(n):\n",
    "    for j in range(m):\n",
    "        mult[i][j] = i * j\n",
    "for i in range(n):\n",
    "    for j in range(m):\n",
    "        print(str(mult[i][j]).ljust(3), end=' ')  \n",
    "    print()"
   ]
  },
  {
   "cell_type": "code",
   "execution_count": 14,
   "id": "c7acf279",
   "metadata": {},
   "outputs": [
    {
     "name": "stdout",
     "output_type": "stream",
     "text": [
      "0   0   0   0   0   0   \n",
      "0   1   2   3   4   5   \n",
      "0   2   4   6   8   10  \n",
      "0   3   6   9   12  15  \n"
     ]
    }
   ],
   "source": [
    "m, n = 4, 6\n",
    "mult =[[i*j for i in range(n)] for j in range(m)]\n",
    "\n",
    "for i in range(m):\n",
    "    for j in range(n):\n",
    "        print(str(mult[i][j]).ljust(3), end=' ')\n",
    "    print()"
   ]
  },
  {
   "cell_type": "markdown",
   "id": "977393aa",
   "metadata": {},
   "source": [
    "### Максимум в таблице\n",
    "На вход программе подаются два натуральных числа n и m — количество строк и столбцов в матрице, затем n строк по m целых чисел в каждой, отделенных символом пробела.\n",
    "\n",
    "Напишите программу, которая находит индексы (строку и столбец) первого вхождения максимального элемента.\n",
    "\n",
    "На вход программе на разных строках подаются два числа n и m — количество строк и столбцов в матрице, затем сами элементы матрицы построчно через пробел.\n",
    "\n",
    "Программа должна вывести два числа: номер строки и номер столбца, в которых стоит наибольший элемент таблицы. Если таких элементов несколько, то выводится тот, у которого меньше номер строки, а если номера строк равны то тот, у которого меньше номер столбца.\n",
    "\n",
    "Примечание. Считайте, что нумерация строк и столбцов начинается с нуля."
   ]
  },
  {
   "cell_type": "code",
   "execution_count": 1,
   "id": "f0b40f22",
   "metadata": {},
   "outputs": [
    {
     "name": "stdout",
     "output_type": "stream",
     "text": [
      "0 3 2 4\n",
      "2 3 5 5\n",
      "5 1 2 3\n"
     ]
    },
    {
     "data": {
      "text/plain": [
       "[[0, 3, 2, 4], [2, 3, 5, 5], [5, 1, 2, 3]]"
      ]
     },
     "execution_count": 1,
     "metadata": {},
     "output_type": "execute_result"
    }
   ],
   "source": [
    "n = 3\n",
    "m = 4\n",
    "matrix = [[int(i) for i in input().split()] for _ in range(n)] \n",
    "matrix"
   ]
  },
  {
   "cell_type": "code",
   "execution_count": 23,
   "id": "a1f9d3a8",
   "metadata": {},
   "outputs": [
    {
     "name": "stdout",
     "output_type": "stream",
     "text": [
      "1 2\n"
     ]
    }
   ],
   "source": [
    "max_value = matrix[0][0]\n",
    "\n",
    "for i in range(n):\n",
    "    for j in range(m):\n",
    "        if matrix[i][j] > max_value:\n",
    "            max_value = matrix[i][j]\n",
    "for i in range(n):\n",
    "    if max_value in matrix[i]:\n",
    "        print(i, matrix[i].index(max_value))\n",
    "        break"
   ]
  },
  {
   "cell_type": "code",
   "execution_count": 24,
   "id": "f7fb5ea9",
   "metadata": {},
   "outputs": [
    {
     "data": {
      "text/plain": [
       "5"
      ]
     },
     "execution_count": 24,
     "metadata": {},
     "output_type": "execute_result"
    }
   ],
   "source": [
    "max(max(matrix, key=max))  # максимум в списке списков"
   ]
  },
  {
   "cell_type": "code",
   "execution_count": 25,
   "id": "fc36a380",
   "metadata": {},
   "outputs": [
    {
     "name": "stdout",
     "output_type": "stream",
     "text": [
      "1 2\n"
     ]
    }
   ],
   "source": [
    "for i in range(n):\n",
    "    if max(max(matrix, key=max)) in matrix[i]:\n",
    "        print(i, matrix[i].index(max(max(matrix, key=max))))\n",
    "        break"
   ]
  },
  {
   "cell_type": "code",
   "execution_count": 26,
   "id": "975c8b21",
   "metadata": {},
   "outputs": [
    {
     "name": "stdout",
     "output_type": "stream",
     "text": [
      "1 2\n"
     ]
    }
   ],
   "source": [
    "row, col = 0, 0\n",
    "    \n",
    "for i in range(n):\n",
    "    for j in range(m):\n",
    "        if matrix[i][j] > matrix[row][col]:\n",
    "            row,col = i, j\n",
    "            \n",
    "print(row, col)"
   ]
  },
  {
   "cell_type": "markdown",
   "id": "a3332a49",
   "metadata": {},
   "source": [
    "### Обмен столбцов\n",
    "Напишите программу, которая меняет местами столбцы в матрице.\n",
    "\n",
    "На вход программе на разных строках подаются два натуральных числа n и m — количество строк и столбцов в матрице, затем элементы матрицы построчно через пробел, затем числа i и j — номера столбцов, подлежащих обмену."
   ]
  },
  {
   "cell_type": "code",
   "execution_count": 57,
   "id": "e59e8ceb",
   "metadata": {},
   "outputs": [
    {
     "name": "stdout",
     "output_type": "stream",
     "text": [
      "11 12 13 14\n",
      "21 22 23 24\n",
      "31 32 33 34\n"
     ]
    },
    {
     "data": {
      "text/plain": [
       "[['11', '12', '13', '14'], ['21', '22', '23', '24'], ['31', '32', '33', '34']]"
      ]
     },
     "execution_count": 57,
     "metadata": {},
     "output_type": "execute_result"
    }
   ],
   "source": [
    "n = 3\n",
    "m = 4\n",
    "matrix = [input().split() for _ in range(n)]\n",
    "matrix"
   ]
  },
  {
   "cell_type": "code",
   "execution_count": 58,
   "id": "39c633b7",
   "metadata": {},
   "outputs": [
    {
     "name": "stdout",
     "output_type": "stream",
     "text": [
      "0 1\n",
      "12 11 13 14\n",
      "22 21 23 24\n",
      "32 31 33 34\n"
     ]
    }
   ],
   "source": [
    "i, j = [int(i) for i in input().split()]\n",
    "for r in range(n): \n",
    "    matrix[r][i], matrix[r][j] = matrix[r][j], matrix[r][i] \n",
    "for row in matrix:\n",
    "    print(*row)"
   ]
  },
  {
   "cell_type": "markdown",
   "id": "5eac481d",
   "metadata": {},
   "source": [
    "### Симметричная матрица\n",
    "Напишите программу, которая проверяет симметричность квадратной матрицы относительно главной диагонали.\n",
    "\n",
    "На вход программе подаётся натуральное число n — количество строк и столбцов в матрице, затем элементы матрицы построчно через пробел.\n",
    "\n",
    "Программа должна вывести YES, если матрица симметрична относительно главной диагонали, и слово NO в противном случае."
   ]
  },
  {
   "cell_type": "code",
   "execution_count": 65,
   "id": "76cd7212",
   "metadata": {},
   "outputs": [
    {
     "name": "stdout",
     "output_type": "stream",
     "text": [
      "5 3 7 1 5\n",
      "3 5 4 5 7\n",
      "7 4 4 8 4\n",
      "1 5 8 5 1\n",
      "5 7 4 1 5\n"
     ]
    },
    {
     "data": {
      "text/plain": [
       "[['5', '3', '7', '1', '5'],\n",
       " ['3', '5', '4', '5', '7'],\n",
       " ['7', '4', '4', '8', '4'],\n",
       " ['1', '5', '8', '5', '1'],\n",
       " ['5', '7', '4', '1', '5']]"
      ]
     },
     "execution_count": 65,
     "metadata": {},
     "output_type": "execute_result"
    }
   ],
   "source": [
    "n = 5\n",
    "matrix = [input().split() for _ in range(n)]\n",
    "matrix"
   ]
  },
  {
   "cell_type": "code",
   "execution_count": 82,
   "id": "d839254b",
   "metadata": {},
   "outputs": [
    {
     "name": "stdout",
     "output_type": "stream",
     "text": [
      "YES\n"
     ]
    }
   ],
   "source": [
    "Flag = 'YES'\n",
    "for i in range(n):\n",
    "    for j in range(n):\n",
    "        if matrix[i][j] != matrix[j][i]:\n",
    "            Flag = 'NO'\n",
    "print(Flag)          "
   ]
  },
  {
   "cell_type": "code",
   "execution_count": 83,
   "id": "2f0aaef4",
   "metadata": {},
   "outputs": [
    {
     "name": "stdout",
     "output_type": "stream",
     "text": [
      "YES\n"
     ]
    }
   ],
   "source": [
    "result = 'YES'\n",
    "for i in range(n):\n",
    "    for j in range(i + 1, n):\n",
    "        if matrix[i][j] != matrix[j][i]:\n",
    "            result = 'NO'\n",
    "            break\n",
    "    if result == 'NO':\n",
    "        break\n",
    "\n",
    "print(result)"
   ]
  },
  {
   "cell_type": "markdown",
   "id": "afa02f2a",
   "metadata": {},
   "source": [
    "### Обмен диагоналей\n",
    "Дана квадратная матрица чисел. Напишите программу, которая меняет местами элементы, стоящие на главной и побочной диагонали, при этом каждый элемент должен остаться в том же столбце (то есть в каждом столбце нужно поменять местами элемент на главной диагонали и на побочной диагонали).\n",
    "\n",
    "На вход программе подаётся натуральное число n — количество строк и столбцов в матрице, затем элементы матрицы построчно через пробел."
   ]
  },
  {
   "cell_type": "code",
   "execution_count": 12,
   "id": "fa6c1872",
   "metadata": {},
   "outputs": [
    {
     "name": "stdout",
     "output_type": "stream",
     "text": [
      "2 2 3 1 3\n",
      "4 6 6 7 5\n",
      "7 8 9 7 8\n",
      "4 5 6 4 5\n",
      "1 2 3 1 2\n"
     ]
    },
    {
     "data": {
      "text/plain": [
       "[['2', '2', '3', '1', '3'],\n",
       " ['4', '6', '6', '7', '5'],\n",
       " ['7', '8', '9', '7', '8'],\n",
       " ['4', '5', '6', '4', '5'],\n",
       " ['1', '2', '3', '1', '2']]"
      ]
     },
     "execution_count": 12,
     "metadata": {},
     "output_type": "execute_result"
    }
   ],
   "source": [
    "n = 5\n",
    "matrix = [input().split() for _ in range(n)]\n",
    "matrix"
   ]
  },
  {
   "cell_type": "code",
   "execution_count": 13,
   "id": "218ecbb4",
   "metadata": {},
   "outputs": [
    {
     "name": "stdout",
     "output_type": "stream",
     "text": [
      "1 2 3 1 2\n",
      "4 5 6 4 5\n",
      "7 8 9 7 8\n",
      "4 6 6 7 5\n",
      "2 2 3 1 3\n"
     ]
    }
   ],
   "source": [
    "for i in range(n):\n",
    "    matrix[i][i], matrix[n-i-1][i] = matrix[n-i-1][i], matrix[i][i]\n",
    "    \n",
    "for row in matrix:\n",
    "    print(*row)        "
   ]
  },
  {
   "cell_type": "markdown",
   "id": "88a04d70",
   "metadata": {},
   "source": [
    "### Зеркальное отображение\n",
    "Дана квадратная матрица чисел. Напишите программу, которая зеркально отображает её элементы относительно горизонтальной оси симметрии.\n",
    "\n",
    "На вход программе подаётся натуральное число n — количество строк и столбцов в матрице, затем элементы матрицы построчно через пробел."
   ]
  },
  {
   "cell_type": "code",
   "execution_count": 14,
   "id": "e1018700",
   "metadata": {
    "scrolled": true
   },
   "outputs": [
    {
     "name": "stdout",
     "output_type": "stream",
     "text": [
      "1 2 3 4\n",
      "5 6 7 8\n",
      "8 6 4 2\n",
      "3 4 5 6\n"
     ]
    },
    {
     "data": {
      "text/plain": [
       "[['1', '2', '3', '4'],\n",
       " ['5', '6', '7', '8'],\n",
       " ['8', '6', '4', '2'],\n",
       " ['3', '4', '5', '6']]"
      ]
     },
     "execution_count": 14,
     "metadata": {},
     "output_type": "execute_result"
    }
   ],
   "source": [
    "n = 4\n",
    "matrix = [input().split() for _ in range(n)]\n",
    "matrix"
   ]
  },
  {
   "cell_type": "code",
   "execution_count": 48,
   "id": "f1b5b802",
   "metadata": {},
   "outputs": [
    {
     "name": "stdout",
     "output_type": "stream",
     "text": [
      "1 2 3 4\n",
      "5 6 7 8\n",
      "8 6 4 2\n",
      "3 4 5 6\n"
     ]
    },
    {
     "data": {
      "text/plain": [
       "[None, None, None, None]"
      ]
     },
     "execution_count": 48,
     "metadata": {},
     "output_type": "execute_result"
    }
   ],
   "source": [
    "[print(*r) for r in matrix[::-1]]"
   ]
  },
  {
   "cell_type": "code",
   "execution_count": 44,
   "id": "37dd9be3",
   "metadata": {},
   "outputs": [
    {
     "name": "stdout",
     "output_type": "stream",
     "text": [
      "4\n",
      "1 2 3 4\n",
      "5 6 7 8\n",
      "8 6 4 2\n",
      "3 4 5 6\n",
      "3 4 5 6\n",
      "8 6 4 2\n",
      "5 6 7 8\n",
      "1 2 3 4\n"
     ]
    },
    {
     "data": {
      "text/plain": [
       "[None, None, None, None]"
      ]
     },
     "execution_count": 44,
     "metadata": {},
     "output_type": "execute_result"
    }
   ],
   "source": [
    "[print(*row) for row in reversed([input().split() for _ in range(int(input()))])]"
   ]
  },
  {
   "cell_type": "code",
   "execution_count": 47,
   "id": "38c6beba",
   "metadata": {},
   "outputs": [
    {
     "name": "stdout",
     "output_type": "stream",
     "text": [
      "1 2 3 4\n",
      "5 6 7 8\n",
      "8 6 4 2\n",
      "3 4 5 6\n",
      "3 4 5 6\n",
      "8 6 4 2\n",
      "5 6 7 8\n",
      "1 2 3 4\n"
     ]
    }
   ],
   "source": [
    "n = 4\n",
    "\n",
    "matrix = [[int(item) for item in input().split()] for _ in range(n)]\n",
    "matrix.reverse()\n",
    "\n",
    "for row in matrix:\n",
    "    print(*row)\n"
   ]
  },
  {
   "cell_type": "markdown",
   "id": "39997598",
   "metadata": {},
   "source": [
    "### Поворот матрицы\n",
    "Напишите программу, которая поворачивает квадратную матрицу чисел на 90∘ по часовой стрелке.\n",
    "\n",
    "На вход программе подаётся натуральное число n — количество строк и столбцов в матрице, затем элементы матрицы построчно через пробел."
   ]
  },
  {
   "cell_type": "code",
   "execution_count": null,
   "id": "6223c5a7",
   "metadata": {
    "pycharm": {
     "is_executing": true
    }
   },
   "outputs": [],
   "source": [
    "n = 3\n",
    "matrix = [input().split() for _ in range(n)]\n",
    "matrix"
   ]
  },
  {
   "cell_type": "code",
   "execution_count": 74,
   "id": "36c746c3",
   "metadata": {},
   "outputs": [
    {
     "name": "stdout",
     "output_type": "stream",
     "text": [
      "7 4 1 \n",
      "8 5 2 \n",
      "9 6 3 \n"
     ]
    }
   ],
   "source": [
    "matrix.reverse()\n",
    "for i in range(n):\n",
    "    for j in range(n):\n",
    "        print(matrix[j][i], end = ' ')\n",
    "    print()            "
   ]
  },
  {
   "attachments": {
    "image.png": {
     "image/png": "[encoded data removed]"
    }
   },
   "cell_type": "markdown",
   "id": "82cc3df3",
   "metadata": {},
   "source": [
    "### Ходы коня\n",
    "На шахматной доске 8×8 стоит конь. Напишите программу, которая отмечает положение коня на доске и все клетки, которые бьет конь. Клетку, где стоит конь, отметьте английской буквой N, клетки, которые бьет конь, отметьте символами *, остальные клетки заполните точками.\n",
    "\n",
    "На вход программе подаются координаты коня на шахматной доске в шахматной нотации (то есть в виде e4, где сначала записывается номер столбца (буква от a до h, слева направо), затем номеру строки (цифра от 1 до 8, снизу вверх)).\n",
    "\n",
    "Программа должна вывести на экран изображение доски, разделяя элементы пробелами.\n",
    "\n",
    "Примечание. Шахматная доска имеет вид:\n",
    "![image.png](attachment:image.png)"
   ]
  },
  {
   "cell_type": "code",
   "execution_count": 161,
   "id": "2d10465a",
   "metadata": {},
   "outputs": [
    {
     "name": "stdout",
     "output_type": "stream",
     "text": [
      ". . . . . . . .\n",
      ". . . . . . . .\n",
      ". . . . . . . .\n",
      ". . . . . . . .\n",
      ". . . . . . . .\n",
      ". . . . . . . .\n",
      ". . . . . . . .\n",
      ". . . . . . . .\n"
     ]
    }
   ],
   "source": [
    "n = 8\n",
    "matrix = [['.']*n for _ in range(n)] \n",
    "matrix\n",
    "for row in matrix:\n",
    "    print(*row)"
   ]
  },
  {
   "cell_type": "code",
   "execution_count": 162,
   "id": "0ae33a43",
   "metadata": {},
   "outputs": [],
   "source": [
    "xy = 'b6'\n",
    "y = '87654321'.index(xy[1])  # строка\n",
    "x = 'abcdefgh'.index(xy[0])  # колонка"
   ]
  },
  {
   "cell_type": "code",
   "execution_count": 163,
   "id": "273eee47",
   "metadata": {},
   "outputs": [
    {
     "name": "stdout",
     "output_type": "stream",
     "text": [
      "* . * . . . . .\n",
      ". . . * . . . .\n",
      ". N . . . . . .\n",
      ". . . * . . . .\n",
      "* . * . . . . .\n",
      ". . . . . . . .\n",
      ". . . . . . . .\n",
      ". . . . . . . .\n"
     ]
    }
   ],
   "source": [
    "for i in range(n):\n",
    "    for j in range(n):\n",
    "        matrix[y][x] = 'N'\n",
    "        if abs((y - i) * (x - j)) == 2:\n",
    "            matrix[i][j] = '*'\n",
    "for row in matrix:\n",
    "    print(*row)            "
   ]
  },
  {
   "cell_type": "markdown",
   "id": "23874c85",
   "metadata": {},
   "source": [
    "### Магический квадрат 🌶️\n",
    "Магическим квадратом порядка n называется квадратная таблица размера n×n, составленная из всех чисел 1, 2, 3,…,n^2 так, что суммы по каждому столбцу, каждой строке и каждой из двух диагоналей равны между собой. Напишите программу, которая проверяет, является ли заданная квадратная матрица магическим квадратом.\n",
    "\n",
    "На вход программе подаётся натуральное число n — количество строк и столбцов в матрице, затем элементы матрицы: n строк, по n чисел в каждой, разделённые пробелами.\n",
    "\n",
    "Программа должна вывести слово YES, если матрица является магическим квадратом, и слово NO в противном случае."
   ]
  },
  {
   "cell_type": "code",
   "execution_count": 213,
   "id": "68464f98",
   "metadata": {},
   "outputs": [
    {
     "name": "stdout",
     "output_type": "stream",
     "text": [
      "2 2 2 2 2 2 2 2 2 2\n",
      "2 2 2 2 2 2 2 2 2 2\n",
      "2 2 2 2 2 2 2 2 2 2\n",
      "2 2 2 2 2 2 2 2 2 2\n",
      "2 2 2 2 2 2 2 2 2 2\n",
      "2 2 2 2 2 2 2 2 2 2\n",
      "2 2 2 2 2 2 2 2 2 2\n",
      "2 2 2 2 2 2 2 2 2 2\n",
      "2 2 2 2 2 2 2 2 2 2\n",
      "2 2 2 2 2 2 2 2 2 2\n"
     ]
    },
    {
     "data": {
      "text/plain": [
       "[[2, 2, 2, 2, 2, 2, 2, 2, 2, 2],\n",
       " [2, 2, 2, 2, 2, 2, 2, 2, 2, 2],\n",
       " [2, 2, 2, 2, 2, 2, 2, 2, 2, 2],\n",
       " [2, 2, 2, 2, 2, 2, 2, 2, 2, 2],\n",
       " [2, 2, 2, 2, 2, 2, 2, 2, 2, 2],\n",
       " [2, 2, 2, 2, 2, 2, 2, 2, 2, 2],\n",
       " [2, 2, 2, 2, 2, 2, 2, 2, 2, 2],\n",
       " [2, 2, 2, 2, 2, 2, 2, 2, 2, 2],\n",
       " [2, 2, 2, 2, 2, 2, 2, 2, 2, 2],\n",
       " [2, 2, 2, 2, 2, 2, 2, 2, 2, 2]]"
      ]
     },
     "execution_count": 213,
     "metadata": {},
     "output_type": "execute_result"
    }
   ],
   "source": [
    "n = 10\n",
    "matrix = [[int(i) for i in input().split()] for _ in range(n)] \n",
    "matrix"
   ]
  },
  {
   "cell_type": "code",
   "execution_count": 218,
   "id": "55b3f952",
   "metadata": {},
   "outputs": [
    {
     "data": {
      "text/plain": [
       "20.0"
      ]
     },
     "execution_count": 218,
     "metadata": {},
     "output_type": "execute_result"
    }
   ],
   "source": [
    "sum1 = 0\n",
    "sum2 = 0\n",
    "sum3 = 0\n",
    "sum4 = 0\n",
    "for i in range(n):\n",
    "    sum1 += matrix[i][i]                        # главная диагональ\n",
    "    sum2 += matrix[i][n-i-1]                    # побочная диагональ\n",
    "    sum3 += sum(matrix[i])/n                    # строка\n",
    "    sum4 += sum([col[i] for col in matrix])/n   # столбец\n",
    "\n",
    "sum4"
   ]
  },
  {
   "cell_type": "code",
   "execution_count": 229,
   "id": "89ac9baa",
   "metadata": {},
   "outputs": [
    {
     "data": {
      "text/plain": [
       "[8, 1, 6, 3, 5, 7, 4, 9, 2, 8, 1, 6, 3, 5, 7, 4, 9, 2]"
      ]
     },
     "execution_count": 229,
     "metadata": {},
     "output_type": "execute_result"
    }
   ],
   "source": [
    "check = []                       # создаем список\n",
    "for i in range(n):\n",
    "    for j in range(n):\n",
    "        check.append(matrix[i][j]) \n",
    "chek"
   ]
  },
  {
   "cell_type": "code",
   "execution_count": 230,
   "id": "e546bd32",
   "metadata": {},
   "outputs": [],
   "source": [
    "for i in range(1, len(check) + 1):    # проверяем проверочный список на наличие всех чисел в промежутке от 1 до n ** 2\n",
    "        if i not in check:\n",
    "            print(\"NO\") \n",
    "            "
   ]
  },
  {
   "cell_type": "code",
   "execution_count": 187,
   "id": "9c6c9b67",
   "metadata": {},
   "outputs": [
    {
     "name": "stdout",
     "output_type": "stream",
     "text": [
      "True\n"
     ]
    }
   ],
   "source": [
    "if sum1 == sum2 == sum3 == sum4:\n",
    "        print('YES')\n",
    "else:\n",
    "        print('NO')"
   ]
  },
  {
   "cell_type": "markdown",
   "id": "ca3d1946",
   "metadata": {},
   "source": [
    "**правильный вариант**"
   ]
  },
  {
   "cell_type": "code",
   "execution_count": 222,
   "id": "d162ee4f",
   "metadata": {},
   "outputs": [
    {
     "name": "stdout",
     "output_type": "stream",
     "text": [
      "3\n",
      "8 1 6\n",
      "3 5 7\n",
      "4 9 2\n",
      "YES\n"
     ]
    }
   ],
   "source": [
    "def magic_square():\n",
    "    \n",
    "    cols = int(input())\n",
    "    matrix = []\n",
    "    sum_main_diag = 0\n",
    "    sum_semi_diag = 0\n",
    "    check = []\n",
    "\n",
    "    for i in range(cols):                                # заполняем матрицу\n",
    "        elem = [int(num) for num in input().split()]\n",
    "        matrix.append(elem)\n",
    "\n",
    "    for i in range(cols):                                # заполняем проверочный список всеми элементами матрицы\n",
    "        check += matrix[i]\n",
    "\n",
    "    for i in range(1, len(check) + 1):                   # проверяем проверочный список на наличие всех чисел в промежутке от 1 до n ** 2\n",
    "        if i not in check:\n",
    "            return print(\"NO\")                           # если нет какого-то числа, то значит дальше нет смысла проверять равенство, завершаем с NO\n",
    "\n",
    "    for i in range(cols):                                # проверяем равенство диагоналей\n",
    "        sum_main_diag += matrix[i][i]\n",
    "        sum_semi_diag += matrix[i][cols - 1 - i]\n",
    "\n",
    "    for i in range(cols):                                # проверяем равенство строк, столбцов и диагоналей\n",
    "        sum_cols = 0\n",
    "        sum_rows = 0\n",
    "        for j in range(cols):\n",
    "            sum_cols += matrix[i][j]\n",
    "            sum_rows += matrix[j][i]\n",
    "        if not sum_cols == sum_rows == sum_main_diag == sum_semi_diag:\n",
    "            return print(\"NO\")                           # если что-то не равно, завершаем с NO\n",
    "    else:\n",
    "        return print(\"YES\")                              # если всё хорошо, завершаем с YES\n",
    "\n",
    "\n",
    "magic_square()"
   ]
  },
  {
   "cell_type": "code",
   "execution_count": null,
   "id": "933299d1",
   "metadata": {},
   "outputs": [],
   "source": []
  }
 ],
 "metadata": {
  "kernelspec": {
   "display_name": "Python 3 (ipykernel)",
   "language": "python",
   "name": "python3"
  },
  "language_info": {
   "codemirror_mode": {
    "name": "ipython",
    "version": 3
   },
   "file_extension": ".py",
   "mimetype": "text/x-python",
   "name": "python",
   "nbconvert_exporter": "python",
   "pygments_lexer": "ipython3",
   "version": "3.9.7"
  }
 },
 "nbformat": 4,
 "nbformat_minor": 5
}
