{
 "cells": [
  {
   "cell_type": "markdown",
   "metadata": {},
   "source": [
    "## Тема урока: операции над матрицами\n",
    "- Сложение матриц\n",
    "- Умножение матрицы на число\n",
    "- Умножение матриц\n",
    "Аннотация. Урок посвящен основным операциям над матрицами в математике.\n",
    "\n",
    "### Сложение матриц\n",
    "При сложении матриц A и B получается такая матрица C, каждый элемент которой представляет собой сумму пары соответствующих элементов исходных матриц A и B. Складывать можно только матрицы **одинаковой размерности** n ×m, с равным количеством строк и столбцов. Таким образом, математически сумма матриц выглядит так:\n",
    "Cn×m​ =An×m​ + Bn×m​\n",
    "\n",
    "Каждый элемент искомой матрицы равен сумме соответствующих элементов заданных матриц:\n",
    "\n",
    "cij​ = aij​ + bij​\n",
    "\n",
    "Пример. Даны две матрицы:\n",
    "\n",
    "$$A=\\begin{bmatrix} 2& -3&1\\\\ 5 & 4 &-2 \\end{bmatrix}, B=\\begin{bmatrix} 4& 2&-5\\\\ -4 & 1 &3 \\end{bmatrix}$$\n",
    "\n",
    "Найти сумму матриц A+B.\n",
    "\n",
    "Решение. Имеем\n",
    "\n",
    "$$A + B = \\begin{bmatrix} 2& -3&1\\\\ 5 & 4 &-2 \\end{bmatrix} + \\begin{bmatrix} 4& 2&-5\\\\ -4 & 1 &3 \\end{bmatrix} = \\begin{bmatrix} 6& -1&-4\\\\ 1 & 5 & 1 \\end{bmatrix}$$\n",
    "\n",
    "### Свойства сложения матриц\n",
    "1. Коммутативность – результат сложения матриц не зависит от их перестановки:\n",
    "$A+B = B+A$;\n",
    "\n",
    "2. Ассоциативность – результат сложения матриц не зависит от расстановки скобок:\n",
    "$A + (B + C) = (A + B) + C$;\n",
    "\n",
    "3. . Сложение с нулевой матрицей – для любой матрицы существует нейтральный элемент, которым является нулевая матрица, сложение с которым не изменяет исходную матрицу.\n",
    "**Нулевая матрица** – матрица, все элементы которой имеют нулевое значение:\n",
    "$A+0 = 0 + A = A$;\n",
    "\n",
    "4. Существование противоположной матрицы – для ненулевой матрицы A всегда есть матрица −A, сложение с которой даст в результате нулевую матрицу:\n",
    "$A+(-A) = 0$.\n",
    "\n"
   ]
  },
  {
   "cell_type": "markdown",
   "metadata": {},
   "source": [
    "### Умножение матрицы на число\n",
    "Операция умножения матрицы A на число k заключается в построении матрицы $kA = [k \\cdot a_{ij}]$.\n",
    "\n",
    "Умножать на число можно матрицы любого размера. В результате умножения получается матрица того же размера, что исходная.\n",
    "\n",
    "Произведение матрицы A на число k – результирующая матрица $B = kA$ того же размера, полученная умножением каждого из элементов $a_{ij}$\n",
    "  исходной матрицы на заданное число.\n",
    "\n",
    "Пример. Даны матрица A и число k:\n",
    "\n",
    "$A=\\begin{bmatrix} 5& -2& 4\\\\ 3 & 1 &-3 \\end{bmatrix}, k=7$\n",
    "\n",
    "Найти произведение матрицы и числа.\n",
    "Решение. Имеем\n",
    "\n",
    "$k\\cdot A = 7\\cdot\\begin{bmatrix} 5& -2& 4\\\\ 3 & 1 &-3 \\end{bmatrix} = \\begin{bmatrix} 35& -14&28\\\\ 21 & 7 & -21 \\end{bmatrix}$\n",
    "\n",
    "### Свойства умножения матрицы на число\n",
    "1. Единица – нейтральное число умножения любой матрицы, результат умножения на нейтральное число – исходная матрица:\n",
    "$1 \\times A = A$;\n",
    "\n",
    "2. Результат умножения любой матрицы на ноль – нулевая матрица, все элементы которой равны нулю:\n",
    "$0 \\times A = 0$;\n",
    "\n",
    "3. Для матриц одного размера и действительного числа выполняется свойство **дистрибутивности** умножения относительно сложения:\n",
    "$k \\times (A + B) = k \\times A + k \\times B$;\n",
    "\n",
    "4. Для любой матрицы и суммы действительных чисел выполняется свойство дистрибутивности:\n",
    "$(k + n) \\times A = k \\times A + n \\times A$;\n",
    "\n",
    "5. Для любой матрицы и произведения любых действительных чисел выполняется свойство **ассоциативности** умножения:\n",
    "$(k \\times n) \\times A = k \\times (n \\times A)$.\n"
   ]
  },
  {
   "cell_type": "markdown",
   "metadata": {},
   "source": [
    "### Умножение матрицы на матрицу\n",
    "Умножение двух матриц A и B – вычисление результирующей матрицы C, каждый элемент $c_{ij}$\n",
    "  которой равен сумме произведений элементов соответствующих строки первой матрицы $a_{ir}$\n",
    "  и столбца второй матрицы $b_{rj}$.\n",
    "\n",
    "Одну матрицу можно умножать на другую только тогда, когда **количество столбцов** в первой матрице совпадает с **количеством строк** во второй матрице. То есть, матрицы должны быть согласованы по размерности. Результат умножения матрицы размера $n\\times m$ на матрицу размером $m\\times k$ – матрица размером $n\\times k$.\n",
    "\n",
    "Итак, произведение матрицы $A_{n\\times m}$ на матрицу $B_{m\\times k}$ – матрица $C_{n\\times k}$, элемент $c_{ij}$ которой, находящийся в i-ой строке и j-ом столбце, равен сумме произведений элементов i-ой строки матрицы A на соответствующие элементы j-ого столбца матрицы B.\n",
    "\n",
    "Каждый элемент матрицы $C_{n\\times k}$ равен:\n",
    "\n",
    "$c_{ij} = \\sum_{r=1} ^{m} a_{ir} \\cdot b_{rj} = a_{i1}\\cdot b_{1j} + a_{i2}\\cdot b_{2j}+\\ldots +a_{im}\\cdot b_{mj}$\n",
    "\n",
    "где r принимает значение от 1 до m.\n",
    "\n",
    "#### Пример. Даны две матрицы A и B:\n",
    "\n",
    "$A=\\begin{bmatrix} 2& -3&1\\\\ 5 & 4 &-2 \\end{bmatrix},  B=\\begin{bmatrix} -7& 5 \\\\ 2 &-1 \\\\ 4 &3 \\end{bmatrix}$\n",
    "\n",
    "Найти произведение матриц $A\\times B$.\n",
    "\n",
    "Решение. При перемножении матрицы $A_{2\\times 3}$ на матрицу $B_{3\\times 2}$ мы получаем матрицу $C_{2\\times 2}$. Имеем:\n",
    "\n",
    "$c_{11} = 2\\cdot(-7) + (-3)\\cdot 2 + 1 \\cdot 4 = -16, \\quad c_{12} = 2\\cdot 5 + (-3)\\cdot(-1) + 1\\cdot 3 = 16\\\\ c_{21} = 5\\cdot(-7) + 4\\cdot 2 + (-2) \\cdot 4 = -35, \\quad c_{22} = 5\\cdot 5 + 4\\cdot(-1) + (-2)\\cdot 3 = 15$\n",
    "\n",
    "Таким образом\n",
    "\n",
    "$A \\cdot B=\\begin{bmatrix} 2& -3&1\\\\ 5 & 4 &-2 \\end{bmatrix} \\cdot\\begin{bmatrix} -7& 5 \\\\ 2 &-1 \\\\ 4 &3 \\end{bmatrix} =\\begin{bmatrix} -16& 16\\\\ -35 & 15 \\end{bmatrix}$\n",
    "\n",
    "### Свойства умножения матриц\n",
    "1. Ассоциативность – $(A\\times B)\\times C = A\\times (B\\times C)$;\n",
    "\n",
    "2. Дистрибутивность –\n",
    "$A\\times (B + C) = A\\times B + A\\times C, (A+B)\\times C = A\\times C + B \\times C$;\n",
    "\n",
    "3. Ассоциативность и коммутативность относительно умножения на число –\n",
    "$(k\\times A)\\times B = k\\times (A\\times B) = A\\times (k\\times B)$;\n",
    "\n",
    "4. В общем случае умножение матриц не коммутативно –\n",
    "$A\\times B \\neq B\\times A$;"
   ]
  },
  {
   "cell_type": "markdown",
   "metadata": {},
   "source": [
    "### Сложение матриц\n",
    "Напишите программу для вычисления суммы двух матриц.\n",
    "\n",
    "На вход программе подаются два натуральных числа n и m — количество строк и столбцов в матрицах, затем элементы первой матрицы, затем пустая строка, далее следуют элементы второй матрицы.\n",
    "\n",
    "Программа должна вывести результирующую матрицу, разделяя элементы символом пробела."
   ]
  },
  {
   "cell_type": "code",
   "execution_count": 2,
   "metadata": {},
   "outputs": [],
   "source": [
    "n, m = 2, 4    # n, m = [int(i) for i in input().split()]"
   ]
  },
  {
   "cell_type": "code",
   "execution_count": 3,
   "metadata": {},
   "outputs": [
    {
     "data": {
      "text/plain": [
       "[[1, 2, 3, 4], [5, 6, 7, 1], [], [3, 2, 1, 2], [1, 3, 1, 3]]"
      ]
     },
     "execution_count": 3,
     "metadata": {},
     "output_type": "execute_result"
    }
   ],
   "source": [
    "matrix = [[int(i) for i in input().split()] for _ in range(2*n+1)]\n",
    "matrix"
   ]
  },
  {
   "cell_type": "code",
   "execution_count": 5,
   "metadata": {},
   "outputs": [
    {
     "data": {
      "text/plain": [
       "[[1, 2, 3, 4], [5, 6, 7, 1]]"
      ]
     },
     "execution_count": 5,
     "metadata": {},
     "output_type": "execute_result"
    }
   ],
   "source": [
    "matrix1 = []\n",
    "for row in range(n):\n",
    "    matrix1.append(matrix[row])\n",
    "matrix1"
   ]
  },
  {
   "cell_type": "code",
   "execution_count": 18,
   "metadata": {},
   "outputs": [
    {
     "data": {
      "text/plain": [
       "[[3, 2, 1, 2], [1, 3, 1, 3]]"
      ]
     },
     "execution_count": 18,
     "metadata": {},
     "output_type": "execute_result"
    }
   ],
   "source": [
    "matrix2 = []\n",
    "for row in range(n+1, 2*n+1):\n",
    "    matrix2.append(matrix[row])\n",
    "matrix2"
   ]
  },
  {
   "cell_type": "code",
   "execution_count": 31,
   "metadata": {},
   "outputs": [
    {
     "name": "stdout",
     "output_type": "stream",
     "text": [
      "4 4 4 6\n",
      "6 9 8 4\n"
     ]
    }
   ],
   "source": [
    "matrix3 = [[0] * m for _ in range(n)]\n",
    "for i in range(n):\n",
    "    for j in range(m):\n",
    "        matrix3[i][j] = matrix1[i][j] + matrix2[i][j]\n",
    "for row in matrix3:\n",
    "    print(*row)"
   ]
  },
  {
   "cell_type": "markdown",
   "metadata": {},
   "source": [
    "**еще вариант**"
   ]
  },
  {
   "cell_type": "code",
   "execution_count": 32,
   "metadata": {},
   "outputs": [
    {
     "name": "stdout",
     "output_type": "stream",
     "text": [
      "4 4 4 6\n",
      "6 9 8 4\n"
     ]
    }
   ],
   "source": [
    "matrix3 = [map(sum, zip(*i)) for i in zip(matrix1, matrix2)]\n",
    "for row in matrix3:\n",
    "    print(*row)"
   ]
  },
  {
   "cell_type": "code",
   "execution_count": 33,
   "metadata": {},
   "outputs": [
    {
     "name": "stdout",
     "output_type": "stream",
     "text": [
      "4 4 4 6\n",
      "6 9 8 4\n"
     ]
    }
   ],
   "source": [
    "n, m = 2, 4  # [int(i) for i in input().split()]\n",
    "matrixA = [[int(i) for i in input().split()] for _ in range(n)]\n",
    "input()\n",
    "matrixB = [[int(i) for i in input().split()] for _ in range(n)]\n",
    "matrixC = [[0] * m for _ in range(n)]\n",
    "\n",
    "for i in range(n):\n",
    "    for j in range(m):\n",
    "        matrixC[i][j] = matrixA[i][j] + matrixB[i][j]\n",
    "\n",
    "for row in matrixC:\n",
    "    print(*row)"
   ]
  },
  {
   "cell_type": "markdown",
   "metadata": {},
   "source": [
    "### Умножение матриц 🌶️\n",
    "Напишите программу, которая перемножает две матрицы.\n",
    "\n",
    "На вход программе подаются два натуральных числа n и m — количество строк и столбцов в первой матрице, затем элементы первой матрицы, затем пустая строка. Далее следуют числа m и k — количество строк и столбцов второй матрицы затем элементы второй матрицы.\n",
    "\n",
    "Программа должна вывести результирующую матрицу, разделяя элементы символом пробела."
   ]
  },
  {
   "cell_type": "code",
   "execution_count": 51,
   "metadata": {},
   "outputs": [
    {
     "data": {
      "text/plain": [
       "[[1, 2], [3, 2]]"
      ]
     },
     "execution_count": 51,
     "metadata": {},
     "output_type": "execute_result"
    }
   ],
   "source": [
    "n, m = 2, 2  # [int(i) for i in input().split()]\n",
    "matrixA = [[int(i) for i in input().split()] for _ in range(n)]\n",
    "input()\n",
    "m, k = 2, 2  # [int(i) for i in input().split()]\n",
    "matrixB = [[int(i) for i in input().split()] for _ in range(m)]\n",
    "matrixA"
   ]
  },
  {
   "cell_type": "code",
   "execution_count": 52,
   "metadata": {},
   "outputs": [
    {
     "data": {
      "text/plain": [
       "[[3, 2], [1, 1]]"
      ]
     },
     "execution_count": 52,
     "metadata": {},
     "output_type": "execute_result"
    }
   ],
   "source": [
    "matrixB"
   ]
  },
  {
   "cell_type": "code",
   "execution_count": 53,
   "metadata": {},
   "outputs": [
    {
     "data": {
      "text/plain": [
       "[[0, 0], [0, 0]]"
      ]
     },
     "execution_count": 53,
     "metadata": {},
     "output_type": "execute_result"
    }
   ],
   "source": [
    "matrixC = [[0] * k for _ in range(n)]\n",
    "matrixC"
   ]
  },
  {
   "cell_type": "code",
   "execution_count": 54,
   "metadata": {},
   "outputs": [
    {
     "name": "stdout",
     "output_type": "stream",
     "text": [
      "5 4\n",
      "11 8\n"
     ]
    }
   ],
   "source": [
    "for i in range(n):\n",
    "    for j in range(k):\n",
    "        for x in range(m):\n",
    "            matrixC[i][j] += matrixA[i][x] * matrixB[x][j]\n",
    "\n",
    "for row in matrixC:\n",
    "    print(*row)"
   ]
  },
  {
   "cell_type": "markdown",
   "metadata": {},
   "source": [
    "### Возведение матрицы в степень 🌶️\n",
    "Напишите программу, которая возводит квадратную матрицу в m-ую степень.\n",
    "\n",
    "На вход программе подаётся натуральное число n — количество строк и столбцов в матрице, затем элементы матрицы, затем натуральное число m.\n",
    "\n",
    "Программа должна вывести результирующую матрицу, разделяя элементы символом пробела."
   ]
  },
  {
   "cell_type": "code",
   "execution_count": 55,
   "metadata": {},
   "outputs": [
    {
     "data": {
      "text/plain": [
       "[[1, 2, 3], [4, 5, 6], [7, 8, 9]]"
      ]
     },
     "execution_count": 55,
     "metadata": {},
     "output_type": "execute_result"
    }
   ],
   "source": [
    "n = 3  # int(input())\n",
    "matrix = [[int(item) for item in input().split()] for _ in range(n)]\n",
    "m = 2  # int(input())\n",
    "matrix"
   ]
  },
  {
   "cell_type": "code",
   "execution_count": 65,
   "metadata": {},
   "outputs": [
    {
     "name": "stdout",
     "output_type": "stream",
     "text": [
      "30 36 42\n",
      "66 81 96\n",
      "102 126 150\n"
     ]
    }
   ],
   "source": [
    "import numpy as np\n",
    "matrixQ = np.linalg.matrix_power(np.array(matrix), m)\n",
    "for row in matrixQ:\n",
    "    print(*row)"
   ]
  },
  {
   "cell_type": "markdown",
   "metadata": {},
   "source": [
    "еще вариант"
   ]
  },
  {
   "cell_type": "code",
   "execution_count": 66,
   "metadata": {},
   "outputs": [
    {
     "name": "stdout",
     "output_type": "stream",
     "text": [
      "30 36 42\n",
      "66 81 96\n",
      "102 126 150\n"
     ]
    }
   ],
   "source": [
    "def square_matrix_mult(matrixA, matrixB, size):\n",
    "    matrixC = [[0] * size for _ in range(size)]\n",
    "    for i in range(size):\n",
    "        for j in range(size):\n",
    "            for q in range(size):\n",
    "                matrixC[i][j] += matrixA[i][q] * matrixB[q][j]\n",
    "    return matrixC\n",
    "\n",
    "n = int(input())\n",
    "matrix = [[int(i) for i in input().split()] for _ in range(n)]\n",
    "m = int(input())\n",
    "powered_matrix = matrix.copy()\n",
    "\n",
    "for _ in range(m - 1):\n",
    "    powered_matrix = square_matrix_mult(matrix, powered_matrix, n)\n",
    "\n",
    "for row in powered_matrix:\n",
    "    print(*row)"
   ]
  },
  {
   "cell_type": "code",
   "execution_count": null,
   "metadata": {},
   "outputs": [],
   "source": []
  }
 ],
 "metadata": {
  "kernelspec": {
   "display_name": "Python 3 (ipykernel)",
   "language": "python",
   "name": "python3"
  },
  "language_info": {
   "codemirror_mode": {
    "name": "ipython",
    "version": 3
   },
   "file_extension": ".py",
   "mimetype": "text/x-python",
   "name": "python",
   "nbconvert_exporter": "python",
   "pygments_lexer": "ipython3",
   "version": "3.9.7"
  }
 },
 "nbformat": 4,
 "nbformat_minor": 1
}
